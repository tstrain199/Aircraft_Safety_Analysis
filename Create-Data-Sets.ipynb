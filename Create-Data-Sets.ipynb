{
 "cells": [
  {
   "cell_type": "markdown",
   "metadata": {},
   "source": [
    "## Data Cleaning and Preparation\n",
    "***"
   ]
  },
  {
   "cell_type": "code",
   "execution_count": 1,
   "metadata": {},
   "outputs": [],
   "source": [
    "import pandas as pd\n",
    "import numpy as np\n",
    "import glob\n",
    "import re\n",
    "from bs4 import BeautifulSoup \n",
    "import requests\n",
    "import pickle \n",
    "import matplotlib.pyplot as plt"
   ]
  },
  {
   "cell_type": "code",
   "execution_count": 2,
   "metadata": {},
   "outputs": [],
   "source": [
    "# Load in T100 data from csv files\n",
    "\n",
    "files_li = glob.glob('zippedData/T_T100D*.2.csv') \n",
    "bts_df = pd.DataFrame(pd.read_csv(files_li[0])) \n",
    "for i in range(1,len(files_li)): \n",
    "    data = pd.read_csv(files_li[i]) \n",
    "    df1 = pd.DataFrame(data) \n",
    "    bts_df = pd.concat([df1,bts_df],axis=0, ignore_index=True) "
   ]
  },
  {
   "cell_type": "code",
   "execution_count": 3,
   "metadata": {},
   "outputs": [],
   "source": [
    "# Keep only top 40 used aircraft models\n",
    "\n",
    "bts_40 = bts_df['AIRCRAFT_TYPE'].value_counts().head(40).index.to_list()\n",
    "indexNum = bts_df[~bts_df['AIRCRAFT_TYPE'].isin(bts_40)].index\n",
    "bts_df.drop(indexNum , inplace=True)"
   ]
  },
  {
   "cell_type": "code",
   "execution_count": 4,
   "metadata": {},
   "outputs": [],
   "source": [
    "# Get list of top 40 aircraft names for data cleaning\n",
    "\n",
    "#bts_des = bts_df['AIRCRAFT_TYPE'].value_counts.to_frame()\n",
    "bts_des = pd.DataFrame(pd.unique(bts_df['AIRCRAFT_TYPE']), columns =['AIRCRAFT_TYPE'])"
   ]
  },
  {
   "cell_type": "code",
   "execution_count": 5,
   "metadata": {},
   "outputs": [],
   "source": [
    "# BTS uses number code to identify aircraft type in it's flight data. The legend is in a seperate csv file. \n",
    "# Load in the legend for aircraft type. \n",
    "\n",
    "ac_df = pd.read_csv('zippedData/L_AIRCRAFT_TYPE.csv')"
   ]
  },
  {
   "cell_type": "code",
   "execution_count": 6,
   "metadata": {},
   "outputs": [],
   "source": [
    "# Merge flight data with aircfaft type. This will match BTS type names to the fligt data.\n",
    "\n",
    "bts_des = pd.merge(bts_des,ac_df,left_on='AIRCRAFT_TYPE',right_on='Code')"
   ]
  },
  {
   "cell_type": "code",
   "execution_count": 7,
   "metadata": {},
   "outputs": [],
   "source": [
    "# Drop piston aircraft\n",
    "#bts_des = bts_des.drop(index=[5, 10, 18, 26, 29, 31, 37])\n",
    "i = bts_des[(bts_des['Code'] == 40)].index\n",
    "j = bts_des[(bts_des['Code'] == 35)].index\n",
    "k = bts_des[(bts_des['Code'] == 194)].index\n",
    "l = bts_des[(bts_des['Code'] == 79)].index\n",
    "m = bts_des[(bts_des['Code'] == 479)].index\n",
    "n = bts_des[(bts_des['Code'] == 415)].index\n",
    "o = bts_des[(bts_des['Code'] == 416)].index\n",
    "bts_des = bts_des.drop(i)\n",
    "bts_des = bts_des.drop(j)\n",
    "bts_des = bts_des.drop(k)\n",
    "bts_des = bts_des.drop(l)\n",
    "bts_des = bts_des.drop(m)\n",
    "bts_des = bts_des.drop(n)\n",
    "bts_des = bts_des.drop(o)\n"
   ]
  },
  {
   "cell_type": "code",
   "execution_count": 8,
   "metadata": {},
   "outputs": [],
   "source": [
    "common_words = ['BOEING','CHEROKEE', 'AIRBUS', 'INDUSTRIE', 'CANADAIR', 'EMBRAER', 'MCDONNELL', 'DOUGLAS', \n",
    "                'DE', 'HAVILLAND', 'BEAVER', 'SUPER', 'NAVAJO', 'EM', 'ER', 'BEECH']"
   ]
  },
  {
   "cell_type": "code",
   "execution_count": 9,
   "metadata": {},
   "outputs": [],
   "source": [
    "common_words_eng = ['ILYUSHIN', 'ANTONOV', 'JUNKERS', 'LOCKHEED', 'BOEING','AIRBUS', 'INDUSTRIE', \n",
    "                    'CANADAIR', 'EMBRAER', 'STATIONAIR','MCDONNELL', 'DOUGLAS', 'DE', 'HAVILLAND', 'BEAVER',\n",
    "                    'SUPER','NAVAJO', 'EM', 'ER', 'BEECH', 'CRAFT', 'BOMBARDIER','CANADA']"
   ]
  },
  {
   "cell_type": "code",
   "execution_count": 10,
   "metadata": {},
   "outputs": [],
   "source": [
    "common_words_emi = ['TRENT', 'CFMI', 'PRATT & WHITNEY', 'GENERAL ELECTRIC', 'CANADA',\n",
    "                    'ROLLSROYCE', 'LYCOMING', 'ALLISON', 'GARRETT', 'CONTINENTAL', 'IAE']"
   ]
  },
  {
   "cell_type": "code",
   "execution_count": 11,
   "metadata": {},
   "outputs": [],
   "source": [
    "def short_name(name, x):\n",
    "    if len(name) >= x:\n",
    "        short_name = name[:x]\n",
    "        return(short_name)\n",
    "    return(name)"
   ]
  },
  {
   "cell_type": "code",
   "execution_count": 12,
   "metadata": {},
   "outputs": [],
   "source": [
    "def remove_dash(name):\n",
    "    name = name.replace('-', '')\n",
    "    return(name)"
   ]
  },
  {
   "cell_type": "code",
   "execution_count": 13,
   "metadata": {},
   "outputs": [],
   "source": [
    "def convert_upper(name):\n",
    "    name = name.upper()\n",
    "    return(name)"
   ]
  },
  {
   "cell_type": "code",
   "execution_count": 14,
   "metadata": {},
   "outputs": [],
   "source": [
    "def convert_date(date):\n",
    "    date = date.astype('datetime64[ns]')\n",
    "    return(date)"
   ]
  },
  {
   "cell_type": "code",
   "execution_count": 15,
   "metadata": {},
   "outputs": [],
   "source": [
    "def remove_slash(name):\n",
    "    res = re.match(r\"^[^/]*\", name)\n",
    "    return(str(res.group())) "
   ]
  },
  {
   "cell_type": "code",
   "execution_count": 16,
   "metadata": {},
   "outputs": [],
   "source": [
    "def remove_common(name, common_w):\n",
    "    for common in common_w:\n",
    "        name = name.replace(common, '')\n",
    "    return(name)"
   ]
  },
  {
   "cell_type": "code",
   "execution_count": 17,
   "metadata": {},
   "outputs": [],
   "source": [
    "def remove_space(name):\n",
    "    name = name.replace(' ', \"\")\n",
    "    return(name)"
   ]
  },
  {
   "cell_type": "code",
   "execution_count": 18,
   "metadata": {},
   "outputs": [],
   "source": [
    "\n",
    "def convert_boeing(name):\n",
    "    if re.match(r\"^(7)(.)(7)\", name):\n",
    "        name = name[:3]\n",
    "    return name"
   ]
  },
  {
   "cell_type": "code",
   "execution_count": 19,
   "metadata": {},
   "outputs": [],
   "source": [
    "def convert_crj(name):\n",
    "    if re.match(r\"^RJ\", name):\n",
    "        name = name.replace('RJ', 'CRJ')\n",
    "    return name"
   ]
  },
  {
   "cell_type": "code",
   "execution_count": 20,
   "metadata": {},
   "outputs": [],
   "source": [
    "bts_des.loc[bts_des['Code'] == 629, 'Description'] = 'Canadair RJ-200'\n",
    "bts_des.loc[bts_des['Code'] == 631, 'Description'] = 'Canadair RJ-700'\n",
    "bts_des.loc[bts_des['Code'] == 638, 'Description'] = 'Canadair RJ-900'\n",
    "bts_des.loc[bts_des['Code'] == 838, 'Description'] = 'Boeing 737-800'\n",
    "bts_des.loc[bts_des['Code'] == 674, 'Description'] = 'Embraer ERJ-130'\n",
    "bts_des.loc[bts_des['Code'] == 676, 'Description'] = 'Embraer ERJ-140'\n",
    "bts_des.loc[bts_des['Code'] == 675, 'Description'] = 'Embraer ERJ-145'\n",
    "bts_des.loc[bts_des['Code'] == 677, 'Description'] = 'Embraer ERJ-170'\n",
    "bts_des.loc[bts_des['Code'] == 678, 'Description'] = 'Embraer ERJ-190'"
   ]
  },
  {
   "cell_type": "code",
   "execution_count": 21,
   "metadata": {},
   "outputs": [],
   "source": [
    "bts_des['Description'] = [convert_upper(x) for x in bts_des['Description']]\n",
    "bts_des['Description'] = [remove_slash(x) for x in bts_des['Description']]\n",
    "bts_des['Description'] = [remove_dash(x) for x in bts_des['Description']]\n",
    "bts_des['Description'] = [remove_common(x, common_words) for x in bts_des['Description']]\n",
    "bts_des['Description'] = [remove_space(x) for x in bts_des['Description']]\n",
    "bts_des['Description'] = [short_name(x, 4) for x in bts_des['Description']]\n",
    "bts_des['Description'] = [convert_boeing(x) for x in bts_des['Description']]\n",
    "bts_des['Description'] = [convert_crj(x) for x in bts_des['Description']]"
   ]
  },
  {
   "cell_type": "code",
   "execution_count": 22,
   "metadata": {},
   "outputs": [],
   "source": [
    "bts_df = pd.merge(bts_df,bts_des[['Code', 'Description']],left_on='AIRCRAFT_TYPE', right_on='Code')"
   ]
  },
  {
   "cell_type": "code",
   "execution_count": 23,
   "metadata": {},
   "outputs": [],
   "source": [
    "bts_des.drop(['AIRCRAFT_TYPE', 'Code'], axis=1, inplace=True)"
   ]
  },
  {
   "cell_type": "markdown",
   "metadata": {},
   "source": [
    "## Crash Data"
   ]
  },
  {
   "cell_type": "code",
   "execution_count": 24,
   "metadata": {},
   "outputs": [],
   "source": [
    "# Import Data Set from CSV\n",
    "\n",
    "crash_df = pd.read_csv('zippedData/AviationData.csv', encoding='latin-1', dtype={6: str, 7: str, 14: str, 15: str,\n",
    "                                                                                 28: str})"
   ]
  },
  {
   "cell_type": "code",
   "execution_count": 27,
   "metadata": {},
   "outputs": [],
   "source": [
    "# Drop rows before 2012 so we can match data by year in bts_df\n",
    "date_mask = (crash_df['Event.Date'] > '2011-12-31')\n",
    "\n",
    "# THIS RETURNS ALL ROWS GREATER THAN THE DATE PROVIDED ABOVE\n",
    "crash_df = crash_df.loc[date_mask]\n",
    "\n",
    "# Rows without an aircraft model type don't help use. Dropping these rows.\n",
    "crash_df = crash_df.dropna(subset=['Model'])"
   ]
  },
  {
   "cell_type": "code",
   "execution_count": 28,
   "metadata": {},
   "outputs": [],
   "source": [
    "# Some values in Make are upper, and some are mixed case. Change the Make column to all uppercase\n",
    "#crash_df['Make'] = crash_df['Make'].str.upper()\n",
    "\n",
    "# Convert Event.Date from string to datetime. Used to filter df on years\n",
    "crash_df['Event.Date'] = crash_df['Event.Date'].astype('datetime64[ns]')"
   ]
  },
  {
   "cell_type": "code",
   "execution_count": 29,
   "metadata": {},
   "outputs": [],
   "source": [
    "crash_df['Model'] = [convert_upper(x) for x in crash_df['Model']]\n",
    "#crash_df['Event.Date'] = [convert_date(x) for x in crash_df['Event.Date']]\n",
    "crash_df['Model'] = [remove_slash(x) for x in crash_df['Model']]\n",
    "crash_df['Model'] = [remove_dash(x) for x in crash_df['Model']]\n",
    "crash_df['Model'] = [remove_common(x, common_words) for x in crash_df['Model']]\n",
    "crash_df['Model'] = [remove_space(x) for x in crash_df['Model']]\n",
    "crash_df['Model'] = [short_name(x, 4) for x in crash_df['Model']]\n",
    "crash_df['Model'] = [convert_boeing(x) for x in crash_df['Model']]\n",
    "#crash_df['Model'].replace('PA-', 'PA', inplace=True, regex=True)"
   ]
  },
  {
   "cell_type": "code",
   "execution_count": 30,
   "metadata": {},
   "outputs": [],
   "source": [
    "def match_types(model):\n",
    "    for newmodel in bts_des['Description']:\n",
    "        if newmodel.startswith(model):\n",
    "            #print(f'Processing: {model} \\t:{newmodel}')\n",
    "            return newmodel"
   ]
  },
  {
   "cell_type": "code",
   "execution_count": 31,
   "metadata": {},
   "outputs": [],
   "source": [
    "crash_df['NewModel'] = [match_types(model) for model in crash_df['Model']]"
   ]
  },
  {
   "cell_type": "markdown",
   "metadata": {},
   "source": [
    "## Engine Data"
   ]
  },
  {
   "cell_type": "code",
   "execution_count": 32,
   "metadata": {},
   "outputs": [],
   "source": [
    "# In place of running this and making lots of web requests, import the pickle file from below\n",
    "# Assign URL |\n",
    "#url = \"https://asn.flightsafety.org/database/engines/\"\n",
    "\n",
    "# Make a GET request to fetch the raw HTML content \n",
    "#html_content = requests.get(url).text \n",
    "\n",
    "# Parse the response with html.parser\n",
    "#soup = BeautifulSoup(html_content,\"html.parser\") \n",
    "\n",
    "# The data we need are wrapped in <a> tags. Grab all the <a> tags here and we'll filter later.\n",
    "#datas = soup.find_all(\"a\")\n",
    "\n",
    "\n",
    "#Make list of URLs and list oF Aircraft to create dictionary\n",
    "# k = []\n",
    "# v = []\n",
    "# for item in datas:\n",
    "#     if 'engine' in item['href']:\n",
    "#         k.append(item['href'])\n",
    "#         v.append(item.text)\n",
    "\n",
    "# lookup_dict = {'URL': k, 'Engine': v}\n",
    "\n",
    "\n",
    "#url_df = pd.DataFrame.from_dict(lookup_dict)\n",
    "\n",
    "# with open('lookup_dict.pkl', 'wb') as f:\n",
    "#     pickle.dump(lookup_dict, f)\n",
    "\n",
    "with open('zippedData/lookup_dict.pkl', 'rb') as f:\n",
    "    lookup_dict = pickle.load(f)"
   ]
  },
  {
   "cell_type": "code",
   "execution_count": 33,
   "metadata": {},
   "outputs": [],
   "source": [
    "# Take in the engine and retriev the matching data page with Aircraft data\n",
    "# Add Aircraft list from web a python list.\n",
    "# Return the python list\n",
    "\n",
    "# url_p1 = 'https://asn.flightsafety.org'\n",
    "# def lookup_ac(url_p2):\n",
    "#     return_list = []\n",
    "#     url = f'{url_p1}{url_p2}'\n",
    "#     sub_content = requests.get(url).text\n",
    "#     soup2 = BeautifulSoup(sub_content,\"html.parser\")\n",
    "#     u_list=soup2.find_all('ul')[1]\n",
    "#     i = 0 \n",
    "#     while i < len(u_list.select('li')):\n",
    "#         (u_list.select('li')[i].text)\n",
    "#         return_list.append(u_list.select('li')[i].text)\n",
    "#         i += 1\n",
    "#     return(return_list)\n",
    "\n",
    "# Create Aircraft column to list aircraft for each engine.\n",
    "#url_df['Aircraft'] = url_df['URL'].map(lookup_ac)\n",
    "\n",
    "# Save df to pickle file.\n",
    "#url_df.to_pickle('zippedData/url_df.pkl')\n",
    "\n",
    "with open('zippedData/url_df.pkl', 'rb') as f:\n",
    "    url_df = pickle.load(f)"
   ]
  },
  {
   "cell_type": "code",
   "execution_count": 34,
   "metadata": {},
   "outputs": [],
   "source": [
    "# Create a row for each aircraft for each engine. \n",
    "# Iterate through url_df['Aircraft'] column. For each element\n",
    "# in list, create a new row.\n",
    "\n",
    "engines = []\n",
    "aircraft = []\n",
    "for idx, row in url_df.iterrows():\n",
    "    for ac in row['Aircraft']:\n",
    "        engines.append(row['Engine'])\n",
    "        aircraft.append(ac)"
   ]
  },
  {
   "cell_type": "code",
   "execution_count": 35,
   "metadata": {},
   "outputs": [],
   "source": [
    "# Create dictionary from lists to load into dataFrame\n",
    "ac_eng_dict = {'Engine': engines, 'Aircraft': aircraft}"
   ]
  },
  {
   "cell_type": "code",
   "execution_count": 36,
   "metadata": {},
   "outputs": [],
   "source": [
    "# Create dataFrame from dictionary\n",
    "engines_df = pd.DataFrame.from_dict(ac_eng_dict)"
   ]
  },
  {
   "cell_type": "code",
   "execution_count": 37,
   "metadata": {},
   "outputs": [],
   "source": [
    "# df.loc[len(df.index)] = ['Amy', 89, 93] \n",
    "engines_df.loc[engines_df['Aircraft'] == 'Bombardier CRJ100 / 200 / 440'] = ['General Electric CF34','Canadair RJ-100']\n",
    "engines_df.loc[engines_df['Aircraft'] == 'Bombardier CRJ700'] = ['General Electric CF34','Canadair RJ-700']\n",
    "engines_df.loc[engines_df['Aircraft'] == 'Bombardier CRJ900'] = ['General Electric CF34','Canadair RJ-900']\n",
    "engines_df.loc[len(engines_df.index)] = ['General Electric CF34', 'Canadair RJ-200']\n",
    "engines_df.loc[len(engines_df.index)] = ['General Electric CF34', 'Canadair RJ-440']\n",
    "engines_df.loc[len(engines_df.index)] = ['General Electric CF34', 'Embraer ERJ-130']\n",
    "engines_df.loc[len(engines_df.index)] = ['General Electric CF34', 'Embraer ERJ-135']\n",
    "engines_df.loc[len(engines_df.index)] = ['General Electric CF34', 'Embraer ERJ-140']\n",
    "engines_df.loc[len(engines_df.index)] = ['General Electric CF34', 'Embraer ERJ-175']\n",
    "engines_df.loc[len(engines_df.index)] = ['General Electric CF34', 'Embraer ERJ-190']\n",
    "engines_df.loc[len(engines_df.index)] = ['Pratt & Whitney JT8D', 'McDonnell Douglas DC-9-80']"
   ]
  },
  {
   "cell_type": "code",
   "execution_count": 38,
   "metadata": {},
   "outputs": [],
   "source": [
    "engines_df['Aircraft'] = [convert_upper(x) for x in engines_df['Aircraft']]\n",
    "engines_df['Aircraft'] = [remove_slash(x) for x in engines_df['Aircraft']]\n",
    "engines_df['Aircraft'] = [remove_dash(x) for x in engines_df['Aircraft']]\n",
    "engines_df['Aircraft'] = [remove_common(x, common_words_eng) for x in engines_df['Aircraft']]\n",
    "engines_df['Aircraft'] = [remove_space(x) for x in engines_df['Aircraft']]\n",
    "engines_df['Aircraft'] = [short_name(x, 4) for x in engines_df['Aircraft']]\n",
    "engines_df['Aircraft'] = [convert_boeing(x) for x in engines_df['Aircraft']]\n",
    "engines_df['Aircraft'] = [convert_crj(x) for x in engines_df['Aircraft']]"
   ]
  },
  {
   "cell_type": "code",
   "execution_count": 39,
   "metadata": {},
   "outputs": [],
   "source": [
    "engines_df['Engine_Name'] = [convert_upper(x) for x in engines_df['Engine']]\n",
    "engines_df['Engine_Name'] = [remove_slash(x) for x in engines_df['Engine_Name']]\n",
    "engines_df['Engine_Name'] = [remove_dash(x) for x in engines_df['Engine_Name']]\n",
    "engines_df['Engine_Name'] = [remove_common(x, common_words_emi) for x in engines_df['Engine_Name']]\n",
    "engines_df['Engine_Name'] = [remove_common(x, common_words_emi) for x in engines_df['Engine_Name']]\n",
    "engines_df['Engine_Name'] = [remove_space(x) for x in engines_df['Engine_Name']]\n",
    "engines_df['Engine_Name'] = [short_name(x, 5) for x in engines_df['Engine_Name']]\n",
    "#engines_df['Engine_Name'] = [convert_boeing(x) for x in engines_df['Engine_Name']]\n",
    "#engines_df['Engine_Name'] = [convert_crj(x) for x in engines_df['Engine_Name']]"
   ]
  },
  {
   "cell_type": "code",
   "execution_count": 40,
   "metadata": {},
   "outputs": [],
   "source": [
    "bts_des = pd.merge(bts_des, engines_df,left_on='Description', right_on='Aircraft', how='left')"
   ]
  },
  {
   "cell_type": "code",
   "execution_count": 41,
   "metadata": {},
   "outputs": [],
   "source": [
    "bts_des.drop_duplicates(inplace=True)"
   ]
  },
  {
   "cell_type": "markdown",
   "metadata": {},
   "source": [
    "## Emissions Data"
   ]
  },
  {
   "cell_type": "code",
   "execution_count": 42,
   "metadata": {},
   "outputs": [],
   "source": [
    "emissions_df = pd.read_excel('zippedData/edb-emissions-databank_v30__web_.xlsx',\n",
    "                             sheet_name='Gaseous Emissions and Smoke', \n",
    "                             usecols=('A:D, AJ'))"
   ]
  },
  {
   "cell_type": "code",
   "execution_count": 43,
   "metadata": {},
   "outputs": [],
   "source": [
    "emissions_df['Engine Identification'] = [convert_upper(x) for x in emissions_df['Engine Identification']]\n",
    "emissions_df['Engine Identification'] = [remove_slash(x) for x in emissions_df['Engine Identification']]\n",
    "emissions_df['Engine Identification'] = [remove_dash(x) for x in emissions_df['Engine Identification']]\n",
    "emissions_df['Engine Identification'] = [remove_common(x, common_words_emi) for x in emissions_df['Engine Identification']]\n",
    "emissions_df['Engine Identification'] = [remove_space(x) for x in emissions_df['Engine Identification']]\n",
    "emissions_df['Engine Identification'] = [short_name(x, 5) for x in emissions_df['Engine Identification']]"
   ]
  },
  {
   "cell_type": "code",
   "execution_count": 44,
   "metadata": {},
   "outputs": [],
   "source": [
    "emissions_df.at[527,'Engine Identification'] = 'PW100'\n",
    "emissions_df.at[611,'Engine Identification'] = 'PW200'\n",
    "emissions_df.at[633,'Engine Identification'] = 'PW400'"
   ]
  },
  {
   "cell_type": "code",
   "execution_count": 45,
   "metadata": {},
   "outputs": [],
   "source": [
    "def match_engine(str1):\n",
    "    tmp_df = pd.DataFrame()\n",
    "    mask = tmp_df['engine_id_starts_with_CFM'] = list( \n",
    "        map(lambda x: x.startswith(str1), emissions_df['Engine Identification'])) \n",
    "    filtered_df = emissions_df[mask]\n",
    "    #return(filtered_df.at[0,1]['CO Dp/Foo Avg (g/kN)']).head(1)\n",
    "    if filtered_df.shape[0] < 1:\n",
    "        return(0)\n",
    "    return(filtered_df.iat[0,4])"
   ]
  },
  {
   "cell_type": "code",
   "execution_count": 46,
   "metadata": {},
   "outputs": [],
   "source": [
    "bts_des['CO2'] = [match_engine(x) for x in bts_des['Engine_Name']]"
   ]
  },
  {
   "cell_type": "code",
   "execution_count": 47,
   "metadata": {},
   "outputs": [],
   "source": [
    "def get_best_eng(aircraft):\n",
    "    ac_ser = bts_des.loc[bts_des['Aircraft'] == aircraft]\n",
    "    return(ac_ser.sort_values('CO2')[:1])"
   ]
  },
  {
   "cell_type": "markdown",
   "metadata": {},
   "source": [
    "## Data Processing"
   ]
  },
  {
   "cell_type": "code",
   "execution_count": 48,
   "metadata": {},
   "outputs": [],
   "source": [
    "# Some rows have NaN for values. Replace these with 0 value. \n",
    "crash_df['Total.Fatal.Injuries'] = crash_df['Total.Fatal.Injuries'].fillna(0)\n",
    "crash_df['Total.Serious.Injuries'] = crash_df['Total.Serious.Injuries'].fillna(0)\n",
    "crash_df['Total.Minor.Injuries'] = crash_df['Total.Minor.Injuries'].fillna(0)"
   ]
  },
  {
   "cell_type": "code",
   "execution_count": 49,
   "metadata": {},
   "outputs": [],
   "source": [
    "# Our scoring system will use 3 points for fatality; 1 point for serious injury and .5 points for minor injury.\n",
    "crash_df['Injury_Score'] = crash_df['Total.Fatal.Injuries'].map(lambda x: x*3)\n",
    "crash_df['Injury_Score'] = crash_df['Injury_Score'] + crash_df['Total.Serious.Injuries']\n",
    "crash_df['Injury_Score'] = crash_df['Injury_Score'] + (crash_df['Total.Minor.Injuries'] * .5)"
   ]
  },
  {
   "cell_type": "code",
   "execution_count": 50,
   "metadata": {},
   "outputs": [],
   "source": [
    "total_score = crash_df.groupby('NewModel')['Injury_Score'].sum().to_frame()"
   ]
  },
  {
   "cell_type": "code",
   "execution_count": 51,
   "metadata": {},
   "outputs": [],
   "source": [
    "total_score['Count'] = bts_df.groupby('Description').size()"
   ]
  },
  {
   "cell_type": "code",
   "execution_count": 309,
   "metadata": {},
   "outputs": [],
   "source": [
    "# We want to normalize the rating using Injury Score as reference metric.\n",
    "max = crash_df['Injury_Score'].max()\n",
    "min = crash_df['Injury_Score'].min()\n",
    "score_range = max - min\n",
    "#total_score['Rating'] = (total_score['Injury_Score'] / total_score['Count']) * 1000"
   ]
  },
  {
   "cell_type": "code",
   "execution_count": 310,
   "metadata": {},
   "outputs": [
    {
     "data": {
      "text/plain": [
       "885.0"
      ]
     },
     "execution_count": 310,
     "metadata": {},
     "output_type": "execute_result"
    }
   ],
   "source": [
    "score_range"
   ]
  },
  {
   "cell_type": "code",
   "execution_count": 53,
   "metadata": {},
   "outputs": [],
   "source": [
    "total_score = pd.merge(total_score, bts_des[['CO2', 'Aircraft', 'Engine']], left_on='NewModel', right_on='Aircraft', how='left')"
   ]
  },
  {
   "cell_type": "code",
   "execution_count": 54,
   "metadata": {},
   "outputs": [
    {
     "data": {
      "text/plain": [
       "Index(['Injury_Score', 'Count', 'Rating', 'CO2', 'Aircraft', 'Engine'], dtype='object')"
      ]
     },
     "execution_count": 54,
     "metadata": {},
     "output_type": "execute_result"
    }
   ],
   "source": [
    "total_score.columns"
   ]
  },
  {
   "cell_type": "code",
   "execution_count": 55,
   "metadata": {},
   "outputs": [],
   "source": [
    "final_score = total_score.sort_values(['CO2', 'Rating'], ascending=[True, True])"
   ]
  },
  {
   "cell_type": "code",
   "execution_count": 56,
   "metadata": {},
   "outputs": [
    {
     "data": {
      "text/html": [
       "<div>\n",
       "<style scoped>\n",
       "    .dataframe tbody tr th:only-of-type {\n",
       "        vertical-align: middle;\n",
       "    }\n",
       "\n",
       "    .dataframe tbody tr th {\n",
       "        vertical-align: top;\n",
       "    }\n",
       "\n",
       "    .dataframe thead th {\n",
       "        text-align: right;\n",
       "    }\n",
       "</style>\n",
       "<table border=\"1\" class=\"dataframe\">\n",
       "  <thead>\n",
       "    <tr style=\"text-align: right;\">\n",
       "      <th></th>\n",
       "      <th>Injury_Score</th>\n",
       "      <th>Count</th>\n",
       "      <th>Rating</th>\n",
       "      <th>CO2</th>\n",
       "      <th>Aircraft</th>\n",
       "      <th>Engine</th>\n",
       "    </tr>\n",
       "  </thead>\n",
       "  <tbody>\n",
       "    <tr>\n",
       "      <th>29</th>\n",
       "      <td>0.0</td>\n",
       "      <td>32440</td>\n",
       "      <td>0.000000</td>\n",
       "      <td>0.00</td>\n",
       "      <td>CASA</td>\n",
       "      <td>Garrett TPE331</td>\n",
       "    </tr>\n",
       "    <tr>\n",
       "      <th>30</th>\n",
       "      <td>0.0</td>\n",
       "      <td>32440</td>\n",
       "      <td>0.000000</td>\n",
       "      <td>0.00</td>\n",
       "      <td>CASA</td>\n",
       "      <td>General Electric CT7</td>\n",
       "    </tr>\n",
       "    <tr>\n",
       "      <th>0</th>\n",
       "      <td>29.0</td>\n",
       "      <td>44466</td>\n",
       "      <td>0.652184</td>\n",
       "      <td>0.00</td>\n",
       "      <td>1900</td>\n",
       "      <td>Pratt &amp; Whitney Canada PT6</td>\n",
       "    </tr>\n",
       "    <tr>\n",
       "      <th>42</th>\n",
       "      <td>1.5</td>\n",
       "      <td>28799</td>\n",
       "      <td>0.052085</td>\n",
       "      <td>14.20</td>\n",
       "      <td>MD11</td>\n",
       "      <td>Pratt &amp; Whitney PW4000</td>\n",
       "    </tr>\n",
       "    <tr>\n",
       "      <th>18</th>\n",
       "      <td>6.0</td>\n",
       "      <td>64824</td>\n",
       "      <td>0.092558</td>\n",
       "      <td>14.20</td>\n",
       "      <td>A300</td>\n",
       "      <td>Pratt &amp; Whitney PW4000</td>\n",
       "    </tr>\n",
       "    <tr>\n",
       "      <th>14</th>\n",
       "      <td>106.5</td>\n",
       "      <td>98231</td>\n",
       "      <td>1.084179</td>\n",
       "      <td>14.20</td>\n",
       "      <td>767</td>\n",
       "      <td>Pratt &amp; Whitney PW4000</td>\n",
       "    </tr>\n",
       "    <tr>\n",
       "      <th>8</th>\n",
       "      <td>40.0</td>\n",
       "      <td>24752</td>\n",
       "      <td>1.616031</td>\n",
       "      <td>14.20</td>\n",
       "      <td>747</td>\n",
       "      <td>Pratt &amp; Whitney PW4000</td>\n",
       "    </tr>\n",
       "    <tr>\n",
       "      <th>20</th>\n",
       "      <td>24.5</td>\n",
       "      <td>213230</td>\n",
       "      <td>0.114899</td>\n",
       "      <td>14.80</td>\n",
       "      <td>A319</td>\n",
       "      <td>IAE V2500</td>\n",
       "    </tr>\n",
       "    <tr>\n",
       "      <th>43</th>\n",
       "      <td>2.5</td>\n",
       "      <td>21323</td>\n",
       "      <td>0.117244</td>\n",
       "      <td>14.80</td>\n",
       "      <td>MD90</td>\n",
       "      <td>IAE V2500</td>\n",
       "    </tr>\n",
       "    <tr>\n",
       "      <th>23</th>\n",
       "      <td>1504.5</td>\n",
       "      <td>332678</td>\n",
       "      <td>4.522391</td>\n",
       "      <td>14.80</td>\n",
       "      <td>A320</td>\n",
       "      <td>IAE V2500</td>\n",
       "    </tr>\n",
       "    <tr>\n",
       "      <th>27</th>\n",
       "      <td>685.0</td>\n",
       "      <td>84054</td>\n",
       "      <td>8.149523</td>\n",
       "      <td>14.80</td>\n",
       "      <td>A321</td>\n",
       "      <td>IAE V2500</td>\n",
       "    </tr>\n",
       "    <tr>\n",
       "      <th>3</th>\n",
       "      <td>3727.0</td>\n",
       "      <td>862707</td>\n",
       "      <td>4.320123</td>\n",
       "      <td>25.97</td>\n",
       "      <td>737</td>\n",
       "      <td>CFMI LEAP-1B</td>\n",
       "    </tr>\n",
       "    <tr>\n",
       "      <th>22</th>\n",
       "      <td>1504.5</td>\n",
       "      <td>332678</td>\n",
       "      <td>4.522391</td>\n",
       "      <td>25.97</td>\n",
       "      <td>A320</td>\n",
       "      <td>CFMI LEAP-1B</td>\n",
       "    </tr>\n",
       "    <tr>\n",
       "      <th>26</th>\n",
       "      <td>685.0</td>\n",
       "      <td>84054</td>\n",
       "      <td>8.149523</td>\n",
       "      <td>25.97</td>\n",
       "      <td>A321</td>\n",
       "      <td>CFMI LEAP-1B</td>\n",
       "    </tr>\n",
       "    <tr>\n",
       "      <th>31</th>\n",
       "      <td>0.0</td>\n",
       "      <td>32440</td>\n",
       "      <td>0.000000</td>\n",
       "      <td>27.80</td>\n",
       "      <td>CASA</td>\n",
       "      <td>Pratt &amp; Whitney Canada PW100</td>\n",
       "    </tr>\n",
       "    <tr>\n",
       "      <th>35</th>\n",
       "      <td>6.0</td>\n",
       "      <td>16324</td>\n",
       "      <td>0.367557</td>\n",
       "      <td>27.80</td>\n",
       "      <td>DHC8</td>\n",
       "      <td>Pratt &amp; Whitney Canada PW100</td>\n",
       "    </tr>\n",
       "    <tr>\n",
       "      <th>24</th>\n",
       "      <td>1504.5</td>\n",
       "      <td>332678</td>\n",
       "      <td>4.522391</td>\n",
       "      <td>27.80</td>\n",
       "      <td>A320</td>\n",
       "      <td>Pratt &amp; Whitney PW1000G</td>\n",
       "    </tr>\n",
       "    <tr>\n",
       "      <th>28</th>\n",
       "      <td>685.0</td>\n",
       "      <td>84054</td>\n",
       "      <td>8.149523</td>\n",
       "      <td>27.80</td>\n",
       "      <td>A321</td>\n",
       "      <td>Pratt &amp; Whitney PW1000G</td>\n",
       "    </tr>\n",
       "    <tr>\n",
       "      <th>10</th>\n",
       "      <td>16.0</td>\n",
       "      <td>178044</td>\n",
       "      <td>0.089865</td>\n",
       "      <td>32.00</td>\n",
       "      <td>757</td>\n",
       "      <td>Pratt &amp; Whitney PW2000</td>\n",
       "    </tr>\n",
       "    <tr>\n",
       "      <th>6</th>\n",
       "      <td>40.0</td>\n",
       "      <td>24752</td>\n",
       "      <td>1.616031</td>\n",
       "      <td>32.75</td>\n",
       "      <td>747</td>\n",
       "      <td>General Electric Genx</td>\n",
       "    </tr>\n",
       "  </tbody>\n",
       "</table>\n",
       "</div>"
      ],
      "text/plain": [
       "    Injury_Score   Count    Rating    CO2 Aircraft   \n",
       "29           0.0   32440  0.000000   0.00     CASA  \\\n",
       "30           0.0   32440  0.000000   0.00     CASA   \n",
       "0           29.0   44466  0.652184   0.00     1900   \n",
       "42           1.5   28799  0.052085  14.20     MD11   \n",
       "18           6.0   64824  0.092558  14.20     A300   \n",
       "14         106.5   98231  1.084179  14.20      767   \n",
       "8           40.0   24752  1.616031  14.20      747   \n",
       "20          24.5  213230  0.114899  14.80     A319   \n",
       "43           2.5   21323  0.117244  14.80     MD90   \n",
       "23        1504.5  332678  4.522391  14.80     A320   \n",
       "27         685.0   84054  8.149523  14.80     A321   \n",
       "3         3727.0  862707  4.320123  25.97      737   \n",
       "22        1504.5  332678  4.522391  25.97     A320   \n",
       "26         685.0   84054  8.149523  25.97     A321   \n",
       "31           0.0   32440  0.000000  27.80     CASA   \n",
       "35           6.0   16324  0.367557  27.80     DHC8   \n",
       "24        1504.5  332678  4.522391  27.80     A320   \n",
       "28         685.0   84054  8.149523  27.80     A321   \n",
       "10          16.0  178044  0.089865  32.00      757   \n",
       "6           40.0   24752  1.616031  32.75      747   \n",
       "\n",
       "                          Engine  \n",
       "29                Garrett TPE331  \n",
       "30          General Electric CT7  \n",
       "0     Pratt & Whitney Canada PT6  \n",
       "42        Pratt & Whitney PW4000  \n",
       "18        Pratt & Whitney PW4000  \n",
       "14        Pratt & Whitney PW4000  \n",
       "8         Pratt & Whitney PW4000  \n",
       "20                     IAE V2500  \n",
       "43                     IAE V2500  \n",
       "23                     IAE V2500  \n",
       "27                     IAE V2500  \n",
       "3                   CFMI LEAP-1B  \n",
       "22                  CFMI LEAP-1B  \n",
       "26                  CFMI LEAP-1B  \n",
       "31  Pratt & Whitney Canada PW100  \n",
       "35  Pratt & Whitney Canada PW100  \n",
       "24       Pratt & Whitney PW1000G  \n",
       "28       Pratt & Whitney PW1000G  \n",
       "10        Pratt & Whitney PW2000  \n",
       "6          General Electric Genx  "
      ]
     },
     "execution_count": 56,
     "metadata": {},
     "output_type": "execute_result"
    }
   ],
   "source": [
    "final_score[0:20]"
   ]
  },
  {
   "cell_type": "code",
   "execution_count": 59,
   "metadata": {},
   "outputs": [
    {
     "data": {
      "image/png": "[encoded data removed]",
      "text/plain": [
       "<Figure size 432x288 with 1 Axes>"
      ]
     },
     "metadata": {
      "needs_background": "light"
     },
     "output_type": "display_data"
    }
   ],
   "source": [
    "x_data = final_score['CO2']\n",
    "y_data = final_score['Rating']\n",
    "strings = final_score['Aircraft']\n",
    "\n",
    "plt.scatter(x_data, y_data)\n",
    "plt.show()"
   ]
  },
  {
   "cell_type": "markdown",
   "metadata": {},
   "source": [
    "## Airport Data Analysis\n"
   ]
  },
  {
   "cell_type": "code",
   "execution_count": 289,
   "metadata": {},
   "outputs": [],
   "source": [
    "# Load Airport and Population data from csv files\n",
    "ap_df = pd.read_csv('zippedData/us-airports.csv')\n",
    "cbsa_df = pd.read_csv('zippedData/cbsa-est2023-alldata.csv', encoding='latin-1')"
   ]
  },
  {
   "cell_type": "code",
   "execution_count": 290,
   "metadata": {},
   "outputs": [],
   "source": [
    "# Only keep columns we need. Drop other columns\n",
    "ap_df = ap_df[['id', 'ident', 'type', 'name', 'local_region', 'municipality','local_code',\n",
    "               'iata_code', 'keywords']]\n",
    "#ap_df = ap_df[(ap_df['type'] == 'medium_airport') | (ap_df['type'] == 'large_airport')]\n",
    "ap_df = ap_df[(ap_df['type'] == 'large_airport')]"
   ]
  },
  {
   "cell_type": "code",
   "execution_count": 291,
   "metadata": {},
   "outputs": [],
   "source": [
    "# Fileter rows to population > 550K \n",
    "cbsa_df = cbsa_df[['CBSA', 'MDIV', 'STCOU', 'NAME', 'LSAD','POPESTIMATE2022']]\n",
    "cbsa_df.drop(cbsa_df[cbsa_df['POPESTIMATE2022'] <= 550000].index, inplace = True)\n"
   ]
  },
  {
   "cell_type": "code",
   "execution_count": 292,
   "metadata": {},
   "outputs": [],
   "source": [
    "# Get count of flights originated at airport and convert to dict\n",
    "ap_counts = bts_df['ORIGIN'].value_counts()\n",
    "ap_counts_dict = ap_counts.to_dict()\n"
   ]
  },
  {
   "cell_type": "code",
   "execution_count": 293,
   "metadata": {},
   "outputs": [],
   "source": [
    "# This takes in an airport code and returns the total number of flights orginating from there\n",
    "def get_num_flt(code):\n",
    "    try:\n",
    "      val = ap_counts_dict[code]\n",
    "    except:\n",
    "      val = 0\n",
    "    \n",
    "    return val"
   ]
  },
  {
   "cell_type": "code",
   "execution_count": 294,
   "metadata": {},
   "outputs": [],
   "source": [
    "# Function to take in City and State\n",
    "# Match state and from list of State match city\n",
    "# Return Population of City\n",
    "\n",
    "def get_city_pop(city, state):\n",
    "    cs_list = cbsa_df['NAME'].to_list()\n",
    "    city_lst = []\n",
    "    for cs in cs_list:\n",
    "        if state == str(cs[-2:]):\n",
    "            city_lst.append(cs)\n",
    "            \n",
    "    if len(city_lst) == 0:\n",
    "        return(0)\n",
    "    \n",
    "    for name in city_lst:\n",
    "        if city in name:\n",
    "            return cbsa_df.loc[cbsa_df['NAME'] == name, 'POPESTIMATE2022'].values[0]\n",
    "    return(0)"
   ]
  },
  {
   "cell_type": "code",
   "execution_count": 295,
   "metadata": {},
   "outputs": [],
   "source": [
    "apuse_df = ap_df.copy()\n",
    "apuse_df['NumFlights'] = [get_num_flt(x) for x in apuse_df['iata_code']]\n",
    "\n",
    "ap_mask = (apuse_df['NumFlights'] != 0)\n",
    "apuse_df = apuse_df.loc[ap_mask]\n"
   ]
  },
  {
   "cell_type": "code",
   "execution_count": 296,
   "metadata": {},
   "outputs": [],
   "source": [
    "def get_state(str1):\n",
    "    res = str1.split(',')\n",
    "    return(res)\n",
    "cbsa_df['STATE'] = [(get_state(x))[1].strip() for x in cbsa_df['NAME']]\n",
    "cbsa_df['CITY'] = [(get_state(x))[0].split('-')[0] for x in cbsa_df['NAME']]\n"
   ]
  },
  {
   "cell_type": "code",
   "execution_count": 297,
   "metadata": {},
   "outputs": [],
   "source": [
    "result2 = apuse_df.groupby(['municipality', 'local_region'])\n",
    "#result2.get_group(('New York','NY'))"
   ]
  },
  {
   "cell_type": "code",
   "execution_count": 298,
   "metadata": {},
   "outputs": [],
   "source": [
    "# extract keys from groups\n",
    "keys = result2.groups.keys()\n",
    "\n",
    "city_lst = []\n",
    "state_lst = []\n",
    "num_flt_lst = []\n",
    "\n",
    "for i in keys:\n",
    "    a_group = result2.get_group(i)\n",
    "    city_lst.append(a_group['municipality'][:1].to_string(index=False))\n",
    "    state_lst.append(a_group['local_region'][:1].to_string(index=False))\n",
    "    num_flt_lst.append(a_group['NumFlights'].sum())\n",
    " "
   ]
  },
  {
   "cell_type": "code",
   "execution_count": 299,
   "metadata": {},
   "outputs": [],
   "source": [
    "result2_dict = {'City': city_lst, 'State': state_lst, 'NumFlights': num_flt_lst}\n",
    "result2_df = pd.DataFrame.from_dict(result2_dict)"
   ]
  },
  {
   "cell_type": "code",
   "execution_count": 300,
   "metadata": {},
   "outputs": [
    {
     "data": {
      "text/html": [
       "<div>\n",
       "<style scoped>\n",
       "    .dataframe tbody tr th:only-of-type {\n",
       "        vertical-align: middle;\n",
       "    }\n",
       "\n",
       "    .dataframe tbody tr th {\n",
       "        vertical-align: top;\n",
       "    }\n",
       "\n",
       "    .dataframe thead th {\n",
       "        text-align: right;\n",
       "    }\n",
       "</style>\n",
       "<table border=\"1\" class=\"dataframe\">\n",
       "  <thead>\n",
       "    <tr style=\"text-align: right;\">\n",
       "      <th></th>\n",
       "      <th>City</th>\n",
       "      <th>State</th>\n",
       "      <th>NumFlights</th>\n",
       "    </tr>\n",
       "  </thead>\n",
       "  <tbody>\n",
       "    <tr>\n",
       "      <th>0</th>\n",
       "      <td>Albuquerque</td>\n",
       "      <td>NM</td>\n",
       "      <td>12536</td>\n",
       "    </tr>\n",
       "    <tr>\n",
       "      <th>1</th>\n",
       "      <td>Anchorage</td>\n",
       "      <td>AK</td>\n",
       "      <td>22495</td>\n",
       "    </tr>\n",
       "    <tr>\n",
       "      <th>2</th>\n",
       "      <td>Atlanta</td>\n",
       "      <td>GA</td>\n",
       "      <td>108520</td>\n",
       "    </tr>\n",
       "    <tr>\n",
       "      <th>3</th>\n",
       "      <td>Austin</td>\n",
       "      <td>TX</td>\n",
       "      <td>27482</td>\n",
       "    </tr>\n",
       "    <tr>\n",
       "      <th>4</th>\n",
       "      <td>Baltimore</td>\n",
       "      <td>MD</td>\n",
       "      <td>36067</td>\n",
       "    </tr>\n",
       "    <tr>\n",
       "      <th>...</th>\n",
       "      <td>...</td>\n",
       "      <td>...</td>\n",
       "      <td>...</td>\n",
       "    </tr>\n",
       "    <tr>\n",
       "      <th>63</th>\n",
       "      <td>Tampa</td>\n",
       "      <td>FL</td>\n",
       "      <td>33187</td>\n",
       "    </tr>\n",
       "    <tr>\n",
       "      <th>64</th>\n",
       "      <td>Tulsa</td>\n",
       "      <td>OK</td>\n",
       "      <td>10089</td>\n",
       "    </tr>\n",
       "    <tr>\n",
       "      <th>65</th>\n",
       "      <td>Warwick</td>\n",
       "      <td>RI</td>\n",
       "      <td>8972</td>\n",
       "    </tr>\n",
       "    <tr>\n",
       "      <th>66</th>\n",
       "      <td>Washington</td>\n",
       "      <td>DC</td>\n",
       "      <td>37778</td>\n",
       "    </tr>\n",
       "    <tr>\n",
       "      <th>67</th>\n",
       "      <td>West Palm Beach</td>\n",
       "      <td>FL</td>\n",
       "      <td>11523</td>\n",
       "    </tr>\n",
       "  </tbody>\n",
       "</table>\n",
       "<p>68 rows × 3 columns</p>\n",
       "</div>"
      ],
      "text/plain": [
       "               City State  NumFlights\n",
       "0       Albuquerque    NM       12536\n",
       "1         Anchorage    AK       22495\n",
       "2           Atlanta    GA      108520\n",
       "3            Austin    TX       27482\n",
       "4         Baltimore    MD       36067\n",
       "..              ...   ...         ...\n",
       "63            Tampa    FL       33187\n",
       "64            Tulsa    OK       10089\n",
       "65          Warwick    RI        8972\n",
       "66       Washington    DC       37778\n",
       "67  West Palm Beach    FL       11523\n",
       "\n",
       "[68 rows x 3 columns]"
      ]
     },
     "execution_count": 300,
     "metadata": {},
     "output_type": "execute_result"
    }
   ],
   "source": [
    "result2_df"
   ]
  },
  {
   "cell_type": "code",
   "execution_count": 301,
   "metadata": {},
   "outputs": [],
   "source": [
    "#result2_df['Population'] = [get_city_pop(x, y) for x in result2_df['City'] for y in result2_df['State']]\n",
    "pop_lst = []\n",
    "for i, x in result2_df.iterrows():\n",
    "    \n",
    "    rando.append(get_city_pop(x['City'], x['State']))\n",
    "result2_df['Population'] = pop_lst"
   ]
  },
  {
   "cell_type": "code",
   "execution_count": 303,
   "metadata": {},
   "outputs": [],
   "source": [
    "result2_df = result2_df.loc[result2_df['Population'] > 0]"
   ]
  },
  {
   "cell_type": "code",
   "execution_count": 304,
   "metadata": {},
   "outputs": [],
   "source": [
    "#result2_df['PeopleFlight'] = [(x/y) for x in result2_df['Population'] for y in result2_df['NumFlights']]"
   ]
  },
  {
   "cell_type": "code",
   "execution_count": 306,
   "metadata": {},
   "outputs": [],
   "source": [
    "pfr_lst = []\n",
    "for i, x in result2_df.iterrows():\n",
    "    \n",
    "    ratio = x['Population']/x['NumFlights']\n",
    "    pfr_lst.append(ratio)"
   ]
  },
  {
   "cell_type": "code",
   "execution_count": 307,
   "metadata": {},
   "outputs": [
    {
     "name": "stderr",
     "output_type": "stream",
     "text": [
      "<ipython-input-307-6c6b44b75cb6>:1: SettingWithCopyWarning: \n",
      "A value is trying to be set on a copy of a slice from a DataFrame.\n",
      "Try using .loc[row_indexer,col_indexer] = value instead\n",
      "\n",
      "See the caveats in the documentation: https://pandas.pydata.org/pandas-docs/stable/user_guide/indexing.html#returning-a-view-versus-a-copy\n",
      "  result2_df['FPR'] = pfr_lst\n"
     ]
    }
   ],
   "source": [
    "result2_df['FPR'] = pfr_lst"
   ]
  },
  {
   "cell_type": "code",
   "execution_count": 308,
   "metadata": {},
   "outputs": [
    {
     "data": {
      "text/html": [
       "<div>\n",
       "<style scoped>\n",
       "    .dataframe tbody tr th:only-of-type {\n",
       "        vertical-align: middle;\n",
       "    }\n",
       "\n",
       "    .dataframe tbody tr th {\n",
       "        vertical-align: top;\n",
       "    }\n",
       "\n",
       "    .dataframe thead th {\n",
       "        text-align: right;\n",
       "    }\n",
       "</style>\n",
       "<table border=\"1\" class=\"dataframe\">\n",
       "  <thead>\n",
       "    <tr style=\"text-align: right;\">\n",
       "      <th></th>\n",
       "      <th>City</th>\n",
       "      <th>State</th>\n",
       "      <th>NumFlights</th>\n",
       "      <th>Population</th>\n",
       "      <th>FPR</th>\n",
       "    </tr>\n",
       "  </thead>\n",
       "  <tbody>\n",
       "    <tr>\n",
       "      <th>67</th>\n",
       "      <td>West Palm Beach</td>\n",
       "      <td>FL</td>\n",
       "      <td>11523</td>\n",
       "      <td>6139812</td>\n",
       "      <td>532.831034</td>\n",
       "    </tr>\n",
       "    <tr>\n",
       "      <th>36</th>\n",
       "      <td>Newark</td>\n",
       "      <td>NJ</td>\n",
       "      <td>55853</td>\n",
       "      <td>19563798</td>\n",
       "      <td>350.273002</td>\n",
       "    </tr>\n",
       "    <tr>\n",
       "      <th>57</th>\n",
       "      <td>Santa Ana</td>\n",
       "      <td>CA</td>\n",
       "      <td>9413</td>\n",
       "      <td>3150372</td>\n",
       "      <td>334.683098</td>\n",
       "    </tr>\n",
       "    <tr>\n",
       "      <th>41</th>\n",
       "      <td>Ontario</td>\n",
       "      <td>CA</td>\n",
       "      <td>16047</td>\n",
       "      <td>4669149</td>\n",
       "      <td>290.967097</td>\n",
       "    </tr>\n",
       "    <tr>\n",
       "      <th>38</th>\n",
       "      <td>Oakland</td>\n",
       "      <td>CA</td>\n",
       "      <td>20156</td>\n",
       "      <td>4578135</td>\n",
       "      <td>227.135096</td>\n",
       "    </tr>\n",
       "    <tr>\n",
       "      <th>27</th>\n",
       "      <td>Los Angeles</td>\n",
       "      <td>CA</td>\n",
       "      <td>64172</td>\n",
       "      <td>12870137</td>\n",
       "      <td>200.556894</td>\n",
       "    </tr>\n",
       "    <tr>\n",
       "      <th>30</th>\n",
       "      <td>Miami</td>\n",
       "      <td>FL</td>\n",
       "      <td>35830</td>\n",
       "      <td>6139812</td>\n",
       "      <td>171.359531</td>\n",
       "    </tr>\n",
       "    <tr>\n",
       "      <th>17</th>\n",
       "      <td>Fort Lauderdale</td>\n",
       "      <td>FL</td>\n",
       "      <td>36073</td>\n",
       "      <td>6139812</td>\n",
       "      <td>170.205195</td>\n",
       "    </tr>\n",
       "    <tr>\n",
       "      <th>51</th>\n",
       "      <td>Sacramento</td>\n",
       "      <td>CA</td>\n",
       "      <td>15095</td>\n",
       "      <td>2417259</td>\n",
       "      <td>160.136403</td>\n",
       "    </tr>\n",
       "    <tr>\n",
       "      <th>53</th>\n",
       "      <td>San Antonio</td>\n",
       "      <td>TX</td>\n",
       "      <td>20820</td>\n",
       "      <td>2655928</td>\n",
       "      <td>127.566186</td>\n",
       "    </tr>\n",
       "    <tr>\n",
       "      <th>56</th>\n",
       "      <td>San Jose</td>\n",
       "      <td>CA</td>\n",
       "      <td>15632</td>\n",
       "      <td>1945978</td>\n",
       "      <td>124.486822</td>\n",
       "    </tr>\n",
       "    <tr>\n",
       "      <th>54</th>\n",
       "      <td>San Diego</td>\n",
       "      <td>CA</td>\n",
       "      <td>26353</td>\n",
       "      <td>3277176</td>\n",
       "      <td>124.356847</td>\n",
       "    </tr>\n",
       "    <tr>\n",
       "      <th>12</th>\n",
       "      <td>Columbus</td>\n",
       "      <td>OH</td>\n",
       "      <td>18791</td>\n",
       "      <td>2162066</td>\n",
       "      <td>115.058592</td>\n",
       "    </tr>\n",
       "    <tr>\n",
       "      <th>23</th>\n",
       "      <td>Jacksonville</td>\n",
       "      <td>FL</td>\n",
       "      <td>14876</td>\n",
       "      <td>1676329</td>\n",
       "      <td>112.686811</td>\n",
       "    </tr>\n",
       "    <tr>\n",
       "      <th>39</th>\n",
       "      <td>Oklahoma City</td>\n",
       "      <td>OK</td>\n",
       "      <td>13237</td>\n",
       "      <td>1459957</td>\n",
       "      <td>110.293647</td>\n",
       "    </tr>\n",
       "    <tr>\n",
       "      <th>20</th>\n",
       "      <td>Honolulu</td>\n",
       "      <td>HI</td>\n",
       "      <td>9194</td>\n",
       "      <td>994828</td>\n",
       "      <td>108.204046</td>\n",
       "    </tr>\n",
       "    <tr>\n",
       "      <th>50</th>\n",
       "      <td>Richmond</td>\n",
       "      <td>VA</td>\n",
       "      <td>12375</td>\n",
       "      <td>1338238</td>\n",
       "      <td>108.140444</td>\n",
       "    </tr>\n",
       "    <tr>\n",
       "      <th>13</th>\n",
       "      <td>Dallas-Fort Worth</td>\n",
       "      <td>TX</td>\n",
       "      <td>73657</td>\n",
       "      <td>7947439</td>\n",
       "      <td>107.897946</td>\n",
       "    </tr>\n",
       "    <tr>\n",
       "      <th>21</th>\n",
       "      <td>Houston</td>\n",
       "      <td>TX</td>\n",
       "      <td>68883</td>\n",
       "      <td>7370464</td>\n",
       "      <td>106.999753</td>\n",
       "    </tr>\n",
       "    <tr>\n",
       "      <th>55</th>\n",
       "      <td>San Francisco</td>\n",
       "      <td>CA</td>\n",
       "      <td>44643</td>\n",
       "      <td>4578135</td>\n",
       "      <td>102.549896</td>\n",
       "    </tr>\n",
       "    <tr>\n",
       "      <th>64</th>\n",
       "      <td>Tulsa</td>\n",
       "      <td>OK</td>\n",
       "      <td>10089</td>\n",
       "      <td>1034048</td>\n",
       "      <td>102.492616</td>\n",
       "    </tr>\n",
       "    <tr>\n",
       "      <th>45</th>\n",
       "      <td>Pittsburgh</td>\n",
       "      <td>PA</td>\n",
       "      <td>24382</td>\n",
       "      <td>2432532</td>\n",
       "      <td>99.767533</td>\n",
       "    </tr>\n",
       "    <tr>\n",
       "      <th>63</th>\n",
       "      <td>Tampa</td>\n",
       "      <td>FL</td>\n",
       "      <td>33187</td>\n",
       "      <td>3291341</td>\n",
       "      <td>99.175611</td>\n",
       "    </tr>\n",
       "    <tr>\n",
       "      <th>46</th>\n",
       "      <td>Portland</td>\n",
       "      <td>ME</td>\n",
       "      <td>6035</td>\n",
       "      <td>563159</td>\n",
       "      <td>93.315493</td>\n",
       "    </tr>\n",
       "    <tr>\n",
       "      <th>3</th>\n",
       "      <td>Austin</td>\n",
       "      <td>TX</td>\n",
       "      <td>27482</td>\n",
       "      <td>2423170</td>\n",
       "      <td>88.172986</td>\n",
       "    </tr>\n",
       "    <tr>\n",
       "      <th>44</th>\n",
       "      <td>Phoenix</td>\n",
       "      <td>AZ</td>\n",
       "      <td>57597</td>\n",
       "      <td>5020870</td>\n",
       "      <td>87.172422</td>\n",
       "    </tr>\n",
       "    <tr>\n",
       "      <th>6</th>\n",
       "      <td>Buffalo</td>\n",
       "      <td>NY</td>\n",
       "      <td>13348</td>\n",
       "      <td>1158890</td>\n",
       "      <td>86.821247</td>\n",
       "    </tr>\n",
       "    <tr>\n",
       "      <th>11</th>\n",
       "      <td>Cleveland</td>\n",
       "      <td>OH</td>\n",
       "      <td>25541</td>\n",
       "      <td>2160701</td>\n",
       "      <td>84.597353</td>\n",
       "    </tr>\n",
       "    <tr>\n",
       "      <th>31</th>\n",
       "      <td>Milwaukee</td>\n",
       "      <td>WI</td>\n",
       "      <td>18448</td>\n",
       "      <td>1559128</td>\n",
       "      <td>84.514744</td>\n",
       "    </tr>\n",
       "    <tr>\n",
       "      <th>4</th>\n",
       "      <td>Baltimore</td>\n",
       "      <td>MD</td>\n",
       "      <td>36067</td>\n",
       "      <td>2834813</td>\n",
       "      <td>78.598525</td>\n",
       "    </tr>\n",
       "    <tr>\n",
       "      <th>60</th>\n",
       "      <td>Seattle</td>\n",
       "      <td>WA</td>\n",
       "      <td>51605</td>\n",
       "      <td>4032242</td>\n",
       "      <td>78.136653</td>\n",
       "    </tr>\n",
       "    <tr>\n",
       "      <th>0</th>\n",
       "      <td>Albuquerque</td>\n",
       "      <td>NM</td>\n",
       "      <td>12536</td>\n",
       "      <td>920138</td>\n",
       "      <td>73.399649</td>\n",
       "    </tr>\n",
       "    <tr>\n",
       "      <th>19</th>\n",
       "      <td>Hartford</td>\n",
       "      <td>CT</td>\n",
       "      <td>16570</td>\n",
       "      <td>1148050</td>\n",
       "      <td>69.284852</td>\n",
       "    </tr>\n",
       "    <tr>\n",
       "      <th>33</th>\n",
       "      <td>Nashville</td>\n",
       "      <td>TN</td>\n",
       "      <td>31262</td>\n",
       "      <td>2071019</td>\n",
       "      <td>66.247169</td>\n",
       "    </tr>\n",
       "    <tr>\n",
       "      <th>62</th>\n",
       "      <td>Syracuse</td>\n",
       "      <td>NY</td>\n",
       "      <td>9889</td>\n",
       "      <td>655021</td>\n",
       "      <td>66.237334</td>\n",
       "    </tr>\n",
       "    <tr>\n",
       "      <th>22</th>\n",
       "      <td>Indianapolis</td>\n",
       "      <td>IN</td>\n",
       "      <td>32119</td>\n",
       "      <td>2120661</td>\n",
       "      <td>66.025125</td>\n",
       "    </tr>\n",
       "    <tr>\n",
       "      <th>49</th>\n",
       "      <td>Reno</td>\n",
       "      <td>NV</td>\n",
       "      <td>9562</td>\n",
       "      <td>562773</td>\n",
       "      <td>58.855156</td>\n",
       "    </tr>\n",
       "    <tr>\n",
       "      <th>2</th>\n",
       "      <td>Atlanta</td>\n",
       "      <td>GA</td>\n",
       "      <td>108520</td>\n",
       "      <td>6238676</td>\n",
       "      <td>57.488721</td>\n",
       "    </tr>\n",
       "    <tr>\n",
       "      <th>15</th>\n",
       "      <td>Detroit</td>\n",
       "      <td>MI</td>\n",
       "      <td>77242</td>\n",
       "      <td>4348636</td>\n",
       "      <td>56.298853</td>\n",
       "    </tr>\n",
       "    <tr>\n",
       "      <th>5</th>\n",
       "      <td>Boston</td>\n",
       "      <td>MA</td>\n",
       "      <td>38603</td>\n",
       "      <td>2027529</td>\n",
       "      <td>52.522576</td>\n",
       "    </tr>\n",
       "    <tr>\n",
       "      <th>9</th>\n",
       "      <td>Chicago</td>\n",
       "      <td>IL</td>\n",
       "      <td>147645</td>\n",
       "      <td>7095983</td>\n",
       "      <td>48.061113</td>\n",
       "    </tr>\n",
       "    <tr>\n",
       "      <th>18</th>\n",
       "      <td>Fort Myers</td>\n",
       "      <td>FL</td>\n",
       "      <td>18830</td>\n",
       "      <td>822391</td>\n",
       "      <td>43.674509</td>\n",
       "    </tr>\n",
       "    <tr>\n",
       "      <th>42</th>\n",
       "      <td>Orlando</td>\n",
       "      <td>FL</td>\n",
       "      <td>65600</td>\n",
       "      <td>2763017</td>\n",
       "      <td>42.119162</td>\n",
       "    </tr>\n",
       "    <tr>\n",
       "      <th>26</th>\n",
       "      <td>Las Vegas</td>\n",
       "      <td>NV</td>\n",
       "      <td>56466</td>\n",
       "      <td>2322535</td>\n",
       "      <td>41.131566</td>\n",
       "    </tr>\n",
       "    <tr>\n",
       "      <th>43</th>\n",
       "      <td>Philadelphia</td>\n",
       "      <td>PA</td>\n",
       "      <td>54467</td>\n",
       "      <td>2142709</td>\n",
       "      <td>39.339582</td>\n",
       "    </tr>\n",
       "    <tr>\n",
       "      <th>34</th>\n",
       "      <td>New Orleans</td>\n",
       "      <td>LA</td>\n",
       "      <td>25011</td>\n",
       "      <td>973385</td>\n",
       "      <td>38.918276</td>\n",
       "    </tr>\n",
       "    <tr>\n",
       "      <th>14</th>\n",
       "      <td>Denver</td>\n",
       "      <td>CO</td>\n",
       "      <td>109627</td>\n",
       "      <td>2986190</td>\n",
       "      <td>27.239549</td>\n",
       "    </tr>\n",
       "    <tr>\n",
       "      <th>52</th>\n",
       "      <td>Salt Lake City</td>\n",
       "      <td>UT</td>\n",
       "      <td>46529</td>\n",
       "      <td>1266524</td>\n",
       "      <td>27.220099</td>\n",
       "    </tr>\n",
       "    <tr>\n",
       "      <th>35</th>\n",
       "      <td>New York</td>\n",
       "      <td>NY</td>\n",
       "      <td>75408</td>\n",
       "      <td>1594543</td>\n",
       "      <td>21.145542</td>\n",
       "    </tr>\n",
       "  </tbody>\n",
       "</table>\n",
       "</div>"
      ],
      "text/plain": [
       "                 City State  NumFlights  Population         FPR\n",
       "67    West Palm Beach    FL       11523     6139812  532.831034\n",
       "36             Newark    NJ       55853    19563798  350.273002\n",
       "57          Santa Ana    CA        9413     3150372  334.683098\n",
       "41            Ontario    CA       16047     4669149  290.967097\n",
       "38            Oakland    CA       20156     4578135  227.135096\n",
       "27        Los Angeles    CA       64172    12870137  200.556894\n",
       "30              Miami    FL       35830     6139812  171.359531\n",
       "17    Fort Lauderdale    FL       36073     6139812  170.205195\n",
       "51         Sacramento    CA       15095     2417259  160.136403\n",
       "53        San Antonio    TX       20820     2655928  127.566186\n",
       "56           San Jose    CA       15632     1945978  124.486822\n",
       "54          San Diego    CA       26353     3277176  124.356847\n",
       "12           Columbus    OH       18791     2162066  115.058592\n",
       "23       Jacksonville    FL       14876     1676329  112.686811\n",
       "39      Oklahoma City    OK       13237     1459957  110.293647\n",
       "20           Honolulu    HI        9194      994828  108.204046\n",
       "50           Richmond    VA       12375     1338238  108.140444\n",
       "13  Dallas-Fort Worth    TX       73657     7947439  107.897946\n",
       "21            Houston    TX       68883     7370464  106.999753\n",
       "55      San Francisco    CA       44643     4578135  102.549896\n",
       "64              Tulsa    OK       10089     1034048  102.492616\n",
       "45         Pittsburgh    PA       24382     2432532   99.767533\n",
       "63              Tampa    FL       33187     3291341   99.175611\n",
       "46           Portland    ME        6035      563159   93.315493\n",
       "3              Austin    TX       27482     2423170   88.172986\n",
       "44            Phoenix    AZ       57597     5020870   87.172422\n",
       "6             Buffalo    NY       13348     1158890   86.821247\n",
       "11          Cleveland    OH       25541     2160701   84.597353\n",
       "31          Milwaukee    WI       18448     1559128   84.514744\n",
       "4           Baltimore    MD       36067     2834813   78.598525\n",
       "60            Seattle    WA       51605     4032242   78.136653\n",
       "0         Albuquerque    NM       12536      920138   73.399649\n",
       "19           Hartford    CT       16570     1148050   69.284852\n",
       "33          Nashville    TN       31262     2071019   66.247169\n",
       "62           Syracuse    NY        9889      655021   66.237334\n",
       "22       Indianapolis    IN       32119     2120661   66.025125\n",
       "49               Reno    NV        9562      562773   58.855156\n",
       "2             Atlanta    GA      108520     6238676   57.488721\n",
       "15            Detroit    MI       77242     4348636   56.298853\n",
       "5              Boston    MA       38603     2027529   52.522576\n",
       "9             Chicago    IL      147645     7095983   48.061113\n",
       "18         Fort Myers    FL       18830      822391   43.674509\n",
       "42            Orlando    FL       65600     2763017   42.119162\n",
       "26          Las Vegas    NV       56466     2322535   41.131566\n",
       "43       Philadelphia    PA       54467     2142709   39.339582\n",
       "34        New Orleans    LA       25011      973385   38.918276\n",
       "14             Denver    CO      109627     2986190   27.239549\n",
       "52     Salt Lake City    UT       46529     1266524   27.220099\n",
       "35           New York    NY       75408     1594543   21.145542"
      ]
     },
     "execution_count": 308,
     "metadata": {},
     "output_type": "execute_result"
    }
   ],
   "source": [
    "result2_df.sort_values('FPR', ascending=False)"
   ]
  },
  {
   "cell_type": "code",
   "execution_count": null,
   "metadata": {},
   "outputs": [],
   "source": []
  }
 ],
 "metadata": {
  "kernelspec": {
   "display_name": "Python (leanr-env)",
   "language": "python",
   "name": "learn-env"
  },
  "language_info": {
   "codemirror_mode": {
    "name": "ipython",
    "version": 3
   },
   "file_extension": ".py",
   "mimetype": "text/x-python",
   "name": "python",
   "nbconvert_exporter": "python",
   "pygments_lexer": "ipython3",
   "version": "3.8.5"
  }
 },
 "nbformat": 4,
 "nbformat_minor": 4
}
