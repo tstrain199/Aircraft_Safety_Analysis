{
 "cells": [
  {
   "cell_type": "markdown",
   "metadata": {},
   "source": [
    "## Data Cleaning and Preparation\n",
    "***"
   ]
  },
  {
   "cell_type": "code",
   "execution_count": 786,
   "metadata": {},
   "outputs": [],
   "source": [
    "import pandas as pd\n",
    "import numpy as np\n",
    "import glob\n",
    "import re\n",
    "from bs4 import BeautifulSoup \n",
    "import requests\n",
    "import pickle \n",
    "import matplotlib.pyplot as plt\n",
    "import seaborn as sns"
   ]
  },
  {
   "cell_type": "code",
   "execution_count": 787,
   "metadata": {},
   "outputs": [],
   "source": [
    "# Load in T100 data from csv files\n",
    "\n",
    "files_li = glob.glob('zippedData/T_T100D*.2.csv') \n",
    "bts_df = pd.DataFrame(pd.read_csv(files_li[0])) \n",
    "for i in range(1,len(files_li)): \n",
    "    data = pd.read_csv(files_li[i]) \n",
    "    df1 = pd.DataFrame(data) \n",
    "    bts_df = pd.concat([df1,bts_df],axis=0, ignore_index=True) "
   ]
  },
  {
   "cell_type": "code",
   "execution_count": 788,
   "metadata": {},
   "outputs": [],
   "source": [
    "# Keep only top 40 used aircraft models\n",
    "\n",
    "bts_40 = bts_df['AIRCRAFT_TYPE'].value_counts().head(40).index.to_list()\n",
    "indexNum = bts_df[~bts_df['AIRCRAFT_TYPE'].isin(bts_40)].index\n",
    "bts_df.drop(indexNum , inplace=True)"
   ]
  },
  {
   "cell_type": "code",
   "execution_count": 789,
   "metadata": {},
   "outputs": [],
   "source": [
    "# Get list of top 40 aircraft names for data cleaning\n",
    "\n",
    "bts_des = pd.DataFrame(pd.unique(bts_df['AIRCRAFT_TYPE']), columns =['AIRCRAFT_TYPE'])"
   ]
  },
  {
   "cell_type": "code",
   "execution_count": 790,
   "metadata": {},
   "outputs": [],
   "source": [
    "# BTS uses number code to identify aircraft type in it's flight data. The legend is in a seperate csv file. \n",
    "# Load in the legend for aircraft type. \n",
    "\n",
    "ac_df = pd.read_csv('zippedData/L_AIRCRAFT_TYPE.csv')"
   ]
  },
  {
   "cell_type": "code",
   "execution_count": 791,
   "metadata": {},
   "outputs": [],
   "source": [
    "# Merge flight data with aircfaft type. This will match BTS type names to the fligt data.\n",
    "\n",
    "bts_des = pd.merge(bts_des,ac_df,left_on='AIRCRAFT_TYPE',right_on='Code')"
   ]
  },
  {
   "cell_type": "code",
   "execution_count": 792,
   "metadata": {},
   "outputs": [],
   "source": [
    "# Drop piston aircraft\n",
    "\n",
    "i = bts_des[(bts_des['Code'] == 40)].index\n",
    "j = bts_des[(bts_des['Code'] == 35)].index\n",
    "k = bts_des[(bts_des['Code'] == 194)].index\n",
    "l = bts_des[(bts_des['Code'] == 79)].index\n",
    "m = bts_des[(bts_des['Code'] == 479)].index\n",
    "n = bts_des[(bts_des['Code'] == 415)].index\n",
    "o = bts_des[(bts_des['Code'] == 416)].index\n",
    "p = bts_des[(bts_des['Code'] == 412)].index\n",
    "bts_des = bts_des.drop(i)\n",
    "bts_des = bts_des.drop(j)\n",
    "bts_des = bts_des.drop(k)\n",
    "bts_des = bts_des.drop(l)\n",
    "bts_des = bts_des.drop(m)\n",
    "bts_des = bts_des.drop(n)\n",
    "bts_des = bts_des.drop(o)\n",
    "bts_des = bts_des.drop(p)"
   ]
  },
  {
   "cell_type": "code",
   "execution_count": 793,
   "metadata": {},
   "outputs": [],
   "source": [
    "common_words = ['BOEING','CHEROKEE', 'AIRBUS', 'INDUSTRIE', 'CANADAIR', 'EMBRAER', 'MCDONNELL', 'DOUGLAS', \n",
    "                'DE', 'HAVILLAND', 'BEAVER', 'SUPER', 'NAVAJO', 'EM', 'ER', 'BEECH']\n",
    "\n",
    "common_words_eng = ['ILYUSHIN', 'ANTONOV', 'JUNKERS', 'LOCKHEED', 'BOEING','AIRBUS', 'INDUSTRIE', \n",
    "                    'CANADAIR', 'EMBRAER', 'STATIONAIR','MCDONNELL', 'DOUGLAS', 'DE', 'HAVILLAND', 'BEAVER',\n",
    "                    'SUPER','NAVAJO', 'EM', 'ER', 'BEECH', 'CRAFT', 'BOMBARDIER','CANADA']\n",
    "\n",
    "common_words_emi = ['TRENT', 'CFMI', 'PRATT & WHITNEY', 'GENERAL ELECTRIC', 'CANADA',\n",
    "                    'ROLLSROYCE', 'LYCOMING', 'ALLISON', 'GARRETT', 'CONTINENTAL', 'IAE']"
   ]
  },
  {
   "cell_type": "code",
   "execution_count": 794,
   "metadata": {},
   "outputs": [],
   "source": [
    "def short_name(name, x):\n",
    "    if len(name) >= x:\n",
    "        short_name = name[:x]\n",
    "        return(short_name)\n",
    "    return(name)"
   ]
  },
  {
   "cell_type": "code",
   "execution_count": 795,
   "metadata": {},
   "outputs": [],
   "source": [
    "def remove_dash(name):\n",
    "    name = name.replace('-', '')\n",
    "    return(name)"
   ]
  },
  {
   "cell_type": "code",
   "execution_count": 796,
   "metadata": {},
   "outputs": [],
   "source": [
    "def convert_upper(name):\n",
    "    name = name.upper()\n",
    "    return(name)"
   ]
  },
  {
   "cell_type": "code",
   "execution_count": 797,
   "metadata": {},
   "outputs": [],
   "source": [
    "def convert_date(date):\n",
    "    date = date.astype('datetime64[ns]')\n",
    "    return(date)"
   ]
  },
  {
   "cell_type": "code",
   "execution_count": 798,
   "metadata": {},
   "outputs": [],
   "source": [
    "def remove_slash(name):\n",
    "    res = re.match(r\"^[^/]*\", name)\n",
    "    return(str(res.group())) "
   ]
  },
  {
   "cell_type": "code",
   "execution_count": 799,
   "metadata": {},
   "outputs": [],
   "source": [
    "def remove_common(name, common_w):\n",
    "    for common in common_w:\n",
    "        name = name.replace(common, '')\n",
    "    return(name)"
   ]
  },
  {
   "cell_type": "code",
   "execution_count": 800,
   "metadata": {},
   "outputs": [],
   "source": [
    "def remove_space(name):\n",
    "    name = name.replace(' ', \"\")\n",
    "    return(name)"
   ]
  },
  {
   "cell_type": "code",
   "execution_count": 801,
   "metadata": {},
   "outputs": [],
   "source": [
    "\n",
    "def convert_boeing(name):\n",
    "    if re.match(r\"^(7)(.)(7)\", name):\n",
    "        name = name[:3]\n",
    "    return name"
   ]
  },
  {
   "cell_type": "code",
   "execution_count": 802,
   "metadata": {},
   "outputs": [],
   "source": [
    "def convert_crj(name):\n",
    "    if re.match(r\"^RJ\", name):\n",
    "        name = name.replace('RJ', 'CRJ')\n",
    "    return name"
   ]
  },
  {
   "cell_type": "code",
   "execution_count": 803,
   "metadata": {},
   "outputs": [],
   "source": [
    "# Change Descriptions for data cleaning and matching\n",
    "\n",
    "bts_des.loc[bts_des['Code'] == 629, 'Description'] = 'Canadair RJ-200'\n",
    "bts_des.loc[bts_des['Code'] == 631, 'Description'] = 'Canadair RJ-700'\n",
    "bts_des.loc[bts_des['Code'] == 638, 'Description'] = 'Canadair RJ-900'\n",
    "bts_des.loc[bts_des['Code'] == 838, 'Description'] = 'Boeing 737-800'\n",
    "bts_des.loc[bts_des['Code'] == 674, 'Description'] = 'Embraer ERJ-130'\n",
    "bts_des.loc[bts_des['Code'] == 676, 'Description'] = 'Embraer ERJ-140'\n",
    "bts_des.loc[bts_des['Code'] == 675, 'Description'] = 'Embraer ERJ-145'\n",
    "bts_des.loc[bts_des['Code'] == 677, 'Description'] = 'Embraer ERJ-170'\n",
    "bts_des.loc[bts_des['Code'] == 678, 'Description'] = 'Embraer ERJ-190'"
   ]
  },
  {
   "cell_type": "code",
   "execution_count": 804,
   "metadata": {},
   "outputs": [],
   "source": [
    "# Change Descriptions for data cleaning and matching\n",
    "\n",
    "bts_des['Description'] = [convert_upper(x) for x in bts_des['Description']]\n",
    "bts_des['Description'] = [remove_slash(x) for x in bts_des['Description']]\n",
    "bts_des['Description'] = [remove_dash(x) for x in bts_des['Description']]\n",
    "bts_des['Description'] = [remove_common(x, common_words) for x in bts_des['Description']]\n",
    "bts_des['Description'] = [remove_space(x) for x in bts_des['Description']]\n",
    "bts_des['Description'] = [short_name(x, 4) for x in bts_des['Description']]\n",
    "bts_des['Description'] = [convert_boeing(x) for x in bts_des['Description']]\n",
    "bts_des['Description'] = [convert_crj(x) for x in bts_des['Description']]"
   ]
  },
  {
   "cell_type": "code",
   "execution_count": 805,
   "metadata": {},
   "outputs": [],
   "source": [
    "# Merge Flight data with cleaned aircraft names\n",
    "\n",
    "bts_df = pd.merge(bts_df,bts_des[['Code', 'Description']],left_on='AIRCRAFT_TYPE', right_on='Code')"
   ]
  },
  {
   "cell_type": "code",
   "execution_count": 806,
   "metadata": {},
   "outputs": [],
   "source": [
    "# Drop Code column as we don't need it anymore\n",
    "bts_des.drop(['AIRCRAFT_TYPE', 'Code'], axis=1, inplace=True)"
   ]
  },
  {
   "cell_type": "markdown",
   "metadata": {},
   "source": [
    "## Crash Data"
   ]
  },
  {
   "cell_type": "code",
   "execution_count": 807,
   "metadata": {},
   "outputs": [],
   "source": [
    "# Import Data Set from CSV\n",
    "\n",
    "crash_df = pd.read_csv('zippedData/AviationData.csv', encoding='latin-1', dtype={6: str, 7: str, 14: str, 15: str,\n",
    "                                                                                 28: str})"
   ]
  },
  {
   "cell_type": "code",
   "execution_count": 808,
   "metadata": {},
   "outputs": [],
   "source": [
    "# Drop rows before 2012 so we can match data by year in bts_df\n",
    "date_mask = (crash_df['Event.Date'] > '2011-12-31')\n",
    "\n",
    "# THIS RETURNS ALL ROWS GREATER THAN THE DATE PROVIDED ABOVE\n",
    "crash_df = crash_df.loc[date_mask]\n",
    "\n",
    "# Rows without an aircraft model type don't help use. Dropping these rows.\n",
    "crash_df = crash_df.dropna(subset=['Model'])"
   ]
  },
  {
   "cell_type": "code",
   "execution_count": 809,
   "metadata": {},
   "outputs": [],
   "source": [
    "# Convert Event.Date from string to datetime. Used to filter df on years\n",
    "\n",
    "crash_df['Event.Date'] = crash_df['Event.Date'].astype('datetime64[ns]')"
   ]
  },
  {
   "cell_type": "code",
   "execution_count": 810,
   "metadata": {},
   "outputs": [],
   "source": [
    "# Change Model name for data cleaning and matching\n",
    "\n",
    "crash_df['Model'] = [convert_upper(x) for x in crash_df['Model']]\n",
    "#crash_df['Event.Date'] = [convert_date(x) for x in crash_df['Event.Date']]\n",
    "crash_df['Model'] = [remove_slash(x) for x in crash_df['Model']]\n",
    "crash_df['Model'] = [remove_dash(x) for x in crash_df['Model']]\n",
    "crash_df['Model'] = [remove_common(x, common_words) for x in crash_df['Model']]\n",
    "crash_df['Model'] = [remove_space(x) for x in crash_df['Model']]\n",
    "crash_df['Model'] = [short_name(x, 4) for x in crash_df['Model']]\n",
    "crash_df['Model'] = [convert_boeing(x) for x in crash_df['Model']]\n",
    "#crash_df['Model'].replace('PA-', 'PA', inplace=True, regex=True)"
   ]
  },
  {
   "cell_type": "code",
   "execution_count": 811,
   "metadata": {},
   "outputs": [],
   "source": [
    "# Takes in an aircraft model name and returns the cloest match in bts_des\n",
    "\n",
    "def match_types(model):\n",
    "    for newmodel in bts_des['Description']:\n",
    "        if newmodel.startswith(model):\n",
    "            #print(f'Processing: {model} \\t:{newmodel}')\n",
    "            return newmodel"
   ]
  },
  {
   "cell_type": "code",
   "execution_count": 812,
   "metadata": {},
   "outputs": [],
   "source": [
    "# Create new column that matches model name form bts_des\n",
    "\n",
    "crash_df['NewModel'] = [match_types(model) for model in crash_df['Model']]"
   ]
  },
  {
   "cell_type": "markdown",
   "metadata": {},
   "source": [
    "## Engine Data"
   ]
  },
  {
   "cell_type": "code",
   "execution_count": 813,
   "metadata": {},
   "outputs": [],
   "source": [
    "# In place of running this and making lots of web requests, import the pickle file from below\n",
    "# Assign URL |\n",
    "#url = \"https://asn.flightsafety.org/database/engines/\"\n",
    "\n",
    "# Make a GET request to fetch the raw HTML content \n",
    "#html_content = requests.get(url).text \n",
    "\n",
    "# Parse the response with html.parser\n",
    "#soup = BeautifulSoup(html_content,\"html.parser\") \n",
    "\n",
    "# The data we need are wrapped in <a> tags. Grab all the <a> tags here and we'll filter later.\n",
    "#datas = soup.find_all(\"a\")\n",
    "\n",
    "\n",
    "#Make list of URLs and list oF Aircraft to create dictionary\n",
    "# k = []\n",
    "# v = []\n",
    "# for item in datas:\n",
    "#     if 'engine' in item['href']:\n",
    "#         k.append(item['href'])\n",
    "#         v.append(item.text)\n",
    "\n",
    "# lookup_dict = {'URL': k, 'Engine': v}\n",
    "\n",
    "\n",
    "#url_df = pd.DataFrame.from_dict(lookup_dict)\n",
    "\n",
    "# with open('lookup_dict.pkl', 'wb') as f:\n",
    "#     pickle.dump(lookup_dict, f)\n",
    "\n",
    "with open('zippedData/lookup_dict.pkl', 'rb') as f:\n",
    "    lookup_dict = pickle.load(f)"
   ]
  },
  {
   "cell_type": "code",
   "execution_count": 814,
   "metadata": {},
   "outputs": [],
   "source": [
    "# Take in the engine and retriev the matching data page with Aircraft data\n",
    "# Add Aircraft list from web a python list.\n",
    "# Return the python list\n",
    "\n",
    "# url_p1 = 'https://asn.flightsafety.org'\n",
    "# def lookup_ac(url_p2):\n",
    "#     return_list = []\n",
    "#     url = f'{url_p1}{url_p2}'\n",
    "#     sub_content = requests.get(url).text\n",
    "#     soup2 = BeautifulSoup(sub_content,\"html.parser\")\n",
    "#     u_list=soup2.find_all('ul')[1]\n",
    "#     i = 0 \n",
    "#     while i < len(u_list.select('li')):\n",
    "#         (u_list.select('li')[i].text)\n",
    "#         return_list.append(u_list.select('li')[i].text)\n",
    "#         i += 1\n",
    "#     return(return_list)\n",
    "\n",
    "# Create Aircraft column to list aircraft for each engine.\n",
    "#url_df['Aircraft'] = url_df['URL'].map(lookup_ac)\n",
    "\n",
    "# Save df to pickle file.\n",
    "#url_df.to_pickle('zippedData/url_df.pkl')\n",
    "\n",
    "with open('zippedData/url_df.pkl', 'rb') as f:\n",
    "    url_df = pickle.load(f)"
   ]
  },
  {
   "cell_type": "code",
   "execution_count": 815,
   "metadata": {},
   "outputs": [],
   "source": [
    "# Create a row for each aircraft for each engine. \n",
    "# Iterate through url_df['Aircraft'] column. For each element\n",
    "# in list, create a new row.\n",
    "\n",
    "engines = []\n",
    "aircraft = []\n",
    "for idx, row in url_df.iterrows():\n",
    "    for ac in row['Aircraft']:\n",
    "        engines.append(row['Engine'])\n",
    "        aircraft.append(ac)"
   ]
  },
  {
   "cell_type": "code",
   "execution_count": 816,
   "metadata": {},
   "outputs": [],
   "source": [
    "# Create dictionary from lists to load into dataFrame\n",
    "\n",
    "ac_eng_dict = {'Engine': engines, 'Aircraft': aircraft}"
   ]
  },
  {
   "cell_type": "code",
   "execution_count": 817,
   "metadata": {},
   "outputs": [],
   "source": [
    "# Create dataFrame from dictionary\n",
    "\n",
    "engines_df = pd.DataFrame.from_dict(ac_eng_dict)"
   ]
  },
  {
   "cell_type": "code",
   "execution_count": 818,
   "metadata": {},
   "outputs": [],
   "source": [
    "# Change Name for data cleaning and matching\n",
    "\n",
    "engines_df.loc[engines_df['Aircraft'] == 'Bombardier CRJ100 / 200 / 440'] = ['General Electric CF34','Canadair RJ-100']\n",
    "engines_df.loc[engines_df['Aircraft'] == 'Bombardier CRJ700'] = ['General Electric CF34','Canadair RJ-700']\n",
    "engines_df.loc[engines_df['Aircraft'] == 'Bombardier CRJ900'] = ['General Electric CF34','Canadair RJ-900']\n",
    "engines_df.loc[len(engines_df.index)] = ['General Electric CF34', 'Canadair RJ-200']\n",
    "engines_df.loc[len(engines_df.index)] = ['General Electric CF34', 'Canadair RJ-440']\n",
    "engines_df.loc[len(engines_df.index)] = ['General Electric CF34', 'Embraer ERJ-130']\n",
    "engines_df.loc[len(engines_df.index)] = ['General Electric CF34', 'Embraer ERJ-135']\n",
    "engines_df.loc[len(engines_df.index)] = ['General Electric CF34', 'Embraer ERJ-140']\n",
    "engines_df.loc[len(engines_df.index)] = ['General Electric CF34', 'Embraer ERJ-175']\n",
    "engines_df.loc[len(engines_df.index)] = ['General Electric CF34', 'Embraer ERJ-190']\n",
    "engines_df.loc[len(engines_df.index)] = ['Pratt & Whitney JT8D', 'McDonnell Douglas DC-9-80']"
   ]
  },
  {
   "cell_type": "code",
   "execution_count": 819,
   "metadata": {},
   "outputs": [],
   "source": [
    "# Change Aircraft name for data cleaning and matching\n",
    "\n",
    "engines_df['Aircraft'] = [convert_upper(x) for x in engines_df['Aircraft']]\n",
    "engines_df['Aircraft'] = [remove_slash(x) for x in engines_df['Aircraft']]\n",
    "engines_df['Aircraft'] = [remove_dash(x) for x in engines_df['Aircraft']]\n",
    "engines_df['Aircraft'] = [remove_common(x, common_words_eng) for x in engines_df['Aircraft']]\n",
    "engines_df['Aircraft'] = [remove_space(x) for x in engines_df['Aircraft']]\n",
    "engines_df['Aircraft'] = [short_name(x, 4) for x in engines_df['Aircraft']]\n",
    "engines_df['Aircraft'] = [convert_boeing(x) for x in engines_df['Aircraft']]\n",
    "engines_df['Aircraft'] = [convert_crj(x) for x in engines_df['Aircraft']]"
   ]
  },
  {
   "cell_type": "code",
   "execution_count": 820,
   "metadata": {},
   "outputs": [],
   "source": [
    "# Change Engine name for data cleaning and matching\n",
    "\n",
    "engines_df['Engine_Name'] = [convert_upper(x) for x in engines_df['Engine']]\n",
    "engines_df['Engine_Name'] = [remove_slash(x) for x in engines_df['Engine_Name']]\n",
    "engines_df['Engine_Name'] = [remove_dash(x) for x in engines_df['Engine_Name']]\n",
    "engines_df['Engine_Name'] = [remove_common(x, common_words_emi) for x in engines_df['Engine_Name']]\n",
    "engines_df['Engine_Name'] = [remove_common(x, common_words_emi) for x in engines_df['Engine_Name']]\n",
    "engines_df['Engine_Name'] = [remove_space(x) for x in engines_df['Engine_Name']]\n",
    "engines_df['Engine_Name'] = [short_name(x, 5) for x in engines_df['Engine_Name']]\n",
    "#engines_df['Engine_Name'] = [convert_boeing(x) for x in engines_df['Engine_Name']]\n",
    "#engines_df['Engine_Name'] = [convert_crj(x) for x in engines_df['Engine_Name']]"
   ]
  },
  {
   "cell_type": "code",
   "execution_count": 821,
   "metadata": {},
   "outputs": [],
   "source": [
    "# Add Engine data to bts_des\n",
    "\n",
    "bts_des = pd.merge(bts_des, engines_df,left_on='Description', right_on='Aircraft', how='left')\n",
    "bts_des.drop_duplicates(inplace=True)"
   ]
  },
  {
   "cell_type": "markdown",
   "metadata": {},
   "source": [
    "## Emissions Data"
   ]
  },
  {
   "cell_type": "code",
   "execution_count": 822,
   "metadata": {},
   "outputs": [],
   "source": [
    "# Load Engine emissions data\n",
    "\n",
    "emissions_df = pd.read_excel('zippedData/edb-emissions-databank_v30__web_.xlsx',\n",
    "                             sheet_name='Gaseous Emissions and Smoke', \n",
    "                             usecols=('A:D, AJ'))"
   ]
  },
  {
   "cell_type": "code",
   "execution_count": 823,
   "metadata": {},
   "outputs": [],
   "source": [
    "# Change Engine name for data cleaning and matching\n",
    "\n",
    "emissions_df['Engine Identification'] = [convert_upper(x) for x in emissions_df['Engine Identification']]\n",
    "emissions_df['Engine Identification'] = [remove_slash(x) for x in emissions_df['Engine Identification']]\n",
    "emissions_df['Engine Identification'] = [remove_dash(x) for x in emissions_df['Engine Identification']]\n",
    "emissions_df['Engine Identification'] = [remove_common(x, common_words_emi) for x in emissions_df['Engine Identification']]\n",
    "emissions_df['Engine Identification'] = [remove_space(x) for x in emissions_df['Engine Identification']]\n",
    "emissions_df['Engine Identification'] = [short_name(x, 5) for x in emissions_df['Engine Identification']]"
   ]
  },
  {
   "cell_type": "code",
   "execution_count": 824,
   "metadata": {},
   "outputs": [],
   "source": [
    "# Force name change for certain engines\n",
    "\n",
    "emissions_df.at[527,'Engine Identification'] = 'PW100'\n",
    "emissions_df.at[611,'Engine Identification'] = 'PW200'\n",
    "emissions_df.at[633,'Engine Identification'] = 'PW400'"
   ]
  },
  {
   "cell_type": "code",
   "execution_count": 825,
   "metadata": {},
   "outputs": [],
   "source": [
    "# Takes in an Engine name and returns the CO2 value\n",
    "\n",
    "def match_engine(str1):\n",
    "    tmp_df = pd.DataFrame()\n",
    "    mask = tmp_df['engine_id_starts_with_CFM'] = list( \n",
    "        map(lambda x: x.startswith(str1), emissions_df['Engine Identification'])) \n",
    "    filtered_df = emissions_df[mask]\n",
    "    #return(filtered_df.at[0,1]['CO Dp/Foo Avg (g/kN)']).head(1)\n",
    "    if filtered_df.shape[0] < 1:\n",
    "        return(0)\n",
    "    return(filtered_df.iat[0,4])"
   ]
  },
  {
   "cell_type": "code",
   "execution_count": 826,
   "metadata": {},
   "outputs": [],
   "source": [
    "# Add Co2 data to bts_des\n",
    "\n",
    "bts_des['Co2'] = [match_engine(x) for x in bts_des['Engine_Name']]"
   ]
  },
  {
   "cell_type": "markdown",
   "metadata": {},
   "source": [
    "## Data Processing"
   ]
  },
  {
   "cell_type": "code",
   "execution_count": 830,
   "metadata": {},
   "outputs": [],
   "source": [
    "# Some rows have NaN for values. Replace these with 0 value. \n",
    "\n",
    "crash_df['Total.Fatal.Injuries'] = crash_df['Total.Fatal.Injuries'].fillna(0)\n",
    "crash_df['Total.Serious.Injuries'] = crash_df['Total.Serious.Injuries'].fillna(0)\n",
    "crash_df['Total.Minor.Injuries'] = crash_df['Total.Minor.Injuries'].fillna(0)"
   ]
  },
  {
   "cell_type": "code",
   "execution_count": 831,
   "metadata": {},
   "outputs": [],
   "source": [
    "# Our scoring system will use 3 points for fatality; 1 point for serious injury and .5 points for minor injury.\n",
    "\n",
    "crash_df['Injury_Score'] = crash_df['Total.Fatal.Injuries'].map(lambda x: x*3)\n",
    "crash_df['Injury_Score'] = crash_df['Injury_Score'] + crash_df['Total.Serious.Injuries']\n",
    "crash_df['Injury_Score'] = crash_df['Injury_Score'] + (crash_df['Total.Minor.Injuries'] * .5)"
   ]
  },
  {
   "cell_type": "code",
   "execution_count": 833,
   "metadata": {},
   "outputs": [],
   "source": [
    "# Sum Injury Score and put into new temp df\n",
    "\n",
    "total_score = crash_df.groupby('NewModel')['Injury_Score'].sum().to_frame()\n",
    "\n",
    "total_score['Count'] = bts_df.groupby('Description').size()\n",
    "\n",
    "total_score['Rating'] = (total_score['Injury_Score'] / total_score['Count'])\n",
    "\n",
    "total_score = pd.merge(total_score, bts_des[['Co2', 'Aircraft', 'Engine']], left_on='NewModel', right_on='Aircraft', how='left')"
   ]
  },
  {
   "cell_type": "code",
   "execution_count": 834,
   "metadata": {},
   "outputs": [],
   "source": [
    "\n",
    "final_score = total_score.sort_values(['Co2', 'Rating'], ascending=[True, True])\n",
    "\n",
    "# Drop engines for which data is unavailable\n",
    "final_score = final_score.loc[final_score['Co2'] > 0]"
   ]
  },
  {
   "cell_type": "code",
   "execution_count": 835,
   "metadata": {},
   "outputs": [],
   "source": [
    "# Normalize Injury Rating and Co2\n",
    "co2_max = final_score['Co2'].max()\n",
    "co2_min = final_score['Co2'].min()\n",
    "rating_max = final_score['Rating'].max()\n",
    "rating_min = final_score['Rating'].min()\n",
    "co2_range = co2_max - co2_min\n",
    "rating_range = rating_max - rating_min\n",
    "\n",
    "# normalized_value = (feature_value - feature_min) / (feature_max - feature_min) \n",
    "\n",
    "final_score['Co2 Normal'] = [((x - co2_min) / (co2_range) * 100) for x in final_score['Co2']]\n",
    "\n",
    "final_score['Rating Normal'] = [((x - rating_min) / (rating_range) * 100) for x in final_score['Rating']]\n",
    "\n",
    "final_score['Combined'] = final_score['Co2 Normal'] + final_score['Rating Normal']\n",
    "\n",
    "final_sorted = final_score.sort_values(by=['Combined'])"
   ]
  },
  {
   "cell_type": "code",
   "execution_count": 584,
   "metadata": {},
   "outputs": [
    {
     "data": {
      "image/png": "[encoded data removed]",
      "text/plain": [
       "<Figure size 1008x720 with 1 Axes>"
      ]
     },
     "metadata": {
      "needs_background": "light"
     },
     "output_type": "display_data"
    }
   ],
   "source": [
    "plt.rcParams['figure.figsize'] = [14, 10]\n",
    "final_sorted.plot(x='Aircraft', y=['Rating Normal', 'Co2 Normal'], kind='bar', stacked=True)\n",
    "\n",
    "plt.show()"
   ]
  },
  {
   "cell_type": "markdown",
   "metadata": {},
   "source": [
    "## Airport Data Analysis\n"
   ]
  },
  {
   "cell_type": "code",
   "execution_count": 837,
   "metadata": {},
   "outputs": [],
   "source": [
    "# Load Airport data from csv file\n",
    "\n",
    "ap_df = pd.read_csv('zippedData/us-airports.csv')"
   ]
  },
  {
   "cell_type": "code",
   "execution_count": 695,
   "metadata": {},
   "outputs": [],
   "source": [
    "# Get Population data from Wikipedia\n",
    "\n",
    "url = \"https://en.wikipedia.org/wiki/List_of_North_American_metropolitan_areas_by_population\"\n",
    "\n",
    "wiki_df = pd.read_html(url)[0]\n",
    "\n",
    "wiki_df = wiki_df[(wiki_df['Country'] == 'United States')]"
   ]
  },
  {
   "cell_type": "code",
   "execution_count": 838,
   "metadata": {},
   "outputs": [],
   "source": [
    "# Only keep columns we need. Drop other columns\n",
    "\n",
    "ap_df = ap_df[['id', 'ident', 'type', 'name', 'local_region', 'municipality','local_code',\n",
    "               'iata_code', 'keywords']]\n",
    "\n",
    "ap_df = ap_df[(ap_df['type'] == 'large_airport')]"
   ]
  },
  {
   "cell_type": "code",
   "execution_count": 700,
   "metadata": {},
   "outputs": [],
   "source": [
    "# Get count of flights originated at airport and convert to dict\n",
    "\n",
    "ap_counts = bts_df['ORIGIN'].value_counts()\n",
    "ap_counts_dict = ap_counts.to_dict()\n"
   ]
  },
  {
   "cell_type": "code",
   "execution_count": 839,
   "metadata": {},
   "outputs": [],
   "source": [
    "# This takes in an airport code and returns the total number of flights orginating from there\n",
    "\n",
    "def get_num_flt(code):\n",
    "    try:\n",
    "      val = ap_counts_dict[code]\n",
    "    except:\n",
    "      val = 0\n",
    "    \n",
    "    return val"
   ]
  },
  {
   "cell_type": "code",
   "execution_count": 840,
   "metadata": {},
   "outputs": [],
   "source": [
    "# Takes in city name and returns population\n",
    "\n",
    "def get_wiki_pop(city):\n",
    "    try:\n",
    "        pop = wiki_df.loc[wiki_df['Metropolitan area'] == city, 'Population'].values[0]\n",
    "        return pop\n",
    "    except:\n",
    "        return(0)"
   ]
  },
  {
   "cell_type": "code",
   "execution_count": 843,
   "metadata": {},
   "outputs": [],
   "source": [
    "# Create df to combine flight data and population\n",
    "#apuse_df = ap_df.copy()\n",
    "#apuse_df['NumFlights'] = [get_num_flt(x) for x in apuse_df['iata_code']]\n",
    "\n",
    "#ap_mask = (apuse_df['NumFlights'] != 0)\n",
    "#apuse_df = apuse_df.loc[ap_mask]\n",
    "\n"
   ]
  },
  {
   "cell_type": "code",
   "execution_count": 846,
   "metadata": {},
   "outputs": [],
   "source": [
    "# Group city and state airports and sum total flights from multiple airports\n",
    "\n",
    "result2 = apuse_df.groupby(['municipality', 'local_region'])\n",
    "\n",
    "# extract keys from groups\n",
    "\n",
    "keys = result2.groups.keys()\n",
    "\n",
    "# Add num of flights to city name\n",
    "\n",
    "city_lst = []\n",
    "state_lst = []\n",
    "num_flt_lst = []\n",
    "\n",
    "for i in keys:\n",
    "    a_group = result2.get_group(i)\n",
    "    city_lst.append(a_group['municipality'][:1].to_string(index=False))\n",
    "    state_lst.append(a_group['local_region'][:1].to_string(index=False))\n",
    "    num_flt_lst.append(a_group['NumFlights'].sum())\n",
    " "
   ]
  },
  {
   "cell_type": "code",
   "execution_count": 847,
   "metadata": {},
   "outputs": [],
   "source": [
    "# Add population data to result_df\n",
    "\n",
    "result2_dict = {'City': city_lst, 'State': state_lst, 'NumFlights': num_flt_lst}\n",
    "result2_df = pd.DataFrame.from_dict(result2_dict)\n",
    "\n",
    "pop_lst = []\n",
    "for i, x in result2_df.iterrows():\n",
    "    pop_lst.append(get_wiki_pop(x['City']))\n",
    "    \n",
    "result2_df['Population'] = pop_lst\n",
    "\n",
    "result2_df = result2_df.loc[result2_df['Population'] > 0]"
   ]
  },
  {
   "cell_type": "code",
   "execution_count": 715,
   "metadata": {},
   "outputs": [],
   "source": [
    "# Calcul\n",
    "pfr_lst = []\n",
    "for i, x in result2_df.iterrows():\n",
    "    \n",
    "    ratio = x['Population']/x['NumFlights']\n",
    "    pfr_lst.append(ratio)\n",
    "    \n",
    "result2_df['FPR'] = pfr_lst"
   ]
  },
  {
   "cell_type": "code",
   "execution_count": 716,
   "metadata": {},
   "outputs": [
    {
     "name": "stderr",
     "output_type": "stream",
     "text": [
      "<ipython-input-716-6c6b44b75cb6>:1: SettingWithCopyWarning: \n",
      "A value is trying to be set on a copy of a slice from a DataFrame.\n",
      "Try using .loc[row_indexer,col_indexer] = value instead\n",
      "\n",
      "See the caveats in the documentation: https://pandas.pydata.org/pandas-docs/stable/user_guide/indexing.html#returning-a-view-versus-a-copy\n",
      "  result2_df['FPR'] = pfr_lst\n"
     ]
    }
   ],
   "source": [
    "result2_df['FPR'] = pfr_lst"
   ]
  },
  {
   "cell_type": "code",
   "execution_count": 717,
   "metadata": {},
   "outputs": [
    {
     "data": {
      "text/html": [
       "<div>\n",
       "<style scoped>\n",
       "    .dataframe tbody tr th:only-of-type {\n",
       "        vertical-align: middle;\n",
       "    }\n",
       "\n",
       "    .dataframe tbody tr th {\n",
       "        vertical-align: top;\n",
       "    }\n",
       "\n",
       "    .dataframe thead th {\n",
       "        text-align: right;\n",
       "    }\n",
       "</style>\n",
       "<table border=\"1\" class=\"dataframe\">\n",
       "  <thead>\n",
       "    <tr style=\"text-align: right;\">\n",
       "      <th></th>\n",
       "      <th>City</th>\n",
       "      <th>State</th>\n",
       "      <th>NumFlights</th>\n",
       "      <th>Population</th>\n",
       "      <th>FPR</th>\n",
       "    </tr>\n",
       "  </thead>\n",
       "  <tbody>\n",
       "    <tr>\n",
       "      <th>46</th>\n",
       "      <td>Portland</td>\n",
       "      <td>ME</td>\n",
       "      <td>6035</td>\n",
       "      <td>2508928</td>\n",
       "      <td>415.729577</td>\n",
       "    </tr>\n",
       "    <tr>\n",
       "      <th>35</th>\n",
       "      <td>New York</td>\n",
       "      <td>NY</td>\n",
       "      <td>75408</td>\n",
       "      <td>19563798</td>\n",
       "      <td>259.439290</td>\n",
       "    </tr>\n",
       "    <tr>\n",
       "      <th>27</th>\n",
       "      <td>Los Angeles</td>\n",
       "      <td>CA</td>\n",
       "      <td>64172</td>\n",
       "      <td>12870137</td>\n",
       "      <td>200.556894</td>\n",
       "    </tr>\n",
       "    <tr>\n",
       "      <th>30</th>\n",
       "      <td>Miami</td>\n",
       "      <td>FL</td>\n",
       "      <td>35830</td>\n",
       "      <td>6139812</td>\n",
       "      <td>171.359531</td>\n",
       "    </tr>\n",
       "    <tr>\n",
       "      <th>51</th>\n",
       "      <td>Sacramento</td>\n",
       "      <td>CA</td>\n",
       "      <td>15095</td>\n",
       "      <td>2417259</td>\n",
       "      <td>160.136403</td>\n",
       "    </tr>\n",
       "    <tr>\n",
       "      <th>53</th>\n",
       "      <td>San Antonio</td>\n",
       "      <td>TX</td>\n",
       "      <td>20820</td>\n",
       "      <td>2655928</td>\n",
       "      <td>127.566186</td>\n",
       "    </tr>\n",
       "    <tr>\n",
       "      <th>5</th>\n",
       "      <td>Boston</td>\n",
       "      <td>MA</td>\n",
       "      <td>38603</td>\n",
       "      <td>4903026</td>\n",
       "      <td>127.011528</td>\n",
       "    </tr>\n",
       "    <tr>\n",
       "      <th>12</th>\n",
       "      <td>Columbus</td>\n",
       "      <td>OH</td>\n",
       "      <td>18791</td>\n",
       "      <td>2162066</td>\n",
       "      <td>115.058592</td>\n",
       "    </tr>\n",
       "    <tr>\n",
       "      <th>43</th>\n",
       "      <td>Philadelphia</td>\n",
       "      <td>PA</td>\n",
       "      <td>54467</td>\n",
       "      <td>6242746</td>\n",
       "      <td>114.615198</td>\n",
       "    </tr>\n",
       "    <tr>\n",
       "      <th>21</th>\n",
       "      <td>Houston</td>\n",
       "      <td>TX</td>\n",
       "      <td>68883</td>\n",
       "      <td>7370464</td>\n",
       "      <td>106.999753</td>\n",
       "    </tr>\n",
       "    <tr>\n",
       "      <th>55</th>\n",
       "      <td>San Francisco</td>\n",
       "      <td>CA</td>\n",
       "      <td>44643</td>\n",
       "      <td>4578135</td>\n",
       "      <td>102.549896</td>\n",
       "    </tr>\n",
       "    <tr>\n",
       "      <th>45</th>\n",
       "      <td>Pittsburgh</td>\n",
       "      <td>PA</td>\n",
       "      <td>24382</td>\n",
       "      <td>2432532</td>\n",
       "      <td>99.767533</td>\n",
       "    </tr>\n",
       "    <tr>\n",
       "      <th>25</th>\n",
       "      <td>Kansas City</td>\n",
       "      <td>MO</td>\n",
       "      <td>24742</td>\n",
       "      <td>2208782</td>\n",
       "      <td>89.272573</td>\n",
       "    </tr>\n",
       "    <tr>\n",
       "      <th>3</th>\n",
       "      <td>Austin</td>\n",
       "      <td>TX</td>\n",
       "      <td>27482</td>\n",
       "      <td>2423170</td>\n",
       "      <td>88.172986</td>\n",
       "    </tr>\n",
       "    <tr>\n",
       "      <th>44</th>\n",
       "      <td>Phoenix</td>\n",
       "      <td>AZ</td>\n",
       "      <td>57597</td>\n",
       "      <td>5020870</td>\n",
       "      <td>87.172422</td>\n",
       "    </tr>\n",
       "    <tr>\n",
       "      <th>11</th>\n",
       "      <td>Cleveland</td>\n",
       "      <td>OH</td>\n",
       "      <td>25541</td>\n",
       "      <td>2160701</td>\n",
       "      <td>84.597353</td>\n",
       "    </tr>\n",
       "    <tr>\n",
       "      <th>47</th>\n",
       "      <td>Portland</td>\n",
       "      <td>OR</td>\n",
       "      <td>30171</td>\n",
       "      <td>2508928</td>\n",
       "      <td>83.156939</td>\n",
       "    </tr>\n",
       "    <tr>\n",
       "      <th>4</th>\n",
       "      <td>Baltimore</td>\n",
       "      <td>MD</td>\n",
       "      <td>36067</td>\n",
       "      <td>2834813</td>\n",
       "      <td>78.598525</td>\n",
       "    </tr>\n",
       "    <tr>\n",
       "      <th>60</th>\n",
       "      <td>Seattle</td>\n",
       "      <td>WA</td>\n",
       "      <td>51605</td>\n",
       "      <td>4032242</td>\n",
       "      <td>78.136653</td>\n",
       "    </tr>\n",
       "    <tr>\n",
       "      <th>33</th>\n",
       "      <td>Nashville</td>\n",
       "      <td>TN</td>\n",
       "      <td>31262</td>\n",
       "      <td>2071019</td>\n",
       "      <td>66.247169</td>\n",
       "    </tr>\n",
       "    <tr>\n",
       "      <th>22</th>\n",
       "      <td>Indianapolis</td>\n",
       "      <td>IN</td>\n",
       "      <td>32119</td>\n",
       "      <td>2120661</td>\n",
       "      <td>66.025125</td>\n",
       "    </tr>\n",
       "    <tr>\n",
       "      <th>9</th>\n",
       "      <td>Chicago</td>\n",
       "      <td>IL</td>\n",
       "      <td>147645</td>\n",
       "      <td>9279427</td>\n",
       "      <td>62.849585</td>\n",
       "    </tr>\n",
       "    <tr>\n",
       "      <th>2</th>\n",
       "      <td>Atlanta</td>\n",
       "      <td>GA</td>\n",
       "      <td>108520</td>\n",
       "      <td>6238676</td>\n",
       "      <td>57.488721</td>\n",
       "    </tr>\n",
       "    <tr>\n",
       "      <th>42</th>\n",
       "      <td>Orlando</td>\n",
       "      <td>FL</td>\n",
       "      <td>65600</td>\n",
       "      <td>2763017</td>\n",
       "      <td>42.119162</td>\n",
       "    </tr>\n",
       "    <tr>\n",
       "      <th>8</th>\n",
       "      <td>Charlotte</td>\n",
       "      <td>NC</td>\n",
       "      <td>65520</td>\n",
       "      <td>2754657</td>\n",
       "      <td>42.042995</td>\n",
       "    </tr>\n",
       "    <tr>\n",
       "      <th>26</th>\n",
       "      <td>Las Vegas</td>\n",
       "      <td>NV</td>\n",
       "      <td>56466</td>\n",
       "      <td>2322535</td>\n",
       "      <td>41.131566</td>\n",
       "    </tr>\n",
       "    <tr>\n",
       "      <th>14</th>\n",
       "      <td>Denver</td>\n",
       "      <td>CO</td>\n",
       "      <td>109627</td>\n",
       "      <td>2986190</td>\n",
       "      <td>27.239549</td>\n",
       "    </tr>\n",
       "  </tbody>\n",
       "</table>\n",
       "</div>"
      ],
      "text/plain": [
       "             City State  NumFlights  Population         FPR\n",
       "46       Portland    ME        6035     2508928  415.729577\n",
       "35       New York    NY       75408    19563798  259.439290\n",
       "27    Los Angeles    CA       64172    12870137  200.556894\n",
       "30          Miami    FL       35830     6139812  171.359531\n",
       "51     Sacramento    CA       15095     2417259  160.136403\n",
       "53    San Antonio    TX       20820     2655928  127.566186\n",
       "5          Boston    MA       38603     4903026  127.011528\n",
       "12       Columbus    OH       18791     2162066  115.058592\n",
       "43   Philadelphia    PA       54467     6242746  114.615198\n",
       "21        Houston    TX       68883     7370464  106.999753\n",
       "55  San Francisco    CA       44643     4578135  102.549896\n",
       "45     Pittsburgh    PA       24382     2432532   99.767533\n",
       "25    Kansas City    MO       24742     2208782   89.272573\n",
       "3          Austin    TX       27482     2423170   88.172986\n",
       "44        Phoenix    AZ       57597     5020870   87.172422\n",
       "11      Cleveland    OH       25541     2160701   84.597353\n",
       "47       Portland    OR       30171     2508928   83.156939\n",
       "4       Baltimore    MD       36067     2834813   78.598525\n",
       "60        Seattle    WA       51605     4032242   78.136653\n",
       "33      Nashville    TN       31262     2071019   66.247169\n",
       "22   Indianapolis    IN       32119     2120661   66.025125\n",
       "9         Chicago    IL      147645     9279427   62.849585\n",
       "2         Atlanta    GA      108520     6238676   57.488721\n",
       "42        Orlando    FL       65600     2763017   42.119162\n",
       "8       Charlotte    NC       65520     2754657   42.042995\n",
       "26      Las Vegas    NV       56466     2322535   41.131566\n",
       "14         Denver    CO      109627     2986190   27.239549"
      ]
     },
     "execution_count": 717,
     "metadata": {},
     "output_type": "execute_result"
    }
   ],
   "source": [
    "result2_df.sort_values('FPR', ascending=False)"
   ]
  },
  {
   "cell_type": "code",
   "execution_count": 721,
   "metadata": {},
   "outputs": [
    {
     "name": "stdout",
     "output_type": "stream",
     "text": [
      "Python 3.8.5\r\n"
     ]
    }
   ],
   "source": [
    "!python --version"
   ]
  },
  {
   "cell_type": "code",
   "execution_count": null,
   "metadata": {},
   "outputs": [],
   "source": []
  }
 ],
 "metadata": {
  "kernelspec": {
   "display_name": "Python (leanr-env)",
   "language": "python",
   "name": "learn-env"
  },
  "language_info": {
   "codemirror_mode": {
    "name": "ipython",
    "version": 3
   },
   "file_extension": ".py",
   "mimetype": "text/x-python",
   "name": "python",
   "nbconvert_exporter": "python",
   "pygments_lexer": "ipython3",
   "version": "3.8.5"
  }
 },
 "nbformat": 4,
 "nbformat_minor": 4
}
