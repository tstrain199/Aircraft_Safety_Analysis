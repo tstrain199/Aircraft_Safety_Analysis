{
 "cells": [
  {
   "cell_type": "code",
   "execution_count": null,
   "metadata": {},
   "outputs": [],
   "source": []
  },
  {
   "cell_type": "markdown",
   "metadata": {},
   "source": [
    "# Project Title\n",
    "**Author**: Todd Strain\n",
    "\n"
   ]
  },
  {
   "cell_type": "markdown",
   "metadata": {},
   "source": [
    "## Overview\n",
    "Virtucon have decided to diversify and explore new reevnue strams by offering flight operation services\n",
    "for commercial and private enterprises. The company is concerned about the risks and environmental impact\n",
    "of this new line of business. Since the company has little knowledge of these risks we've undertaken an\n",
    "analysis of these issues. Three datasets were used to determin which models of aircraft are the safest to\n",
    "operate while having an acceptable level of environmental impact. The result was the Canadaair RJ190 was the\n",
    "safetst aircraft to operate. The <blank> was the most enironmentaly friendly aircraft. Our reecommendation is \n"
   ]
  },
  {
   "cell_type": "markdown",
   "metadata": {},
   "source": [
    "## Business Problem\n",
    "Virtucon wants to diversify it's business and introduce new revenu streams by operating aircraft for commercial \n",
    "and private enterprises. They want to know the safest and aircraft to operate with the least environmenatl impact.\n",
    "To answer that question we used the Bureau of Transportation Statistics (BTS) formula:\n",
    "\n",
    "*“Rates are computed by dividing the number of Fatalities, Seriously injured persons, Total accidents, and Fatal accidents by the number of Aircraft-miles, Aircraft departures, or Flight hours.” *\n",
    "\n",
    "To determine environmntal impact we used data for popular aircraft from EASA."
   ]
  },
  {
   "cell_type": "markdown",
   "metadata": {},
   "source": [
    "## Data Understanding\n",
    "For aircraft safty we used two datasets NTSB aircraft crash database and BTS T-100 Domestic Segmaent database for the 10 years preceeding 2024.\n",
    "\n",
    "The NTSB crash database includes aviation accident data from 1962 to 2023 about civil aviation accidents and selected incidents in the United States and international waters. We are most interested in the number of accidents per aircraft model type, and the number and grade of passenger injuries.\n",
    "\n",
    "The BTS T-100 Domestic Segment database includes on-flight origin and destination records. From this dataset we use the make and model of aircraft, and the number of flight instances. \n",
    "\n",
    "In both datasets we've selected data from 2014-2024 (most recently reported.) "
   ]
  },
  {
   "cell_type": "markdown",
   "metadata": {},
   "source": [
    "\n",
    "***"
   ]
  },
  {
   "cell_type": "markdown",
   "metadata": {},
   "source": [
    "### Data Structures\n",
    "- **df**            DataFrame. Full AviationData.csv provided by project. Containf flight crash data.\n",
    "- **bts_df**        DataFrame. 5 years of flight data from BTS. Contains airline flight data.\n",
    "- **ac_df**         DataFrame. Legend that matches aircraft code in bts_df to Make/Model.\n",
    "- **joined_df**     DataFrame. Merged bts_df with Make/Model from ac_df.\n",
    "- **bts_actype**    DataFrame. List of aircraft from joined_df. Used to create spreadsheet for standarized names.\n",
    "- **bts_map_df**    DataFrame. Imported from bts_actype spreadsheet with actype converted to standardized names.\n",
    "- **bts_map_dic**   Dict. bts_map_df converted to dictionary so it can be added as new column to joined_df.\n",
    "- **crash_actype**  DataFrame. Copy of Make, Model columns from df. Later updated with standardized model name.\n",
    "- **custom_ac**     DataFrame. Copy of Model column from crash_actype with value counts.\n",
    "- **custom_ac_li**  List. custom_ac converted to list. Used to update crash_actype individual Make with 'Custom'.\n",
    "- **df3**           DataFrame. df merged with updated crash_actype to get standardized names. Added InjuryScore column.\n",
    "- **total_score**   DataFrame. Aircraft type and score totaled from df3.\n",
    "\n",
    "\n"
   ]
  },
  {
   "cell_type": "markdown",
   "metadata": {},
   "source": [
    "## Data Clenaing and Preparation\n",
    "***"
   ]
  },
  {
   "cell_type": "code",
   "execution_count": 187,
   "metadata": {},
   "outputs": [],
   "source": [
    "import pandas as pd\n",
    "import numpy as np\n",
    "import glob"
   ]
  },
  {
   "cell_type": "code",
   "execution_count": 188,
   "metadata": {
    "scrolled": true
   },
   "outputs": [
    {
     "name": "stderr",
     "output_type": "stream",
     "text": [
      "<ipython-input-188-46a298358933>:1: DtypeWarning: Columns (6,7,28) have mixed types. Specify dtype option on import or set low_memory=False.\n",
      "  df = pd.read_csv('zippedData/AviationData.csv', encoding='latin-1')\n"
     ]
    }
   ],
   "source": [
    "df = pd.read_csv('zippedData/AviationData.csv', encoding='latin-1')"
   ]
  },
  {
   "cell_type": "code",
   "execution_count": 189,
   "metadata": {},
   "outputs": [
    {
     "data": {
      "text/plain": [
       "Index(['Event.Id', 'Investigation.Type', 'Accident.Number', 'Event.Date',\n",
       "       'Location', 'Country', 'Latitude', 'Longitude', 'Airport.Code',\n",
       "       'Airport.Name', 'Injury.Severity', 'Aircraft.damage',\n",
       "       'Aircraft.Category', 'Registration.Number', 'Make', 'Model',\n",
       "       'Amateur.Built', 'Number.of.Engines', 'Engine.Type', 'FAR.Description',\n",
       "       'Schedule', 'Purpose.of.flight', 'Air.carrier', 'Total.Fatal.Injuries',\n",
       "       'Total.Serious.Injuries', 'Total.Minor.Injuries', 'Total.Uninjured',\n",
       "       'Weather.Condition', 'Broad.phase.of.flight', 'Report.Status',\n",
       "       'Publication.Date'],\n",
       "      dtype='object')"
      ]
     },
     "execution_count": 189,
     "metadata": {},
     "output_type": "execute_result"
    }
   ],
   "source": [
    "df.columns"
   ]
  },
  {
   "cell_type": "code",
   "execution_count": 190,
   "metadata": {},
   "outputs": [
    {
     "data": {
      "text/plain": [
       "(88889, 31)"
      ]
     },
     "execution_count": 190,
     "metadata": {},
     "output_type": "execute_result"
    }
   ],
   "source": [
    "df.shape"
   ]
  },
  {
   "cell_type": "code",
   "execution_count": 191,
   "metadata": {},
   "outputs": [],
   "source": [
    "# Drop rows before 2012 so we can match data by year in bts_df\n",
    "date_mask = (df['Event.Date'] > '2011-12-31')\n",
    "# THIS RETURNS ALL ROWS GREATER THAN THE DATE PROVIDED ABOVE\n",
    "df = df.loc[date_mask]"
   ]
  },
  {
   "cell_type": "code",
   "execution_count": 192,
   "metadata": {},
   "outputs": [],
   "source": [
    "# Rows without an aircraft model type don't help use. Dropping these rows.\n",
    "df = df.dropna(subset=['Model'])"
   ]
  },
  {
   "cell_type": "code",
   "execution_count": 193,
   "metadata": {},
   "outputs": [],
   "source": [
    "# Some values in Make are upper, and some are mixed case. Change the Make column to all uppercase\n",
    "df['Make'] = df['Make'].str.upper()"
   ]
  },
  {
   "cell_type": "code",
   "execution_count": 194,
   "metadata": {
    "scrolled": true
   },
   "outputs": [],
   "source": [
    "# Convert Event.Date from string to datetime. Used to filter df on years\n",
    "df['Event.Date'] = df['Event.Date'].astype('datetime64[ns]')"
   ]
  },
  {
   "cell_type": "code",
   "execution_count": 195,
   "metadata": {},
   "outputs": [],
   "source": [
    "# Load in T100 data from csv files\n",
    "files_li = glob.glob('zippedData/T_T100D*.2.csv') \n",
    "bts_df = pd.DataFrame(pd.read_csv(files_li[0])) \n",
    "for i in range(1,len(files_li)): \n",
    "    data = pd.read_csv(files_li[i]) \n",
    "    df1 = pd.DataFrame(data) \n",
    "    bts_df = pd.concat([df1,bts_df],axis=0, ignore_index=True) "
   ]
  },
  {
   "cell_type": "code",
   "execution_count": 196,
   "metadata": {},
   "outputs": [
    {
     "data": {
      "text/plain": [
       "Index(['DISTANCE', 'AIR_TIME', 'UNIQUE_CARRIER_NAME', 'ORIGIN', 'DEST',\n",
       "       'AIRCRAFT_TYPE', 'YEAR', 'MONTH', 'DISTANCE_GROUP'],\n",
       "      dtype='object')"
      ]
     },
     "execution_count": 196,
     "metadata": {},
     "output_type": "execute_result"
    }
   ],
   "source": [
    "bts_df.columns"
   ]
  },
  {
   "cell_type": "code",
   "execution_count": 197,
   "metadata": {
    "scrolled": true
   },
   "outputs": [
    {
     "data": {
      "text/plain": [
       "YEAR\n",
       "2022    411461\n",
       "2019    395552\n",
       "2021    384081\n",
       "2016    382397\n",
       "2018    380238\n",
       "2017    373658\n",
       "2015    370162\n",
       "2014    358366\n",
       "2012    347452\n",
       "2013    343132\n",
       "2020    297833\n",
       "Name: count, dtype: int64"
      ]
     },
     "execution_count": 197,
     "metadata": {},
     "output_type": "execute_result"
    }
   ],
   "source": [
    "bts_df['YEAR'].value_counts()"
   ]
  },
  {
   "cell_type": "code",
   "execution_count": 198,
   "metadata": {},
   "outputs": [
    {
     "data": {
      "text/plain": [
       "UNIQUE_CARRIER_NAME\n",
       "Southwest Airlines Co.                  381471\n",
       "Delta Air Lines Inc.                    348303\n",
       "United Air Lines Inc.                   301166\n",
       "SkyWest Airlines Inc.                   237574\n",
       "American Airlines Inc.                  188528\n",
       "Federal Express Corporation             186737\n",
       "ExpressJet Airlines LLC d/b/a aha!      129799\n",
       "Hageland Aviation Service               122776\n",
       "Allegiant Air                           122148\n",
       "United Parcel Service                   107885\n",
       "Republic Airline                        104241\n",
       "Alaska Airlines Inc.                     98684\n",
       "Envoy Air                                92405\n",
       "Frontier Airlines Inc.                   85449\n",
       "Endeavor Air Inc.                        85005\n",
       "Spirit Air Lines                         79363\n",
       "Grant Aviation                           72125\n",
       "JetBlue Airways                          69685\n",
       "PSA Airlines Inc.                        68853\n",
       "Ryan Air f/k/a Arctic Transportation     65132\n",
       "Name: count, dtype: int64"
      ]
     },
     "execution_count": 198,
     "metadata": {},
     "output_type": "execute_result"
    }
   ],
   "source": [
    "bts_df['UNIQUE_CARRIER_NAME'].value_counts().head(20)"
   ]
  },
  {
   "cell_type": "markdown",
   "metadata": {},
   "source": [
    "## Because the Aviation Crash Data and BTS use different model names for Aircraft type we need to standardize on a set of names.\n",
    "***"
   ]
  },
  {
   "cell_type": "code",
   "execution_count": 199,
   "metadata": {},
   "outputs": [],
   "source": [
    "# BTS uses number code to identify aircraft type in it's flight data. The legend is in a seperate csv file. \n",
    "# Load in the legend for aircraft type. \n",
    "ac_df = pd.read_csv('zippedData/L_AIRCRAFT_TYPE.csv')"
   ]
  },
  {
   "cell_type": "code",
   "execution_count": 200,
   "metadata": {},
   "outputs": [],
   "source": [
    "# Merge flight data with aircfaft type. This will match BTS type names to the fligt data.\n",
    "joined_df = pd.merge(bts_df,ac_df,left_on='AIRCRAFT_TYPE',right_on='Code')"
   ]
  },
  {
   "cell_type": "code",
   "execution_count": 201,
   "metadata": {},
   "outputs": [],
   "source": [
    "# Making a list of aircraft from the flight data. We use this list to assign standard names.\n",
    "bts_actype = joined_df[['Description']].copy()"
   ]
  },
  {
   "cell_type": "code",
   "execution_count": 202,
   "metadata": {},
   "outputs": [],
   "source": [
    "# Drop duplicates from flight aircraft \n",
    "bts_actype.drop_duplicates(inplace=True)"
   ]
  },
  {
   "cell_type": "code",
   "execution_count": null,
   "metadata": {},
   "outputs": [],
   "source": [
    "# Write this to Excel so we can standardize aircraft names.\n",
    "# bts_actype.to_excel('zippedData/bts_actype2.xlsx')"
   ]
  },
  {
   "cell_type": "code",
   "execution_count": 203,
   "metadata": {},
   "outputs": [],
   "source": [
    "# Read in our standardized label spreadsheet after edit\n",
    "bts_map_df = pd.read_excel('zippedData/bts_actype.2.xlsx')"
   ]
  },
  {
   "cell_type": "code",
   "execution_count": 204,
   "metadata": {},
   "outputs": [],
   "source": [
    "bts_map_df['Model'] = bts_map_df['Model'].astype(str)"
   ]
  },
  {
   "cell_type": "code",
   "execution_count": 205,
   "metadata": {},
   "outputs": [],
   "source": [
    "# Convert standardized name spreadsheet to mapping dictionary\n",
    "bts_map_dic = dict(zip(bts_map_df.Description, bts_map_df.Model))"
   ]
  },
  {
   "cell_type": "code",
   "execution_count": 206,
   "metadata": {},
   "outputs": [],
   "source": [
    "# Map original aircraft names to standardized name and put in new column\n",
    "joined_df['NewModel'] = joined_df['Description'].map(bts_map_dic)"
   ]
  },
  {
   "cell_type": "code",
   "execution_count": null,
   "metadata": {},
   "outputs": [],
   "source": [
    "joined_df.loc[4044331]"
   ]
  },
  {
   "cell_type": "code",
   "execution_count": 207,
   "metadata": {},
   "outputs": [],
   "source": [
    "# Convert some intergers to strings\n",
    "joined_df['NewModel'] = joined_df['NewModel'].astype(str)"
   ]
  },
  {
   "cell_type": "code",
   "execution_count": 208,
   "metadata": {},
   "outputs": [],
   "source": [
    "# Making a list of aircraft from the NTSB crash data. \n",
    "crash_actype = df[['Make', 'Model']].copy()"
   ]
  },
  {
   "cell_type": "code",
   "execution_count": 209,
   "metadata": {},
   "outputs": [],
   "source": [
    "# We really want to do this on crash_actype\n",
    "#df['Model'].replace('-', '', inplace=True)\n",
    "#df['Model'].replace('/', '', inplace=True)\n",
    "crash_actype['Model'].replace('-', '', inplace=True, regex=True)\n",
    "crash_actype['Model'].replace('/', '', inplace=True, regex=True)"
   ]
  },
  {
   "cell_type": "code",
   "execution_count": 210,
   "metadata": {},
   "outputs": [],
   "source": [
    "# Drop duplicates from the crash_actype df.\n",
    "crash_actype.drop_duplicates(inplace=True)\n"
   ]
  },
  {
   "cell_type": "code",
   "execution_count": 211,
   "metadata": {},
   "outputs": [],
   "source": [
    "# Get value counts so we can drop single instance aircraft.\n",
    "custom_ac = crash_actype['Model'].value_counts().to_frame()"
   ]
  },
  {
   "cell_type": "code",
   "execution_count": 212,
   "metadata": {},
   "outputs": [],
   "source": [
    "# Convert custom_ac to list. Used to update crash_actype individual Make with 'Custom'.\n",
    "custom_ac = custom_ac[custom_ac['count'] > 2]\n",
    "custom_ac_li = custom_ac.index.to_list()\n"
   ]
  },
  {
   "cell_type": "code",
   "execution_count": 213,
   "metadata": {},
   "outputs": [],
   "source": [
    "# Lots of duplicates after replacing Make with 'Custom'. Drop duplicates from the crash_actype df\n",
    "crash_actype.drop_duplicates(inplace=True)"
   ]
  },
  {
   "cell_type": "code",
   "execution_count": 214,
   "metadata": {},
   "outputs": [],
   "source": [
    "# Replace individual Maker with 'Custom'\n",
    "for model in custom_ac_li:\n",
    "    crash_actype.loc[crash_actype['Model'] == model, 'Make'] = 'Custom'"
   ]
  },
  {
   "cell_type": "code",
   "execution_count": 186,
   "metadata": {},
   "outputs": [
    {
     "data": {
      "text/plain": [
       "15418"
      ]
     },
     "execution_count": 186,
     "metadata": {},
     "output_type": "execute_result"
    }
   ],
   "source": [
    "crash_actype['NewModel'].isna().sum()"
   ]
  },
  {
   "cell_type": "code",
   "execution_count": 215,
   "metadata": {},
   "outputs": [],
   "source": [
    "''' \n",
    "This function will \n",
    "1) take in a model string from crash_actype \n",
    "2) match it with a newmodel from joined_df\n",
    "3) update crash_actype with new_model column\n",
    "TODO: Replace with faster version.\n",
    "'''\n",
    "def match_types(model):\n",
    "    for newmodel in joined_df['NewModel']:\n",
    "        if model.startswith(newmodel):\n",
    "            #print(f'Processing: {model} \\t:{newmodel}')\n",
    "            return newmodel\n",
    "        "
   ]
  },
  {
   "cell_type": "code",
   "execution_count": null,
   "metadata": {},
   "outputs": [],
   "source": [
    "\"\"\"\n",
    "    Creating the NewModel colum takes a lot of CPU and time. It's been saved as a pickle file so we can just\n",
    "    read it in and save time.\n",
    "\"\"\"\n",
    "#crash_actype['NewModel'] = [match_types(model) for model in crash_actype['Model']]"
   ]
  },
  {
   "cell_type": "code",
   "execution_count": 179,
   "metadata": {},
   "outputs": [],
   "source": [
    "# Save df to pickle file.\n",
    "#crash_actype.to_pickle('zippedData/crash_actype.2.pkl')"
   ]
  },
  {
   "cell_type": "code",
   "execution_count": 216,
   "metadata": {},
   "outputs": [],
   "source": [
    "# Read in pickle file\n",
    "crash_actype = pd.read_pickle(r'zippedData/crash_actype.pkl')"
   ]
  },
  {
   "cell_type": "markdown",
   "metadata": {},
   "source": [
    "## Data Modeling\n",
    "***"
   ]
  },
  {
   "cell_type": "code",
   "execution_count": 217,
   "metadata": {},
   "outputs": [
    {
     "data": {
      "text/plain": [
       "NewModel\n",
       "737         888665\n",
       "A320        642230\n",
       "208         219309\n",
       "RJ100       201830\n",
       "757         178044\n",
       "ERJ175      173038\n",
       "RJ700       169427\n",
       "MD80        156614\n",
       "145         153205\n",
       "206         139183\n",
       "CRJ700      137718\n",
       "767         104339\n",
       "A300         65703\n",
       "PA31         63511\n",
       "EMB170       57466\n",
       "747          44479\n",
       "1900         44466\n",
       "DASH8        39522\n",
       "190          38706\n",
       "PC12         36956\n",
       "212          32537\n",
       "MD11         28799\n",
       "DC10         27205\n",
       "DHC2         26880\n",
       "140          24471\n",
       "DC9          22351\n",
       "nan          20616\n",
       "777          19567\n",
       "PA32         16926\n",
       "135          15880\n",
       "King Air     15591\n",
       "GA8          12387\n",
       "402          12274\n",
       "727          12106\n",
       "GIV          11323\n",
       "340B         11120\n",
       "A330         10326\n",
       "C185         10051\n",
       "FALCON        8001\n",
       "EMB120        7929\n",
       "Name: count, dtype: int64"
      ]
     },
     "execution_count": 217,
     "metadata": {},
     "output_type": "execute_result"
    }
   ],
   "source": [
    "# List the top 40 flown aircraft types\n",
    "joined_df['NewModel'].value_counts().head(40)"
   ]
  },
  {
   "cell_type": "code",
   "execution_count": 248,
   "metadata": {},
   "outputs": [
    {
     "data": {
      "text/plain": [
       "Model\n",
       "PA-34-200T        15\n",
       "7BCM              15\n",
       "M20M              15\n",
       "AT-802A           15\n",
       "737 7H4           15\n",
       "150J              15\n",
       "340A              15\n",
       "PA 24-250         15\n",
       "B75N1             15\n",
       "G36               14\n",
       "PA-23-250         14\n",
       "RV-8              14\n",
       "PA-28-235         14\n",
       "F33               14\n",
       "DHC-2             14\n",
       "SGS 2-33A         14\n",
       "PA38              14\n",
       "M20TN             14\n",
       "188               14\n",
       "RV7               14\n",
       "114               14\n",
       "PA-28-151         14\n",
       "G 164B            14\n",
       "AL3               14\n",
       "441               13\n",
       "PA-24-260         13\n",
       "PA 25-235         13\n",
       "PA-28             13\n",
       "150H              13\n",
       "55                13\n",
       "AT-502            13\n",
       "310R              13\n",
       "B36TC             13\n",
       "JA30 SUPERSTOL    13\n",
       "RV-7              13\n",
       "SPORTCRUISER      13\n",
       "II                13\n",
       "PA 22             13\n",
       "PA 28R-200        13\n",
       "AT-301            13\n",
       "RV-12             13\n",
       "A-1C-180          13\n",
       "PA 28-161         13\n",
       "PA-28R-180        13\n",
       "7EC               13\n",
       "560XL             13\n",
       "DA20              13\n",
       "172L              13\n",
       "AS 350 B3         13\n",
       "RV 4              12\n",
       "Name: count, dtype: int64"
      ]
     },
     "execution_count": 248,
     "metadata": {},
     "output_type": "execute_result"
    }
   ],
   "source": [
    "df['Model'].value_counts()[200:250]"
   ]
  },
  {
   "cell_type": "code",
   "execution_count": 218,
   "metadata": {},
   "outputs": [],
   "source": [
    "# Merge Aircraft Data with crash_actype to get standardized Aircraft Types\n",
    "df3 = pd.merge(df, crash_actype,left_on='Model',right_on='Model', suffixes=(\"_l\", \"_r\"))"
   ]
  },
  {
   "cell_type": "code",
   "execution_count": 219,
   "metadata": {},
   "outputs": [],
   "source": [
    "top_40 = joined_df['NewModel'].value_counts().head(40).index.to_list()"
   ]
  },
  {
   "cell_type": "code",
   "execution_count": 249,
   "metadata": {},
   "outputs": [
    {
     "data": {
      "text/plain": [
       "['737',\n",
       " 'A320',\n",
       " '208',\n",
       " 'RJ100',\n",
       " '757',\n",
       " 'ERJ175',\n",
       " 'RJ700',\n",
       " 'MD80',\n",
       " '145',\n",
       " '206',\n",
       " 'CRJ700',\n",
       " '767',\n",
       " 'A300',\n",
       " 'PA31',\n",
       " 'EMB170',\n",
       " '747',\n",
       " '1900',\n",
       " 'DASH8',\n",
       " '190',\n",
       " 'PC12',\n",
       " '212',\n",
       " 'MD11',\n",
       " 'DC10',\n",
       " 'DHC2',\n",
       " '140',\n",
       " 'DC9',\n",
       " 'nan',\n",
       " '777',\n",
       " 'PA32',\n",
       " '135',\n",
       " 'King Air',\n",
       " 'GA8',\n",
       " '402',\n",
       " '727',\n",
       " 'GIV',\n",
       " '340B',\n",
       " 'A330',\n",
       " 'C185',\n",
       " 'FALCON',\n",
       " 'EMB120']"
      ]
     },
     "execution_count": 249,
     "metadata": {},
     "output_type": "execute_result"
    }
   ],
   "source": [
    "top_40"
   ]
  },
  {
   "cell_type": "code",
   "execution_count": 225,
   "metadata": {},
   "outputs": [],
   "source": [
    "df3 = df3.loc[df3['NewModel'].isin(top_40)]"
   ]
  },
  {
   "cell_type": "code",
   "execution_count": 226,
   "metadata": {},
   "outputs": [
    {
     "data": {
      "text/plain": [
       "(3201, 34)"
      ]
     },
     "execution_count": 226,
     "metadata": {},
     "output_type": "execute_result"
    }
   ],
   "source": [
    "df3.shape"
   ]
  },
  {
   "cell_type": "code",
   "execution_count": 227,
   "metadata": {},
   "outputs": [],
   "source": [
    "# Some rows have NaN for values. Replace these with 0 value. \n",
    "df3['Total.Fatal.Injuries'] = df3['Total.Fatal.Injuries'].fillna(0)\n",
    "df3['Total.Serious.Injuries'] = df3['Total.Serious.Injuries'].fillna(0)\n",
    "df3['Total.Minor.Injuries'] = df3['Total.Minor.Injuries'].fillna(0)"
   ]
  },
  {
   "cell_type": "code",
   "execution_count": 228,
   "metadata": {},
   "outputs": [
    {
     "data": {
      "text/plain": [
       "0"
      ]
     },
     "execution_count": 228,
     "metadata": {},
     "output_type": "execute_result"
    }
   ],
   "source": [
    "# Check replacement\n",
    "df3['Total.Fatal.Injuries'].isna().sum()\n"
   ]
  },
  {
   "cell_type": "code",
   "execution_count": 229,
   "metadata": {},
   "outputs": [],
   "source": [
    "# Our scoring system will use 3 points for fatality; 1 point for serious injury and .5 points for minor injury.\n",
    "df3['Injury_Score'] = df3['Total.Fatal.Injuries'].map(lambda x: x*3)\n",
    "df3['Injury_Score'] = df3['Injury_Score'] + df3['Total.Serious.Injuries']\n",
    "df3['Injury_Score'] = df3['Injury_Score'] + (df3['Total.Minor.Injuries'] * .5)"
   ]
  },
  {
   "cell_type": "code",
   "execution_count": 230,
   "metadata": {},
   "outputs": [
    {
     "data": {
      "text/html": [
       "<div>\n",
       "<style scoped>\n",
       "    .dataframe tbody tr th:only-of-type {\n",
       "        vertical-align: middle;\n",
       "    }\n",
       "\n",
       "    .dataframe tbody tr th {\n",
       "        vertical-align: top;\n",
       "    }\n",
       "\n",
       "    .dataframe thead th {\n",
       "        text-align: right;\n",
       "    }\n",
       "</style>\n",
       "<table border=\"1\" class=\"dataframe\">\n",
       "  <thead>\n",
       "    <tr style=\"text-align: right;\">\n",
       "      <th></th>\n",
       "      <th>Total.Fatal.Injuries</th>\n",
       "      <th>Total.Serious.Injuries</th>\n",
       "      <th>Total.Minor.Injuries</th>\n",
       "      <th>Injury_Score</th>\n",
       "    </tr>\n",
       "  </thead>\n",
       "  <tbody>\n",
       "    <tr>\n",
       "      <th>2485</th>\n",
       "      <td>0.0</td>\n",
       "      <td>0.0</td>\n",
       "      <td>0.0</td>\n",
       "      <td>0.0</td>\n",
       "    </tr>\n",
       "    <tr>\n",
       "      <th>2486</th>\n",
       "      <td>0.0</td>\n",
       "      <td>0.0</td>\n",
       "      <td>0.0</td>\n",
       "      <td>0.0</td>\n",
       "    </tr>\n",
       "    <tr>\n",
       "      <th>2487</th>\n",
       "      <td>0.0</td>\n",
       "      <td>0.0</td>\n",
       "      <td>0.0</td>\n",
       "      <td>0.0</td>\n",
       "    </tr>\n",
       "    <tr>\n",
       "      <th>2488</th>\n",
       "      <td>0.0</td>\n",
       "      <td>0.0</td>\n",
       "      <td>0.0</td>\n",
       "      <td>0.0</td>\n",
       "    </tr>\n",
       "    <tr>\n",
       "      <th>2489</th>\n",
       "      <td>0.0</td>\n",
       "      <td>0.0</td>\n",
       "      <td>0.0</td>\n",
       "      <td>0.0</td>\n",
       "    </tr>\n",
       "  </tbody>\n",
       "</table>\n",
       "</div>"
      ],
      "text/plain": [
       "      Total.Fatal.Injuries  Total.Serious.Injuries  Total.Minor.Injuries   \n",
       "2485                   0.0                     0.0                   0.0  \\\n",
       "2486                   0.0                     0.0                   0.0   \n",
       "2487                   0.0                     0.0                   0.0   \n",
       "2488                   0.0                     0.0                   0.0   \n",
       "2489                   0.0                     0.0                   0.0   \n",
       "\n",
       "      Injury_Score  \n",
       "2485           0.0  \n",
       "2486           0.0  \n",
       "2487           0.0  \n",
       "2488           0.0  \n",
       "2489           0.0  "
      ]
     },
     "execution_count": 230,
     "metadata": {},
     "output_type": "execute_result"
    }
   ],
   "source": [
    "df3.loc[:,['Total.Fatal.Injuries', 'Total.Serious.Injuries','Total.Minor.Injuries','Injury_Score']].head(5)\n"
   ]
  },
  {
   "cell_type": "code",
   "execution_count": 231,
   "metadata": {},
   "outputs": [],
   "source": [
    "total_score = df3.groupby('NewModel')['Injury_Score'].sum().to_frame()"
   ]
  },
  {
   "cell_type": "code",
   "execution_count": 236,
   "metadata": {},
   "outputs": [
    {
     "data": {
      "text/plain": [
       "NewModel\n",
       "206         1492\n",
       "737          429\n",
       "A320         222\n",
       "208          159\n",
       "140          158\n",
       "PA32         107\n",
       "A330          81\n",
       "777           72\n",
       "402           71\n",
       "PA31          60\n",
       "767           55\n",
       "747           47\n",
       "757           42\n",
       "1900          32\n",
       "212           32\n",
       "PC12          22\n",
       "DHC2          18\n",
       "FALCON        18\n",
       "MD11          18\n",
       "MD80          12\n",
       "GIV           11\n",
       "A300          10\n",
       "190            8\n",
       "DC9            6\n",
       "GA8            6\n",
       "727            5\n",
       "EMB120         4\n",
       "145            2\n",
       "King Air       1\n",
       "ERJ175         1\n",
       "Name: count, dtype: int64"
      ]
     },
     "execution_count": 236,
     "metadata": {},
     "output_type": "execute_result"
    }
   ],
   "source": [
    "df3['NewModel'].value_counts()"
   ]
  },
  {
   "cell_type": "code",
   "execution_count": 232,
   "metadata": {},
   "outputs": [
    {
     "data": {
      "text/plain": [
       "pandas.core.frame.DataFrame"
      ]
     },
     "execution_count": 232,
     "metadata": {},
     "output_type": "execute_result"
    }
   ],
   "source": [
    "type(total_score)"
   ]
  },
  {
   "cell_type": "code",
   "execution_count": 233,
   "metadata": {},
   "outputs": [],
   "source": [
    "total_score['Count'] = joined_df.groupby('NewModel').size()"
   ]
  },
  {
   "cell_type": "code",
   "execution_count": 235,
   "metadata": {},
   "outputs": [
    {
     "data": {
      "text/plain": [
       "NewModel\n",
       "12           88\n",
       "124         601\n",
       "135       15880\n",
       "140       24471\n",
       "145      153205\n",
       "172        6631\n",
       "180        1350\n",
       "182         110\n",
       "185        2520\n",
       "190       38706\n",
       "1900      44466\n",
       "2000        702\n",
       "204B         21\n",
       "206      139183\n",
       "208      219309\n",
       "212       32537\n",
       "23          109\n",
       "235         264\n",
       "31          525\n",
       "328        1936\n",
       "340A       2727\n",
       "340B      11120\n",
       "35A        3552\n",
       "360         330\n",
       "4000        182\n",
       "400XP      1106\n",
       "402       12274\n",
       "407         755\n",
       "412         224\n",
       "500         168\n",
       "5000       4047\n",
       "550        3676\n",
       "60          230\n",
       "600           4\n",
       "6000        583\n",
       "65          366\n",
       "650         734\n",
       "700        1981\n",
       "727       12106\n",
       "737      888665\n",
       "747       44479\n",
       "757      178044\n",
       "767      104339\n",
       "76TD         35\n",
       "777       19567\n",
       "787        4912\n",
       "99          887\n",
       "A119         69\n",
       "A200       4570\n",
       "dtype: int64"
      ]
     },
     "execution_count": 235,
     "metadata": {},
     "output_type": "execute_result"
    }
   ],
   "source": [
    "joined_df.groupby('NewModel').size()[1:50]\n"
   ]
  },
  {
   "cell_type": "code",
   "execution_count": null,
   "metadata": {},
   "outputs": [],
   "source": [
    "total_score.columns"
   ]
  },
  {
   "cell_type": "code",
   "execution_count": null,
   "metadata": {},
   "outputs": [],
   "source": [
    "total_score['Rating'] = (total_score['Injury_Score'] / total_score['Count']) * 1000"
   ]
  },
  {
   "cell_type": "code",
   "execution_count": null,
   "metadata": {},
   "outputs": [],
   "source": [
    "total_score.sort_values('Rating')"
   ]
  },
  {
   "cell_type": "code",
   "execution_count": null,
   "metadata": {},
   "outputs": [],
   "source": [
    "df['Broad.phase.of.flight'].notna().sum()"
   ]
  },
  {
   "cell_type": "code",
   "execution_count": null,
   "metadata": {},
   "outputs": [],
   "source": []
  }
 ],
 "metadata": {
  "kernelspec": {
   "display_name": "Python (leanr-env)",
   "language": "python",
   "name": "learn-env"
  },
  "language_info": {
   "codemirror_mode": {
    "name": "ipython",
    "version": 3
   },
   "file_extension": ".py",
   "mimetype": "text/x-python",
   "name": "python",
   "nbconvert_exporter": "python",
   "pygments_lexer": "ipython3",
   "version": "3.8.5"
  }
 },
 "nbformat": 4,
 "nbformat_minor": 4
}
