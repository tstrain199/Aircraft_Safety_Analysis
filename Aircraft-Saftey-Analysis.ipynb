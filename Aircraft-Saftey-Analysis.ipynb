{
 "cells": [
  {
   "cell_type": "markdown",
   "metadata": {},
   "source": [
    "## Overview\n",
    "Virtucon has deceided to enter into the air transportation business. The company is worried about the risk involved with aircraft operations and also, like the whole of this industry, it's environmental impact. Along the way we've asked the importanat questions of which aircraft is safest and which engine configuration has the least environmental impact. To give the company a competitive advantage we also searched for cities that are underserverd by the industry. \n",
    "\n",
    "Data was gathered from 4 distinct data sets to provide insights and answers to these questions. We've included the top 40 commercial aircraft operating between 2012 to 2022, the most recent years where data is avilable. Our recomendations for underseved cities are based on Census Bureau and Bureau of Transportation Statistics data.\n",
    "\n",
    "Shown in the tables below is a summary of our findings for aircraft and engine combination and the underserved cities.\n",
    "\n",
    "|Type  |   Narrow Body    |         Wide Body       |\n",
    "|:------:| :--------------:   | :------------------------:|\n",
    "| Used |   Airbus A319 / IAE V2500   | McDonell Douglas MD11 / Pratt & Whitney PW4000 |\n",
    "| New  | Embraer ERJ-175 / General Electric CF34\t |      Boeing 767 / Pratt & Whitney PW4000      | \n",
    "\n",
    "\n",
    "| Underservered Metro Area |\n",
    "| :----------------------: |\n",
    "| Portland\tME             |\n",
    "| New York\tNY             |\t\n",
    "| Los Angeles CA           |\t\n",
    "| Miami\tFL\t               |"
   ]
  },
  {
   "cell_type": "markdown",
   "metadata": {},
   "source": [
    "## Business Problem\n",
    "Virtucon wants to enter the comercial aviation space. Before they do they want to understand the risks to operating in this space. Specifically they want ot understand aircraft saftey and impact on the enviornment. We've analyzed aircraft crash data, engine emissions data, and commercial flight data.\n",
    "\n",
    "## Data\n",
    "There are six sets of data used in this project, all coming form different sources.  The civil avaition accident data is from the National Trasportstion Safety Board. The domestic flight data is from the Buerau of Transportation Statistics. Data regarding Aircraft and Engines is from the Aircraft Safety Institute. Data on population comes form Wikipedia. Aircraft emmisions dat comes from th ICAO.\n"
   ]
  },
  {
   "cell_type": "markdown",
   "metadata": {},
   "source": [
    "### Data Cleaning and Preparation\n",
    "***"
   ]
  },
  {
   "cell_type": "code",
   "execution_count": 4,
   "metadata": {},
   "outputs": [],
   "source": [
    "# Import the necessary modules\n",
    "\n",
    "import pandas as pd\n",
    "import numpy as np\n",
    "import glob\n",
    "import re\n",
    "from bs4 import BeautifulSoup\n",
    "import requests\n",
    "import pickle\n",
    "import matplotlib.pyplot as plt"
   ]
  },
  {
   "cell_type": "code",
   "execution_count": 5,
   "metadata": {},
   "outputs": [],
   "source": [
    "# Load in T100 data from csv files. This data from Beureau of Transportation Statistics\n",
    "# Give all US domestic flight data from 2012 to 2022 the most recent year for which data\n",
    "# is available.\n",
    "\n",
    "files_li = glob.glob('zippedData/T_T100D*.2.csv')\n",
    "bts_df = pd.DataFrame(pd.read_csv(files_li[0]))\n",
    "for i in range(1, len(files_li)):\n",
    "    data = pd.read_csv(files_li[i])\n",
    "    df1 = pd.DataFrame(data)\n",
    "    bts_df = pd.concat([df1, bts_df], axis=0, ignore_index=True)"
   ]
  },
  {
   "cell_type": "code",
   "execution_count": 6,
   "metadata": {},
   "outputs": [
    {
     "name": "stdout",
     "output_type": "stream",
     "text": [
      "<class 'pandas.core.frame.DataFrame'>\n",
      "RangeIndex: 4044332 entries, 0 to 4044331\n",
      "Data columns (total 9 columns):\n",
      " #   Column               Dtype  \n",
      "---  ------               -----  \n",
      " 0   DISTANCE             float64\n",
      " 1   AIR_TIME             float64\n",
      " 2   UNIQUE_CARRIER_NAME  object \n",
      " 3   ORIGIN               object \n",
      " 4   DEST                 object \n",
      " 5   AIRCRAFT_TYPE        int64  \n",
      " 6   YEAR                 int64  \n",
      " 7   MONTH                int64  \n",
      " 8   DISTANCE_GROUP       int64  \n",
      "dtypes: float64(2), int64(4), object(3)\n",
      "memory usage: 277.7+ MB\n"
     ]
    }
   ],
   "source": [
    "bts_df.info()"
   ]
  },
  {
   "cell_type": "code",
   "execution_count": 7,
   "metadata": {},
   "outputs": [],
   "source": [
    "# Keep only top 40 used aircraft models. For practical purposes we won't consider low production aircraft.\n",
    "\n",
    "bts_40 = bts_df['AIRCRAFT_TYPE'].value_counts().head(40).index.to_list()\n",
    "indexNum = bts_df[~bts_df['AIRCRAFT_TYPE'].isin(bts_40)].index\n",
    "bts_df.drop(indexNum, inplace=True)"
   ]
  },
  {
   "cell_type": "code",
   "execution_count": 8,
   "metadata": {},
   "outputs": [],
   "source": [
    "# Get list of top 40 aircraft names for data cleaning\n",
    "\n",
    "bts_des = pd.DataFrame(\n",
    "    pd.unique(bts_df['AIRCRAFT_TYPE']), columns=['AIRCRAFT_TYPE'])"
   ]
  },
  {
   "cell_type": "code",
   "execution_count": 9,
   "metadata": {},
   "outputs": [],
   "source": [
    "# BTS uses number code to identify aircraft type in it's flight data. The legend is in a seperate csv file.\n",
    "# Load in the legend for aircraft type.\n",
    "\n",
    "ac_df = pd.read_csv('zippedData/L_AIRCRAFT_TYPE.csv')"
   ]
  },
  {
   "cell_type": "code",
   "execution_count": 10,
   "metadata": {},
   "outputs": [],
   "source": [
    "# Merge flight data with aircfaft type. This will match BTS type names to the fligt data.\n",
    "\n",
    "bts_des = pd.merge(bts_des, ac_df, left_on='AIRCRAFT_TYPE', right_on='Code')"
   ]
  },
  {
   "cell_type": "code",
   "execution_count": 11,
   "metadata": {},
   "outputs": [],
   "source": [
    "# Drop piston aircraft.\n",
    "\n",
    "i = bts_des[(bts_des['Code'] == 40)].index\n",
    "j = bts_des[(bts_des['Code'] == 35)].index\n",
    "k = bts_des[(bts_des['Code'] == 194)].index\n",
    "l = bts_des[(bts_des['Code'] == 79)].index\n",
    "m = bts_des[(bts_des['Code'] == 479)].index\n",
    "n = bts_des[(bts_des['Code'] == 415)].index\n",
    "o = bts_des[(bts_des['Code'] == 416)].index\n",
    "p = bts_des[(bts_des['Code'] == 412)].index\n",
    "bts_des = bts_des.drop(i)\n",
    "bts_des = bts_des.drop(j)\n",
    "bts_des = bts_des.drop(k)\n",
    "bts_des = bts_des.drop(l)\n",
    "bts_des = bts_des.drop(m)\n",
    "bts_des = bts_des.drop(n)\n",
    "bts_des = bts_des.drop(o)\n",
    "bts_des = bts_des.drop(p)"
   ]
  },
  {
   "cell_type": "code",
   "execution_count": 12,
   "metadata": {},
   "outputs": [],
   "source": [
    "# These lists are used in name matching and to give standard names to aircraft.\n",
    "\n",
    "common_words = ['BOEING', 'CHEROKEE', 'AIRBUS', 'INDUSTRIE', 'CANADAIR', 'EMBRAER', 'MCDONNELL', 'DOUGLAS',\n",
    "                'DE', 'HAVILLAND', 'BEAVER', 'SUPER', 'NAVAJO', 'EM', 'ER', 'BEECH']\n",
    "\n",
    "common_words_eng = ['ILYUSHIN', 'ANTONOV', 'JUNKERS', 'LOCKHEED', 'BOEING', 'AIRBUS', 'INDUSTRIE',\n",
    "                    'CANADAIR', 'EMBRAER', 'STATIONAIR', 'MCDONNELL', 'DOUGLAS', 'DE', 'HAVILLAND', 'BEAVER',\n",
    "                    'SUPER', 'NAVAJO', 'EM', 'ER', 'BEECH', 'CRAFT', 'BOMBARDIER', 'CANADA']\n",
    "\n",
    "common_words_emi = ['TRENT', 'CFMI', 'PRATT & WHITNEY', 'GENERAL ELECTRIC', 'CANADA',\n",
    "                    'ROLLSROYCE', 'LYCOMING', 'ALLISON', 'GARRETT', 'CONTINENTAL', 'IAE']"
   ]
  },
  {
   "cell_type": "code",
   "execution_count": 13,
   "metadata": {},
   "outputs": [],
   "source": [
    "def short_name(name, x):\n",
    "    if len(name) >= x:\n",
    "        short_name = name[:x]\n",
    "        return (short_name)\n",
    "    return name"
   ]
  },
  {
   "cell_type": "code",
   "execution_count": 14,
   "metadata": {},
   "outputs": [],
   "source": [
    "def remove_dash(name):\n",
    "    name = name.replace('-', '')\n",
    "    return name"
   ]
  },
  {
   "cell_type": "code",
   "execution_count": 15,
   "metadata": {},
   "outputs": [],
   "source": [
    "def convert_upper(name):\n",
    "    name = name.upper()\n",
    "    return name"
   ]
  },
  {
   "cell_type": "code",
   "execution_count": 16,
   "metadata": {},
   "outputs": [],
   "source": [
    "def convert_date(date):\n",
    "    date = date.astype('datetime64[ns]')\n",
    "    return date"
   ]
  },
  {
   "cell_type": "code",
   "execution_count": 17,
   "metadata": {},
   "outputs": [],
   "source": [
    "def remove_slash(name):\n",
    "    res = re.match(r\"^[^/]*\", name)\n",
    "    return (str(res.group()))"
   ]
  },
  {
   "cell_type": "code",
   "execution_count": 18,
   "metadata": {},
   "outputs": [],
   "source": [
    "def remove_common(name, common_w):\n",
    "    for common in common_w:\n",
    "        name = name.replace(common, '')\n",
    "    return name"
   ]
  },
  {
   "cell_type": "code",
   "execution_count": 19,
   "metadata": {},
   "outputs": [],
   "source": [
    "def remove_space(name):\n",
    "    name = name.replace(' ', \"\")\n",
    "    return name"
   ]
  },
  {
   "cell_type": "code",
   "execution_count": 20,
   "metadata": {},
   "outputs": [],
   "source": [
    "\n",
    "def convert_boeing(name):\n",
    "    if re.match(r\"^(7)(.)(7)\", name):\n",
    "        name = name[:3]\n",
    "    return name"
   ]
  },
  {
   "cell_type": "code",
   "execution_count": 21,
   "metadata": {},
   "outputs": [],
   "source": [
    "def convert_crj(name):\n",
    "    if re.match(r\"^RJ\", name):\n",
    "        name = name.replace('RJ', 'CRJ')\n",
    "    return name"
   ]
  },
  {
   "cell_type": "code",
   "execution_count": 22,
   "metadata": {},
   "outputs": [],
   "source": [
    "# Change Descriptions for data cleaning and matching\n",
    "\n",
    "bts_des.loc[bts_des['Code'] == 629, 'Description'] = 'Canadair RJ-200'\n",
    "bts_des.loc[bts_des['Code'] == 631, 'Description'] = 'Canadair RJ-700'\n",
    "bts_des.loc[bts_des['Code'] == 638, 'Description'] = 'Canadair RJ-900'\n",
    "bts_des.loc[bts_des['Code'] == 838, 'Description'] = 'Boeing 737-800'\n",
    "bts_des.loc[bts_des['Code'] == 674, 'Description'] = 'Embraer ERJ-130'\n",
    "bts_des.loc[bts_des['Code'] == 676, 'Description'] = 'Embraer ERJ-140'\n",
    "bts_des.loc[bts_des['Code'] == 675, 'Description'] = 'Embraer ERJ-145'\n",
    "bts_des.loc[bts_des['Code'] == 677, 'Description'] = 'Embraer ERJ-170'\n",
    "bts_des.loc[bts_des['Code'] == 678, 'Description'] = 'Embraer ERJ-190'"
   ]
  },
  {
   "cell_type": "code",
   "execution_count": 23,
   "metadata": {},
   "outputs": [],
   "source": [
    "# Change Descriptions for data cleaning and matching\n",
    "\n",
    "bts_des['Description'] = [convert_upper(x) for x in bts_des['Description']]\n",
    "bts_des['Description'] = [remove_slash(x) for x in bts_des['Description']]\n",
    "bts_des['Description'] = [remove_dash(x) for x in bts_des['Description']]\n",
    "bts_des['Description'] = [remove_common(\n",
    "    x, common_words) for x in bts_des['Description']]\n",
    "bts_des['Description'] = [remove_space(x) for x in bts_des['Description']]\n",
    "bts_des['Description'] = [short_name(x, 4) for x in bts_des['Description']]\n",
    "bts_des['Description'] = [convert_boeing(x) for x in bts_des['Description']]\n",
    "bts_des['Description'] = [convert_crj(x) for x in bts_des['Description']]"
   ]
  },
  {
   "cell_type": "code",
   "execution_count": 24,
   "metadata": {},
   "outputs": [],
   "source": [
    "# Merge Flight data with cleaned aircraft names\n",
    "\n",
    "bts_df = pd.merge(bts_df, bts_des[['Code', 'Description']],\n",
    "                  left_on='AIRCRAFT_TYPE', right_on='Code')"
   ]
  },
  {
   "cell_type": "code",
   "execution_count": 25,
   "metadata": {},
   "outputs": [],
   "source": [
    "# Drop Code column as we don't need it anymore\n",
    "bts_des.drop(['AIRCRAFT_TYPE', 'Code'], axis=1, inplace=True)"
   ]
  },
  {
   "cell_type": "markdown",
   "metadata": {},
   "source": [
    "### Crash Data"
   ]
  },
  {
   "cell_type": "code",
   "execution_count": 26,
   "metadata": {},
   "outputs": [],
   "source": [
    "# Import Data Set from CSV\n",
    "\n",
    "crash_df = pd.read_csv('zippedData/AviationData.csv', encoding='latin-1', dtype={6: str, 7: str,\n",
    "                                                                                 14: str, 15: str,\n",
    "                                                                                 28: str})"
   ]
  },
  {
   "cell_type": "code",
   "execution_count": 27,
   "metadata": {},
   "outputs": [
    {
     "name": "stdout",
     "output_type": "stream",
     "text": [
      "<class 'pandas.core.frame.DataFrame'>\n",
      "RangeIndex: 88889 entries, 0 to 88888\n",
      "Data columns (total 31 columns):\n",
      " #   Column                  Non-Null Count  Dtype  \n",
      "---  ------                  --------------  -----  \n",
      " 0   Event.Id                88889 non-null  object \n",
      " 1   Investigation.Type      88889 non-null  object \n",
      " 2   Accident.Number         88889 non-null  object \n",
      " 3   Event.Date              88889 non-null  object \n",
      " 4   Location                88837 non-null  object \n",
      " 5   Country                 88663 non-null  object \n",
      " 6   Latitude                34382 non-null  object \n",
      " 7   Longitude               34373 non-null  object \n",
      " 8   Airport.Code            50132 non-null  object \n",
      " 9   Airport.Name            52704 non-null  object \n",
      " 10  Injury.Severity         87889 non-null  object \n",
      " 11  Aircraft.damage         85695 non-null  object \n",
      " 12  Aircraft.Category       32287 non-null  object \n",
      " 13  Registration.Number     87507 non-null  object \n",
      " 14  Make                    88826 non-null  object \n",
      " 15  Model                   88797 non-null  object \n",
      " 16  Amateur.Built           88787 non-null  object \n",
      " 17  Number.of.Engines       82805 non-null  float64\n",
      " 18  Engine.Type             81793 non-null  object \n",
      " 19  FAR.Description         32023 non-null  object \n",
      " 20  Schedule                12582 non-null  object \n",
      " 21  Purpose.of.flight       82697 non-null  object \n",
      " 22  Air.carrier             16648 non-null  object \n",
      " 23  Total.Fatal.Injuries    77488 non-null  float64\n",
      " 24  Total.Serious.Injuries  76379 non-null  float64\n",
      " 25  Total.Minor.Injuries    76956 non-null  float64\n",
      " 26  Total.Uninjured         82977 non-null  float64\n",
      " 27  Weather.Condition       84397 non-null  object \n",
      " 28  Broad.phase.of.flight   61724 non-null  object \n",
      " 29  Report.Status           82505 non-null  object \n",
      " 30  Publication.Date        75118 non-null  object \n",
      "dtypes: float64(5), object(26)\n",
      "memory usage: 21.0+ MB\n"
     ]
    }
   ],
   "source": [
    "# This data contains information about aviation accidents. We will use if mainly for builing\n",
    "# an aircraft safety score.\n",
    "\n",
    "# There are 88889 rows but several columns have many less values.\n",
    "\n",
    "crash_df.info()"
   ]
  },
  {
   "cell_type": "code",
   "execution_count": 28,
   "metadata": {},
   "outputs": [],
   "source": [
    "# Drop rows before 2012 so we can match data by year in bts_df\n",
    "date_mask = (crash_df['Event.Date'] > '2011-12-31')\n",
    "\n",
    "# THIS RETURNS ALL ROWS GREATER THAN THE DATE PROVIDED ABOVE\n",
    "crash_df = crash_df.loc[date_mask]\n",
    "\n",
    "# Rows without an aircraft model type don't help use. Dropping these rows.\n",
    "crash_df = crash_df.dropna(subset=['Model'])"
   ]
  },
  {
   "cell_type": "code",
   "execution_count": 29,
   "metadata": {},
   "outputs": [],
   "source": [
    "# Convert Event.Date from string to datetime. Used to filter df on years\n",
    "\n",
    "crash_df['Event.Date'] = crash_df['Event.Date'].astype('datetime64[ns]')"
   ]
  },
  {
   "cell_type": "code",
   "execution_count": 30,
   "metadata": {},
   "outputs": [],
   "source": [
    "# Change Model name for data cleaning and matching\n",
    "\n",
    "crash_df['Model'] = [convert_upper(x) for x in crash_df['Model']]\n",
    "#crash_df['Event.Date'] = [convert_date(x) for x in crash_df['Event.Date']]\n",
    "crash_df['Model'] = [remove_slash(x) for x in crash_df['Model']]\n",
    "crash_df['Model'] = [remove_dash(x) for x in crash_df['Model']]\n",
    "crash_df['Model'] = [remove_common(x, common_words) for x in crash_df['Model']]\n",
    "crash_df['Model'] = [remove_space(x) for x in crash_df['Model']]\n",
    "crash_df['Model'] = [short_name(x, 4) for x in crash_df['Model']]\n",
    "crash_df['Model'] = [convert_boeing(x) for x in crash_df['Model']]\n",
    "#crash_df['Model'].replace('PA-', 'PA', inplace=True, regex=True)"
   ]
  },
  {
   "cell_type": "code",
   "execution_count": 31,
   "metadata": {},
   "outputs": [],
   "source": [
    "# Takes in an aircraft model name and returns the cloest match in bts_des\n",
    "\n",
    "def match_types(model):\n",
    "    for newmodel in bts_des['Description']:\n",
    "        if newmodel.startswith(model):\n",
    "            #print(f'Processing: {model} \\t:{newmodel}')\n",
    "            return newmodel"
   ]
  },
  {
   "cell_type": "code",
   "execution_count": 32,
   "metadata": {},
   "outputs": [],
   "source": [
    "# Create new column that matches model name form bts_des\n",
    "\n",
    "crash_df['NewModel'] = [match_types(model) for model in crash_df['Model']]"
   ]
  },
  {
   "cell_type": "code",
   "execution_count": 33,
   "metadata": {},
   "outputs": [],
   "source": [
    "# Drop Report.Status column as we don't need it and it conflicts with excel writer\n",
    "crash_df.drop(['Report.Status'], axis=1, inplace=True)"
   ]
  },
  {
   "cell_type": "code",
   "execution_count": 34,
   "metadata": {},
   "outputs": [],
   "source": [
    "crash_lite_df = crash_df.dropna(subset=['NewModel']).copy()\n"
   ]
  },
  {
   "cell_type": "markdown",
   "metadata": {},
   "source": [
    "### Engine Data"
   ]
  },
  {
   "cell_type": "code",
   "execution_count": 35,
   "metadata": {},
   "outputs": [],
   "source": [
    "# In place of running this and making lots of web requests, import the pickle file from below\n",
    "# Assign URL\n",
    "# url = \"https://asn.flightsafety.org/database/engines/\"\n",
    "\n",
    "# Make a GET request to fetch the raw HTML content\n",
    "# html_content = requests.get(url).text\n",
    "\n",
    "# Parse the response with html.parser\n",
    "# soup = BeautifulSoup(html_content,\"html.parser\")\n",
    "\n",
    "# The data we need are wrapped in <a> tags. Grab all the <a> tags here and we'll filter later.\n",
    "# datas = soup.find_all(\"a\")\n",
    "\n",
    "\n",
    "# Make list of URLs and list oF Aircraft to create dictionary\n",
    "# k = []\n",
    "# v = []\n",
    "# for item in datas:\n",
    "#     if 'engine' in item['href']:\n",
    "#         k.append(item['href'])\n",
    "#         v.append(item.text)\n",
    "\n",
    "# lookup_dict = {'URL': k, 'Engine': v}\n",
    "\n",
    "\n",
    "# url_df = pd.DataFrame.from_dict(lookup_dict)\n",
    "\n",
    "# with open('lookup_dict.pkl', 'wb') as f:\n",
    "#     pickle.dump(lookup_dict, f)\n",
    "\n",
    "with open('zippedData/lookup_dict.pkl', 'rb') as f:\n",
    "    lookup_dict = pickle.load(f)"
   ]
  },
  {
   "cell_type": "code",
   "execution_count": 36,
   "metadata": {},
   "outputs": [],
   "source": [
    "# Take in the engine and retrieve the matching data page with Aircraft data\n",
    "# Add Aircraft list from web python list.\n",
    "# Return the python list\n",
    "\n",
    "# url_p1 = 'https://asn.flightsafety.org'\n",
    "# def lookup_ac(url_p2):\n",
    "#     return_list = []\n",
    "#     url = f'{url_p1}{url_p2}'\n",
    "#     sub_content = requests.get(url).text\n",
    "#     soup2 = BeautifulSoup(sub_content,\"html.parser\")\n",
    "#     u_list=soup2.find_all('ul')[1]\n",
    "#     i = 0\n",
    "#     while i < len(u_list.select('li')):\n",
    "#         (u_list.select('li')[i].text)\n",
    "#         return_list.append(u_list.select('li')[i].text)\n",
    "#         i += 1\n",
    "#     return(return_list)\n",
    "\n",
    "# Create Aircraft column to list aircraft for each engine.\n",
    "# url_df['Aircraft'] = url_df['URL'].map(lookup_ac)\n",
    "\n",
    "# Save df to pickle file.\n",
    "# url_df.to_pickle('zippedData/url_df.pkl')\n",
    "\n",
    "with open('zippedData/url_df.pkl', 'rb') as f:\n",
    "    url_df = pickle.load(f)"
   ]
  },
  {
   "cell_type": "code",
   "execution_count": 37,
   "metadata": {},
   "outputs": [],
   "source": [
    "# Create a row for each aircraft for each engine.\n",
    "# Iterate through url_df['Aircraft'] column. For each element\n",
    "# in list, create a new row.\n",
    "\n",
    "engines = []\n",
    "aircraft = []\n",
    "for idx, row in url_df.iterrows():\n",
    "    for ac in row['Aircraft']:\n",
    "        engines.append(row['Engine'])\n",
    "        aircraft.append(ac)"
   ]
  },
  {
   "cell_type": "code",
   "execution_count": 38,
   "metadata": {},
   "outputs": [],
   "source": [
    "# Create dictionary from lists to load into dataFrame\n",
    "\n",
    "ac_eng_dict = {'Engine': engines, 'Aircraft': aircraft}"
   ]
  },
  {
   "cell_type": "code",
   "execution_count": 39,
   "metadata": {},
   "outputs": [],
   "source": [
    "# Create dataFrame from dictionary\n",
    "\n",
    "engines_df = pd.DataFrame.from_dict(ac_eng_dict)"
   ]
  },
  {
   "cell_type": "code",
   "execution_count": 40,
   "metadata": {},
   "outputs": [
    {
     "name": "stdout",
     "output_type": "stream",
     "text": [
      "<class 'pandas.core.frame.DataFrame'>\n",
      "RangeIndex: 466 entries, 0 to 465\n",
      "Data columns (total 2 columns):\n",
      " #   Column    Non-Null Count  Dtype \n",
      "---  ------    --------------  ----- \n",
      " 0   Engine    466 non-null    object\n",
      " 1   Aircraft  466 non-null    object\n",
      "dtypes: object(2)\n",
      "memory usage: 7.4+ KB\n"
     ]
    }
   ],
   "source": [
    "# We use this data to match the airplane with it's engine so we can ultimatley get the\n",
    "# engine's emissions\n",
    "\n",
    "engines_df.info()"
   ]
  },
  {
   "cell_type": "code",
   "execution_count": 41,
   "metadata": {},
   "outputs": [],
   "source": [
    "# Change Name for data cleaning and matching\n",
    "\n",
    "engines_df.loc[engines_df['Aircraft'] == 'Bombardier CRJ100 / 200 / 440'] = ['General Electric CF34','Canadair RJ-100']\n",
    "engines_df.loc[engines_df['Aircraft'] == 'Bombardier CRJ700'] = ['General Electric CF34','Canadair RJ-700']\n",
    "engines_df.loc[engines_df['Aircraft'] == 'Bombardier CRJ900'] = ['General Electric CF34','Canadair RJ-900']\n",
    "engines_df.loc[len(engines_df.index)] = ['General Electric CF34', 'Canadair RJ-200']\n",
    "engines_df.loc[len(engines_df.index)] = ['General Electric CF34', 'Canadair RJ-440']\n",
    "engines_df.loc[len(engines_df.index)] = ['General Electric CF34', 'Embraer ERJ-130']\n",
    "engines_df.loc[len(engines_df.index)] = ['General Electric CF34', 'Embraer ERJ-135']\n",
    "engines_df.loc[len(engines_df.index)] = ['General Electric CF34', 'Embraer ERJ-140']\n",
    "engines_df.loc[len(engines_df.index)] = ['General Electric CF34', 'Embraer ERJ-175']\n",
    "engines_df.loc[len(engines_df.index)] = ['General Electric CF34', 'Embraer ERJ-190']\n",
    "engines_df.loc[len(engines_df.index)] = ['Pratt & Whitney JT8D', 'McDonnell Douglas DC-9-80']"
   ]
  },
  {
   "cell_type": "code",
   "execution_count": 42,
   "metadata": {},
   "outputs": [],
   "source": [
    "# Change Aircraft name for data cleaning and matching\n",
    "\n",
    "engines_df['Aircraft'] = [convert_upper(x) for x in engines_df['Aircraft']]\n",
    "engines_df['Aircraft'] = [remove_slash(x) for x in engines_df['Aircraft']]\n",
    "engines_df['Aircraft'] = [remove_dash(x) for x in engines_df['Aircraft']]\n",
    "engines_df['Aircraft'] = [remove_common(x, common_words_eng) for x in engines_df['Aircraft']]\n",
    "engines_df['Aircraft'] = [remove_space(x) for x in engines_df['Aircraft']]\n",
    "engines_df['Aircraft'] = [short_name(x, 4) for x in engines_df['Aircraft']]\n",
    "engines_df['Aircraft'] = [convert_boeing(x) for x in engines_df['Aircraft']]\n",
    "engines_df['Aircraft'] = [convert_crj(x) for x in engines_df['Aircraft']]"
   ]
  },
  {
   "cell_type": "code",
   "execution_count": 43,
   "metadata": {},
   "outputs": [],
   "source": [
    "# Change Engine name for data cleaning and matching\n",
    "\n",
    "engines_df['Engine_Name'] = [convert_upper(x) for x in engines_df['Engine']]\n",
    "engines_df['Engine_Name'] = [remove_slash(x) for x in engines_df['Engine_Name']]\n",
    "engines_df['Engine_Name'] = [remove_dash(x) for x in engines_df['Engine_Name']]\n",
    "engines_df['Engine_Name'] = [remove_common(x, common_words_emi) for x in engines_df['Engine_Name']]\n",
    "engines_df['Engine_Name'] = [remove_common(x, common_words_emi) for x in engines_df['Engine_Name']]\n",
    "engines_df['Engine_Name'] = [remove_space(x) for x in engines_df['Engine_Name']]\n",
    "engines_df['Engine_Name'] = [short_name(x, 5) for x in engines_df['Engine_Name']]\n",
    "#engines_df['Engine_Name'] = [convert_boeing(x) for x in engines_df['Engine_Name']]\n",
    "#engines_df['Engine_Name'] = [convert_crj(x) for x in engines_df['Engine_Name']]"
   ]
  },
  {
   "cell_type": "code",
   "execution_count": 44,
   "metadata": {},
   "outputs": [],
   "source": [
    "# Add Engine data to bts_des\n",
    "\n",
    "bts_des = pd.merge(bts_des, engines_df,left_on='Description', right_on='Aircraft', how='left')\n",
    "bts_des.drop_duplicates(inplace=True)"
   ]
  },
  {
   "cell_type": "markdown",
   "metadata": {},
   "source": [
    "### Emissions Data"
   ]
  },
  {
   "cell_type": "code",
   "execution_count": 45,
   "metadata": {},
   "outputs": [],
   "source": [
    "# Load Engine emissions data\n",
    "\n",
    "emissions_df = pd.read_excel('zippedData/edb-emissions-databank_v30__web_.xlsx',\n",
    "                             sheet_name='Gaseous Emissions and Smoke', \n",
    "                             usecols=('A:D, AJ'))"
   ]
  },
  {
   "cell_type": "code",
   "execution_count": 46,
   "metadata": {},
   "outputs": [
    {
     "name": "stdout",
     "output_type": "stream",
     "text": [
      "<class 'pandas.core.frame.DataFrame'>\n",
      "RangeIndex: 834 entries, 0 to 833\n",
      "Data columns (total 5 columns):\n",
      " #   Column                 Non-Null Count  Dtype  \n",
      "---  ------                 --------------  -----  \n",
      " 0   UID No                 834 non-null    object \n",
      " 1   GSDB No                834 non-null    int64  \n",
      " 2   Manufacturer           834 non-null    object \n",
      " 3   Engine Identification  834 non-null    object \n",
      " 4   CO Dp/Foo Avg (g/kN)   834 non-null    float64\n",
      "dtypes: float64(1), int64(1), object(3)\n",
      "memory usage: 32.7+ KB\n"
     ]
    }
   ],
   "source": [
    "emissions_df.info()"
   ]
  },
  {
   "cell_type": "code",
   "execution_count": 47,
   "metadata": {},
   "outputs": [],
   "source": [
    "# Change Engine name for data cleaning and matching\n",
    "\n",
    "emissions_df['Engine Identification'] = [convert_upper(x) for x in emissions_df['Engine Identification']]\n",
    "emissions_df['Engine Identification'] = [remove_slash(x) for x in emissions_df['Engine Identification']]\n",
    "emissions_df['Engine Identification'] = [remove_dash(x) for x in emissions_df['Engine Identification']]\n",
    "emissions_df['Engine Identification'] = [remove_common(x, common_words_emi) for x in emissions_df['Engine Identification']]\n",
    "emissions_df['Engine Identification'] = [remove_space(x) for x in emissions_df['Engine Identification']]\n",
    "emissions_df['Engine Identification'] = [short_name(x, 5) for x in emissions_df['Engine Identification']]"
   ]
  },
  {
   "cell_type": "code",
   "execution_count": 48,
   "metadata": {},
   "outputs": [],
   "source": [
    "# Force name change for certain engines\n",
    "\n",
    "emissions_df.at[527,'Engine Identification'] = 'PW100'\n",
    "emissions_df.at[611,'Engine Identification'] = 'PW200'\n",
    "emissions_df.at[633,'Engine Identification'] = 'PW400'"
   ]
  },
  {
   "cell_type": "code",
   "execution_count": 49,
   "metadata": {},
   "outputs": [],
   "source": [
    "# Takes in an Engine name and returns the CO2 value\n",
    "\n",
    "def match_engine(str1):\n",
    "    tmp_df = pd.DataFrame()\n",
    "    mask = tmp_df['engine_id_starts_with_CFM'] = list( \n",
    "        map(lambda x: x.startswith(str1), emissions_df['Engine Identification'])) \n",
    "    filtered_df = emissions_df[mask]\n",
    "    #return(filtered_df.at[0,1]['CO Dp/Foo Avg (g/kN)']).head(1)\n",
    "    if filtered_df.shape[0] < 1:\n",
    "        return 0\n",
    "    return(filtered_df.iat[0,4])"
   ]
  },
  {
   "cell_type": "code",
   "execution_count": 50,
   "metadata": {},
   "outputs": [],
   "source": [
    "# Add Co2 data to bts_des\n",
    "\n",
    "bts_des['Co2'] = [match_engine(x) for x in bts_des['Engine_Name']]"
   ]
  },
  {
   "cell_type": "markdown",
   "metadata": {},
   "source": [
    "## Methods\n",
    "Using data from 5 different datasets presents the problem of name matching. The first step in processing the data was to assign standard names for each aircraft and engine across the datasets. This was done by using a combination of string manipulation and regular expressions. We filtered the BTS aircraft list to the 40 most popular aircraft, not including propeller based aircraft, as they are less suitible to commercial operations. To determine the saftey of an aircraft we created a Injury Score based on the BTS rating. From the BTS website: “Rates are computed by dividing the number of Fatalities, Seriously injured persons, Total accidents, and Fatal accidents by the number of Aircraft-miles, Aircraft departures, or Flight hours.\" Our formula is 3 points for fatality; 1 point for serious injury and .5 points for minor injury all divided by the number of departures.To determine the enviornmental impact of an aircraft we merged the aircraft list from BTS with engine data from the Aircraft Safety Institute, and then with emissions data from the ICAO. The Injuty Score and Emissions metrics were then normalized so they can be presented with even weights.\n",
    "\n",
    "To show which cities were underserverd by airlines we combined flight data from BTS, List of US Airports from Kaggle, and population data from Wikipedia. The List of US airports were loaded into a pandas dataframe and grouped by City and State. Next this grouping of airports was used to sum the total number of flights departing from that city. The Flight to Person ratio was calculated by diving the number of flights per city by it's population. \n"
   ]
  },
  {
   "cell_type": "markdown",
   "metadata": {},
   "source": [
    "### Data Processing"
   ]
  },
  {
   "cell_type": "code",
   "execution_count": 51,
   "metadata": {},
   "outputs": [],
   "source": [
    "# Some rows have NaN for values. Replace these with 0 value. \n",
    "\n",
    "crash_df['Total.Fatal.Injuries'] = crash_df['Total.Fatal.Injuries'].fillna(0)\n",
    "crash_df['Total.Serious.Injuries'] = crash_df['Total.Serious.Injuries'].fillna(0)\n",
    "crash_df['Total.Minor.Injuries'] = crash_df['Total.Minor.Injuries'].fillna(0)"
   ]
  },
  {
   "cell_type": "code",
   "execution_count": 52,
   "metadata": {},
   "outputs": [],
   "source": [
    "# Our scoring system will use 3 points for fatality; 1 point for serious injury and .5 points for minor injury.\n",
    "\n",
    "crash_df['Injury_Score'] = crash_df['Total.Fatal.Injuries'].map(lambda x: x*3)\n",
    "crash_df['Injury_Score'] = crash_df['Injury_Score'] + crash_df['Total.Serious.Injuries']\n",
    "crash_df['Injury_Score'] = crash_df['Injury_Score'] + (crash_df['Total.Minor.Injuries'] * .5)"
   ]
  },
  {
   "cell_type": "code",
   "execution_count": 53,
   "metadata": {},
   "outputs": [],
   "source": [
    "# Sum Injury Score and put into new temp df\n",
    "\n",
    "total_score = crash_df.groupby('NewModel')['Injury_Score'].sum().to_frame()\n",
    "\n",
    "total_score['Count'] = bts_df.groupby('Description').size()\n",
    "\n",
    "total_score['Rating'] = (total_score['Injury_Score'] / total_score['Count'])\n",
    "\n",
    "total_score = pd.merge(total_score, bts_des[['Co2', 'Aircraft', 'Engine']], left_on='NewModel', \n",
    "                       right_on='Aircraft', how='left')"
   ]
  },
  {
   "cell_type": "code",
   "execution_count": 54,
   "metadata": {},
   "outputs": [],
   "source": [
    "\n",
    "final_score = total_score.sort_values(\n",
    "    ['Co2', 'Rating'], ascending=[True, True])\n",
    "\n",
    "# Drop engines for which data is unavailable\n",
    "final_score = final_score.loc[final_score['Co2'] > 0]"
   ]
  },
  {
   "cell_type": "code",
   "execution_count": 55,
   "metadata": {},
   "outputs": [],
   "source": [
    "# Normalize Injury Rating and Co2\n",
    "co2_max = final_score['Co2'].max()\n",
    "co2_min = final_score['Co2'].min()\n",
    "rating_max = final_score['Rating'].max()\n",
    "rating_min = final_score['Rating'].min()\n",
    "co2_range = co2_max - co2_min\n",
    "rating_range = rating_max - rating_min\n",
    "\n",
    "# normalized_value = (feature_value - feature_min) / (feature_max - feature_min)\n",
    "\n",
    "final_score['Co2 Normal'] = [((x - co2_min) / (co2_range) * 100)\n",
    "                             for x in final_score['Co2']]\n",
    "\n",
    "final_score['Rating Normal'] = [\n",
    "    ((x - rating_min) / (rating_range) * 100) for x in final_score['Rating']]\n",
    "\n",
    "final_score['Combined'] = final_score['Co2 Normal'] + \\\n",
    "    final_score['Rating Normal']\n",
    "\n",
    "final_sorted = final_score.sort_values(by=['Combined'])"
   ]
  },
  {
   "cell_type": "markdown",
   "metadata": {},
   "source": [
    "### Airport Data Analysis\n"
   ]
  },
  {
   "cell_type": "code",
   "execution_count": 57,
   "metadata": {},
   "outputs": [],
   "source": [
    "# Load Airport data from csv file\n",
    "# We use ICACO data to provide aitports code to cities. We'll use this to match\n",
    "# flight data from bts_df\n",
    "\n",
    "ap_df = pd.read_csv('zippedData/us-airports.csv')"
   ]
  },
  {
   "cell_type": "code",
   "execution_count": 58,
   "metadata": {},
   "outputs": [],
   "source": [
    "# Get Population data from Wikipedia\n",
    "\n",
    "url = \"https://en.wikipedia.org/wiki/List_of_North_American_metropolitan_areas_by_population\"\n",
    "\n",
    "wiki_df = pd.read_html(url)[0]\n",
    "\n",
    "wiki_df = wiki_df[(wiki_df['Country'] == 'United States')]"
   ]
  },
  {
   "cell_type": "code",
   "execution_count": 59,
   "metadata": {},
   "outputs": [],
   "source": [
    "# Only keep columns we need. Drop other columns\n",
    "\n",
    "ap_df = ap_df[['id', 'ident', 'type', 'name', 'local_region', 'municipality', 'local_code',\n",
    "               'iata_code', 'keywords']]\n",
    "\n",
    "ap_df = ap_df[(ap_df['type'] == 'large_airport')]"
   ]
  },
  {
   "cell_type": "code",
   "execution_count": 60,
   "metadata": {},
   "outputs": [],
   "source": [
    "# Get count of flights originated at airport and convert to dict\n",
    "\n",
    "ap_counts = bts_df['ORIGIN'].value_counts()\n",
    "ap_counts_dict = ap_counts.to_dict()"
   ]
  },
  {
   "cell_type": "code",
   "execution_count": 61,
   "metadata": {},
   "outputs": [],
   "source": [
    "# This takes in an airport code and returns the total number of flights orginating from there\n",
    "\n",
    "def get_num_flt(code):\n",
    "    try:\n",
    "        val = ap_counts_dict[code]\n",
    "    except:\n",
    "        val = 0\n",
    "\n",
    "    return val"
   ]
  },
  {
   "cell_type": "code",
   "execution_count": 62,
   "metadata": {},
   "outputs": [],
   "source": [
    "# Takes in city name and returns population\n",
    "\n",
    "def get_wiki_pop(city):\n",
    "    try:\n",
    "        pop = wiki_df.loc[wiki_df['Metropolitan area']\n",
    "                          == city, 'Population'].values[0]\n",
    "        return pop\n",
    "    except:\n",
    "        return 0"
   ]
  },
  {
   "cell_type": "code",
   "execution_count": 63,
   "metadata": {},
   "outputs": [],
   "source": [
    "# Create df to combine flight data and population\n",
    "apuse_df = ap_df.copy()\n",
    "apuse_df['NumFlights'] = [get_num_flt(x) for x in apuse_df['iata_code']]\n",
    "\n",
    "ap_mask = (apuse_df['NumFlights'] != 0)\n",
    "apuse_df = apuse_df.loc[ap_mask]"
   ]
  },
  {
   "cell_type": "code",
   "execution_count": 64,
   "metadata": {},
   "outputs": [],
   "source": [
    "# Group city and state airports and sum total flights from multiple airports\n",
    "\n",
    "result2 = apuse_df.groupby(['municipality', 'local_region'])\n",
    "\n",
    "# extract keys from groups\n",
    "\n",
    "keys = result2.groups.keys()\n",
    "\n",
    "# Add num of flights to city name\n",
    "\n",
    "city_lst = []\n",
    "state_lst = []\n",
    "num_flt_lst = []\n",
    "iata_lst = []\n",
    "\n",
    "for i in keys:\n",
    "    a_group = result2.get_group(i)\n",
    "    city_lst.append(a_group['municipality'][:1].to_string(index=False))\n",
    "    state_lst.append(a_group['local_region'][:1].to_string(index=False))\n",
    "    num_flt_lst.append(a_group['NumFlights'].sum())\n",
    "    iata_lst.append(a_group['iata_code'][:1].to_string(index=False))"
   ]
  },
  {
   "cell_type": "code",
   "execution_count": 65,
   "metadata": {},
   "outputs": [],
   "source": [
    "# Add population data to result_df\n",
    "\n",
    "result2_dict = {'City': city_lst, 'State': state_lst,\n",
    "                'NumFlights': num_flt_lst, 'Code': iata_lst}\n",
    "result2_df = pd.DataFrame.from_dict(result2_dict)\n",
    "\n",
    "pop_lst = []\n",
    "for i, x in result2_df.iterrows():\n",
    "    pop_lst.append(get_wiki_pop(x['City']))\n",
    "\n",
    "result2_df['Population'] = pop_lst\n",
    "\n",
    "result2_df = result2_df.loc[result2_df['Population'] > 0]"
   ]
  },
  {
   "cell_type": "code",
   "execution_count": 66,
   "metadata": {},
   "outputs": [],
   "source": [
    "# Calculate flight per popuation ratio\n",
    "\n",
    "pfr_lst = []\n",
    "for i, x in result2_df.iterrows():\n",
    "\n",
    "    ratio = x['Population']/x['NumFlights']\n",
    "    pfr_lst.append(ratio)\n",
    "\n",
    "result2_df['FPR'] = pfr_lst"
   ]
  },
  {
   "cell_type": "markdown",
   "metadata": {},
   "source": [
    "## Results\n",
    "The result show the safest aircraft is the Embreaer ERJ-145 and the Bombardier CRJ-700. These were closely followed by the Boeing 717. The combination of safest and least emissions were the (used) Airbus A319, McDonell Douglass MD11, and  (new) ERJ-175 and Boeing 767.\n"
   ]
  },
  {
   "cell_type": "code",
   "execution_count": 67,
   "metadata": {},
   "outputs": [],
   "source": [
    "result2_df = result2_df.sort_values('FPR', ascending=False)[:11]"
   ]
  },
  {
   "cell_type": "code",
   "execution_count": 68,
   "metadata": {},
   "outputs": [
    {
     "data": {
      "text/html": [
       "<div>\n",
       "<style scoped>\n",
       "    .dataframe tbody tr th:only-of-type {\n",
       "        vertical-align: middle;\n",
       "    }\n",
       "\n",
       "    .dataframe tbody tr th {\n",
       "        vertical-align: top;\n",
       "    }\n",
       "\n",
       "    .dataframe thead th {\n",
       "        text-align: right;\n",
       "    }\n",
       "</style>\n",
       "<table border=\"1\" class=\"dataframe\">\n",
       "  <thead>\n",
       "    <tr style=\"text-align: right;\">\n",
       "      <th></th>\n",
       "      <th>City</th>\n",
       "      <th>State</th>\n",
       "      <th>FPR</th>\n",
       "    </tr>\n",
       "  </thead>\n",
       "  <tbody>\n",
       "    <tr>\n",
       "      <th>46</th>\n",
       "      <td>Portland</td>\n",
       "      <td>ME</td>\n",
       "      <td>415.729577</td>\n",
       "    </tr>\n",
       "    <tr>\n",
       "      <th>35</th>\n",
       "      <td>New York</td>\n",
       "      <td>NY</td>\n",
       "      <td>259.439290</td>\n",
       "    </tr>\n",
       "    <tr>\n",
       "      <th>27</th>\n",
       "      <td>Los Angeles</td>\n",
       "      <td>CA</td>\n",
       "      <td>200.556894</td>\n",
       "    </tr>\n",
       "    <tr>\n",
       "      <th>30</th>\n",
       "      <td>Miami</td>\n",
       "      <td>FL</td>\n",
       "      <td>171.359531</td>\n",
       "    </tr>\n",
       "    <tr>\n",
       "      <th>51</th>\n",
       "      <td>Sacramento</td>\n",
       "      <td>CA</td>\n",
       "      <td>160.136403</td>\n",
       "    </tr>\n",
       "    <tr>\n",
       "      <th>53</th>\n",
       "      <td>San Antonio</td>\n",
       "      <td>TX</td>\n",
       "      <td>127.566186</td>\n",
       "    </tr>\n",
       "    <tr>\n",
       "      <th>5</th>\n",
       "      <td>Boston</td>\n",
       "      <td>MA</td>\n",
       "      <td>127.011528</td>\n",
       "    </tr>\n",
       "    <tr>\n",
       "      <th>12</th>\n",
       "      <td>Columbus</td>\n",
       "      <td>OH</td>\n",
       "      <td>115.058592</td>\n",
       "    </tr>\n",
       "    <tr>\n",
       "      <th>43</th>\n",
       "      <td>Philadelphia</td>\n",
       "      <td>PA</td>\n",
       "      <td>114.615198</td>\n",
       "    </tr>\n",
       "    <tr>\n",
       "      <th>21</th>\n",
       "      <td>Houston</td>\n",
       "      <td>TX</td>\n",
       "      <td>106.999753</td>\n",
       "    </tr>\n",
       "    <tr>\n",
       "      <th>55</th>\n",
       "      <td>San Francisco</td>\n",
       "      <td>CA</td>\n",
       "      <td>102.549896</td>\n",
       "    </tr>\n",
       "  </tbody>\n",
       "</table>\n",
       "</div>"
      ],
      "text/plain": [
       "             City State         FPR\n",
       "46       Portland    ME  415.729577\n",
       "35       New York    NY  259.439290\n",
       "27    Los Angeles    CA  200.556894\n",
       "30          Miami    FL  171.359531\n",
       "51     Sacramento    CA  160.136403\n",
       "53    San Antonio    TX  127.566186\n",
       "5          Boston    MA  127.011528\n",
       "12       Columbus    OH  115.058592\n",
       "43   Philadelphia    PA  114.615198\n",
       "21        Houston    TX  106.999753\n",
       "55  San Francisco    CA  102.549896"
      ]
     },
     "execution_count": 68,
     "metadata": {},
     "output_type": "execute_result"
    }
   ],
   "source": [
    "result2_df[['City', 'State', 'FPR']]"
   ]
  },
  {
   "cell_type": "code",
   "execution_count": 69,
   "metadata": {},
   "outputs": [
    {
     "data": {
      "image/png": "[encoded data removed]",
      "text/plain": [
       "<Figure size 1008x720 with 1 Axes>"
      ]
     },
     "metadata": {
      "needs_background": "light"
     },
     "output_type": "display_data"
    }
   ],
   "source": [
    "plt.rcParams['figure.figsize'] = [14, 10]\n",
    "final_sorted.plot(x='Aircraft', y=['Rating Normal', 'Co2 Normal'], kind='bar', stacked=True)\n",
    "\n",
    "plt.show()\n"
   ]
  },
  {
   "cell_type": "code",
   "execution_count": 70,
   "metadata": {},
   "outputs": [],
   "source": [
    "# Group origin and destination pairs for Sankey diagram\n",
    "od_grp = bts_df.groupby(['ORIGIN', 'DEST']).size().sort_values(ascending=False)\n",
    "od_grp_df = od_grp.reset_index(name='count')\n",
    "\n",
    "# Limit origin to top 11 FPR airports\n",
    "od_grp_df = od_grp_df[od_grp_df['ORIGIN'].isin(result2_df['Code'][:11])]\n",
    "\n",
    "# Delete entries with less than 1000 trips\n",
    "od_grp_df.drop(od_grp_df[od_grp_df['count'] < 1000].index, inplace=True)"
   ]
  },
  {
   "cell_type": "code",
   "execution_count": 71,
   "metadata": {},
   "outputs": [],
   "source": [
    "# Write result2_df to excel for use in Tableau\n",
    "\n",
    "writer = pd.ExcelWriter('zippedData/tableau.xlsx')\n",
    "final_sorted.to_excel(writer, 'Sheet1')\n",
    "result2_df.to_excel(writer, 'Sheet2')\n",
    "crash_lite_df.to_excel(writer, 'Sheet3')\n",
    "od_grp_df.to_excel(writer, 'Sheet4')\n",
    "writer.close()"
   ]
  },
  {
   "cell_type": "code",
   "execution_count": null,
   "metadata": {},
   "outputs": [],
   "source": []
  }
 ],
 "metadata": {
  "kernelspec": {
   "display_name": "Python (leanr-env)",
   "language": "python",
   "name": "learn-env"
  },
  "language_info": {
   "codemirror_mode": {
    "name": "ipython",
    "version": 3
   },
   "file_extension": ".py",
   "mimetype": "text/x-python",
   "name": "python",
   "nbconvert_exporter": "python",
   "pygments_lexer": "ipython3",
   "version": "3.8.5"
  }
 },
 "nbformat": 4,
 "nbformat_minor": 4
}
