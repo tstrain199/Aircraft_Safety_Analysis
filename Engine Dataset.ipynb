{
 "cells": [
  {
   "cell_type": "code",
   "execution_count": null,
   "metadata": {},
   "outputs": [],
   "source": [
    "from bs4 import BeautifulSoup \n",
    "import requests"
   ]
  },
  {
   "cell_type": "code",
   "execution_count": null,
   "metadata": {},
   "outputs": [],
   "source": [
    "# Assign URL \n",
    "url = \"https://asn.flightsafety.org/database/engines/\"\n",
    "\n",
    "# Make a GET request to fetch the raw HTML content \n",
    "html_content = requests.get(url).text \n"
   ]
  },
  {
   "cell_type": "code",
   "execution_count": null,
   "metadata": {},
   "outputs": [],
   "source": [
    "# Parse the html content using any parser \n",
    "soup = BeautifulSoup(html_content,\"html.parser\") \n"
   ]
  },
  {
   "cell_type": "code",
   "execution_count": null,
   "metadata": {},
   "outputs": [],
   "source": [
    "# The data we need are wrapped in <a> tags. Grab all the <a> tags here and we'll filter later.\n",
    "datas = soup.find_all(\"a\")"
   ]
  },
  {
   "cell_type": "code",
   "execution_count": null,
   "metadata": {},
   "outputs": [],
   "source": [
    "k = []\n",
    "v = []\n",
    "for item in datas:\n",
    "    if 'engine' in item['href']:\n",
    "        k.append(item['href'])\n",
    "        v.append(item.text)"
   ]
  },
  {
   "cell_type": "code",
   "execution_count": null,
   "metadata": {},
   "outputs": [],
   "source": [
    "lookup_dict = {'URL': k, 'Engine': v}"
   ]
  },
  {
   "cell_type": "code",
   "execution_count": null,
   "metadata": {
    "scrolled": false
   },
   "outputs": [],
   "source": [
    "lookup_dict"
   ]
  },
  {
   "cell_type": "code",
   "execution_count": null,
   "metadata": {},
   "outputs": [],
   "source": [
    "import pandas as pd"
   ]
  },
  {
   "cell_type": "code",
   "execution_count": null,
   "metadata": {},
   "outputs": [],
   "source": [
    "df = pd.DataFrame.from_dict(lookup_dict)"
   ]
  },
  {
   "cell_type": "code",
   "execution_count": null,
   "metadata": {},
   "outputs": [],
   "source": [
    "df"
   ]
  },
  {
   "cell_type": "code",
   "execution_count": 157,
   "metadata": {},
   "outputs": [],
   "source": [
    "url_p1 = 'https://asn.flightsafety.org'\n",
    "def lookup_ac(url_p2):\n",
    "    return_list = []\n",
    "    url = f'{url_p1}{url_p2}'\n",
    "    sub_content = requests.get(url).text\n",
    "    soup2 = BeautifulSoup(sub_content,\"html.parser\")\n",
    "    u_list=soup2.find_all('ul')[1]\n",
    "    i = 0 \n",
    "    while i < len(u_list.select('li')):\n",
    "        (u_list.select('li')[i].text)\n",
    "        return_list.append(u_list.select('li')[i].text)\n",
    "        i += 1\n",
    "    return(return_list)"
   ]
  },
  {
   "cell_type": "code",
   "execution_count": 158,
   "metadata": {},
   "outputs": [],
   "source": [
    "df['Models'] = df['URL'].map(lookup_ac)"
   ]
  },
  {
   "cell_type": "code",
   "execution_count": 155,
   "metadata": {},
   "outputs": [],
   "source": [
    "#df = df.drop('Models', axis=1)"
   ]
  },
  {
   "cell_type": "code",
   "execution_count": 159,
   "metadata": {},
   "outputs": [
    {
     "data": {
      "text/html": [
       "<div>\n",
       "<style scoped>\n",
       "    .dataframe tbody tr th:only-of-type {\n",
       "        vertical-align: middle;\n",
       "    }\n",
       "\n",
       "    .dataframe tbody tr th {\n",
       "        vertical-align: top;\n",
       "    }\n",
       "\n",
       "    .dataframe thead th {\n",
       "        text-align: right;\n",
       "    }\n",
       "</style>\n",
       "<table border=\"1\" class=\"dataframe\">\n",
       "  <thead>\n",
       "    <tr style=\"text-align: right;\">\n",
       "      <th></th>\n",
       "      <th>URL</th>\n",
       "      <th>Engine</th>\n",
       "      <th>Models</th>\n",
       "    </tr>\n",
       "  </thead>\n",
       "  <tbody>\n",
       "    <tr>\n",
       "      <th>0</th>\n",
       "      <td>/database/engine/AL-250</td>\n",
       "      <td>Allison 250</td>\n",
       "      <td>[Britten-Norman BN-2 Islander, GAF Nomad]</td>\n",
       "    </tr>\n",
       "    <tr>\n",
       "      <th>1</th>\n",
       "      <td>/database/engine/AL-501</td>\n",
       "      <td>Allison 501</td>\n",
       "      <td>[Aero Spacelines Mini Guppy Turbine, Convair C...</td>\n",
       "    </tr>\n",
       "    <tr>\n",
       "      <th>2</th>\n",
       "      <td>/database/engine/AL-2100</td>\n",
       "      <td>Allison AE2100</td>\n",
       "      <td>[Lockheed C-130 Hercules, SAAB 2000]</td>\n",
       "    </tr>\n",
       "    <tr>\n",
       "      <th>3</th>\n",
       "      <td>/database/engine/AL-3007</td>\n",
       "      <td>Allison AE3007</td>\n",
       "      <td>[Cessna 750 Citation X, Embraer ERJ-135, Embra...</td>\n",
       "    </tr>\n",
       "    <tr>\n",
       "      <th>4</th>\n",
       "      <td>/database/engine/AV-LEON</td>\n",
       "      <td>Alvis Leonides</td>\n",
       "      <td>[Scottish Aviation Twin Pioneer]</td>\n",
       "    </tr>\n",
       "    <tr>\n",
       "      <th>...</th>\n",
       "      <td>...</td>\n",
       "      <td>...</td>\n",
       "      <td>...</td>\n",
       "    </tr>\n",
       "    <tr>\n",
       "      <th>141</th>\n",
       "      <td>/database/engine/WR-R1820</td>\n",
       "      <td>Wright R-1820</td>\n",
       "      <td>[Boeing B-17 Flying Fortress, Boeing S.307 Str...</td>\n",
       "    </tr>\n",
       "    <tr>\n",
       "      <th>142</th>\n",
       "      <td>/database/engine/WR-R2600</td>\n",
       "      <td>Wright R-2600</td>\n",
       "      <td>[Boeing 314, Chase YC-122 Avitruc, Consolidate...</td>\n",
       "    </tr>\n",
       "    <tr>\n",
       "      <th>143</th>\n",
       "      <td>/database/engine/WR-R3350</td>\n",
       "      <td>Wright R-3350</td>\n",
       "      <td>[Canadair CP-107 Argus, Douglas DC-7, Fairchil...</td>\n",
       "    </tr>\n",
       "    <tr>\n",
       "      <th>144</th>\n",
       "      <td>/database/engine/WR-R975</td>\n",
       "      <td>Wright R-975</td>\n",
       "      <td>[Ford Tri-Motor]</td>\n",
       "    </tr>\n",
       "    <tr>\n",
       "      <th>145</th>\n",
       "      <td>/database/engine/ZH-WJ6</td>\n",
       "      <td>Zhuzhou WJ6</td>\n",
       "      <td>[Antonov An-12]</td>\n",
       "    </tr>\n",
       "  </tbody>\n",
       "</table>\n",
       "<p>146 rows × 3 columns</p>\n",
       "</div>"
      ],
      "text/plain": [
       "                           URL          Engine   \n",
       "0      /database/engine/AL-250     Allison 250  \\\n",
       "1      /database/engine/AL-501     Allison 501   \n",
       "2     /database/engine/AL-2100  Allison AE2100   \n",
       "3     /database/engine/AL-3007  Allison AE3007   \n",
       "4     /database/engine/AV-LEON  Alvis Leonides   \n",
       "..                         ...             ...   \n",
       "141  /database/engine/WR-R1820   Wright R-1820   \n",
       "142  /database/engine/WR-R2600   Wright R-2600   \n",
       "143  /database/engine/WR-R3350   Wright R-3350   \n",
       "144   /database/engine/WR-R975    Wright R-975   \n",
       "145    /database/engine/ZH-WJ6     Zhuzhou WJ6   \n",
       "\n",
       "                                                Models  \n",
       "0            [Britten-Norman BN-2 Islander, GAF Nomad]  \n",
       "1    [Aero Spacelines Mini Guppy Turbine, Convair C...  \n",
       "2                 [Lockheed C-130 Hercules, SAAB 2000]  \n",
       "3    [Cessna 750 Citation X, Embraer ERJ-135, Embra...  \n",
       "4                     [Scottish Aviation Twin Pioneer]  \n",
       "..                                                 ...  \n",
       "141  [Boeing B-17 Flying Fortress, Boeing S.307 Str...  \n",
       "142  [Boeing 314, Chase YC-122 Avitruc, Consolidate...  \n",
       "143  [Canadair CP-107 Argus, Douglas DC-7, Fairchil...  \n",
       "144                                   [Ford Tri-Motor]  \n",
       "145                                    [Antonov An-12]  \n",
       "\n",
       "[146 rows x 3 columns]"
      ]
     },
     "execution_count": 159,
     "metadata": {},
     "output_type": "execute_result"
    }
   ],
   "source": [
    "df"
   ]
  },
  {
   "cell_type": "code",
   "execution_count": null,
   "metadata": {},
   "outputs": [],
   "source": []
  },
  {
   "cell_type": "code",
   "execution_count": null,
   "metadata": {},
   "outputs": [],
   "source": []
  },
  {
   "cell_type": "code",
   "execution_count": null,
   "metadata": {},
   "outputs": [],
   "source": []
  }
 ],
 "metadata": {
  "kernelspec": {
   "display_name": "Python 3",
   "language": "python",
   "name": "python3"
  },
  "language_info": {
   "codemirror_mode": {
    "name": "ipython",
    "version": 3
   },
   "file_extension": ".py",
   "mimetype": "text/x-python",
   "name": "python",
   "nbconvert_exporter": "python",
   "pygments_lexer": "ipython3",
   "version": "3.8.5"
  }
 },
 "nbformat": 4,
 "nbformat_minor": 4
}
