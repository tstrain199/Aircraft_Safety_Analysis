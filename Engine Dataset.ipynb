{
 "cells": [
  {
   "cell_type": "code",
   "execution_count": 5,
   "metadata": {},
   "outputs": [],
   "source": [
    "from bs4 import BeautifulSoup \n",
    "import requests\n",
    "import pickle \n",
    "import pandas as pd"
   ]
  },
  {
   "cell_type": "code",
   "execution_count": 6,
   "metadata": {},
   "outputs": [],
   "source": [
    "# Assign URL \n",
    "url = \"https://asn.flightsafety.org/database/engines/\"\n",
    "\n",
    "# Make a GET request to fetch the raw HTML content \n",
    "html_content = requests.get(url).text \n"
   ]
  },
  {
   "cell_type": "code",
   "execution_count": 7,
   "metadata": {},
   "outputs": [],
   "source": [
    "# Parse the response with html.parser\n",
    "soup = BeautifulSoup(html_content,\"html.parser\") \n"
   ]
  },
  {
   "cell_type": "code",
   "execution_count": 8,
   "metadata": {},
   "outputs": [],
   "source": [
    "# The data we need are wrapped in <a> tags. Grab all the <a> tags here and we'll filter later.\n",
    "datas = soup.find_all(\"a\")"
   ]
  },
  {
   "cell_type": "code",
   "execution_count": 9,
   "metadata": {},
   "outputs": [],
   "source": [
    "#Make list of URLs and list oF Aircraft to create dictionary\n",
    "k = []\n",
    "v = []\n",
    "for item in datas:\n",
    "    if 'engine' in item['href']:\n",
    "        k.append(item['href'])\n",
    "        v.append(item.text)\n",
    "\n",
    "lookup_dict = {'URL': k, 'Engine': v}"
   ]
  },
  {
   "cell_type": "code",
   "execution_count": 10,
   "metadata": {},
   "outputs": [],
   "source": [
    "url_df = pd.DataFrame.from_dict(lookup_dict)"
   ]
  },
  {
   "cell_type": "code",
   "execution_count": 11,
   "metadata": {},
   "outputs": [],
   "source": [
    "with open('lookup_dict.pkl', 'wb') as f:\n",
    "    pickle.dump(lookup_dict, f)"
   ]
  },
  {
   "cell_type": "code",
   "execution_count": null,
   "metadata": {},
   "outputs": [],
   "source": [
    "#with open('zippedData/lookup_dict.pkl', 'rb') as f:\n",
    "    #lookup_dict = pickle.load(f)"
   ]
  },
  {
   "cell_type": "code",
   "execution_count": 12,
   "metadata": {},
   "outputs": [],
   "source": [
    "# Take in the engine and retriev the matching data page with Aircraft data\n",
    "# Add Aircraft list from web a python list.\n",
    "# Return the python list\n",
    "url_p1 = 'https://asn.flightsafety.org'\n",
    "def lookup_ac(url_p2):\n",
    "    return_list = []\n",
    "    url = f'{url_p1}{url_p2}'\n",
    "    sub_content = requests.get(url).text\n",
    "    soup2 = BeautifulSoup(sub_content,\"html.parser\")\n",
    "    u_list=soup2.find_all('ul')[1]\n",
    "    i = 0 \n",
    "    while i < len(u_list.select('li')):\n",
    "        (u_list.select('li')[i].text)\n",
    "        return_list.append(u_list.select('li')[i].text)\n",
    "        i += 1\n",
    "    return(return_list)"
   ]
  },
  {
   "cell_type": "code",
   "execution_count": 13,
   "metadata": {},
   "outputs": [],
   "source": [
    "# Create Aircraft column to list aircraft for each engine.\n",
    "url_df['Aircraft'] = url_df['URL'].map(lookup_ac)"
   ]
  },
  {
   "cell_type": "code",
   "execution_count": 15,
   "metadata": {},
   "outputs": [],
   "source": [
    "# Save df to pickle file.\n",
    "url_df.to_pickle('zippedData/url_df.pkl')"
   ]
  },
  {
   "cell_type": "code",
   "execution_count": 16,
   "metadata": {},
   "outputs": [],
   "source": [
    "# Create a row for each aircraft for each engine. \n",
    "# Iterate through url_df['Aircraft'] column. For each element\n",
    "# in list, create a new row.\n",
    "\n",
    "engines = []\n",
    "aircraft = []\n",
    "for idx, row in url_df.iterrows():\n",
    "    for ac in row['Aircraft']:\n",
    "        engines.append(row['Engine'])\n",
    "        aircraft.append(ac)\n",
    "        \n"
   ]
  },
  {
   "cell_type": "code",
   "execution_count": 17,
   "metadata": {},
   "outputs": [],
   "source": [
    "ac_eng_dict = {'Engine': engines, 'Aircraft': aircraft}"
   ]
  },
  {
   "cell_type": "code",
   "execution_count": 18,
   "metadata": {},
   "outputs": [],
   "source": [
    "engines_df = pd.DataFrame.from_dict(ac_eng_dict)"
   ]
  },
  {
   "cell_type": "code",
   "execution_count": 20,
   "metadata": {},
   "outputs": [],
   "source": [
    "engines_df['Aircraft'].replace('-', '', inplace=True, regex=True)\n",
    "engines_df['Aircraft'].replace('/', '', inplace=True, regex=True)"
   ]
  },
  {
   "cell_type": "code",
   "execution_count": 21,
   "metadata": {},
   "outputs": [],
   "source": [
    "engines_df.drop_duplicates(inplace=True)"
   ]
  },
  {
   "cell_type": "code",
   "execution_count": 22,
   "metadata": {},
   "outputs": [],
   "source": [
    "def get_short_name(model):\n",
    "    m_string = model.split(' ')\n",
    "    if len(m_string) == 1:\n",
    "        return(m_string[0])\n",
    "    else:\n",
    "        return(m_string[1])\n",
    "    "
   ]
  },
  {
   "cell_type": "code",
   "execution_count": null,
   "metadata": {},
   "outputs": [],
   "source": [
    "''' \n",
    "This function will \n",
    "1) take in a model string from bts_map_df \n",
    "2) match it with a newmodel from engines_df\n",
    "3) update engines_df with new_model column\n",
    "TODO: Replace with faster version.\n",
    "'''\n",
    "def match_types(model):\n",
    "    for newmodel in engines_df['Model']:\n",
    "        if model.startswith(newmodel):\n",
    "            #print(f'Processing: {model} \\t:{newmodel}')\n",
    "            return newmodel"
   ]
  },
  {
   "cell_type": "code",
   "execution_count": 23,
   "metadata": {},
   "outputs": [],
   "source": [
    "# Read data from Aircraft_Safety dataset\n",
    "bts_map_df = pd.read_excel('zippedData/bts_actype.2.xlsx')\n"
   ]
  },
  {
   "cell_type": "code",
   "execution_count": 24,
   "metadata": {},
   "outputs": [
    {
     "data": {
      "text/html": [
       "<div>\n",
       "<style scoped>\n",
       "    .dataframe tbody tr th:only-of-type {\n",
       "        vertical-align: middle;\n",
       "    }\n",
       "\n",
       "    .dataframe tbody tr th {\n",
       "        vertical-align: top;\n",
       "    }\n",
       "\n",
       "    .dataframe thead th {\n",
       "        text-align: right;\n",
       "    }\n",
       "</style>\n",
       "<table border=\"1\" class=\"dataframe\">\n",
       "  <thead>\n",
       "    <tr style=\"text-align: right;\">\n",
       "      <th></th>\n",
       "      <th>Unnamed: 0</th>\n",
       "      <th>Description</th>\n",
       "      <th>Model</th>\n",
       "    </tr>\n",
       "  </thead>\n",
       "  <tbody>\n",
       "    <tr>\n",
       "      <th>0</th>\n",
       "      <td>0</td>\n",
       "      <td>Boeing 757-200</td>\n",
       "      <td>757</td>\n",
       "    </tr>\n",
       "    <tr>\n",
       "      <th>1</th>\n",
       "      <td>72814</td>\n",
       "      <td>Pilatus PC-12</td>\n",
       "      <td>PC12</td>\n",
       "    </tr>\n",
       "    <tr>\n",
       "      <th>2</th>\n",
       "      <td>98137</td>\n",
       "      <td>Cessna Citation X Model 650/550B/550XL</td>\n",
       "      <td>CitationX</td>\n",
       "    </tr>\n",
       "    <tr>\n",
       "      <th>3</th>\n",
       "      <td>99813</td>\n",
       "      <td>Boeing 737-400</td>\n",
       "      <td>737</td>\n",
       "    </tr>\n",
       "    <tr>\n",
       "      <th>4</th>\n",
       "      <td>120190</td>\n",
       "      <td>Boeing 737-300</td>\n",
       "      <td>737</td>\n",
       "    </tr>\n",
       "    <tr>\n",
       "      <th>...</th>\n",
       "      <td>...</td>\n",
       "      <td>...</td>\n",
       "      <td>...</td>\n",
       "    </tr>\n",
       "    <tr>\n",
       "      <th>182</th>\n",
       "      <td>2018715</td>\n",
       "      <td>Boeing 747-200/300</td>\n",
       "      <td>747</td>\n",
       "    </tr>\n",
       "    <tr>\n",
       "      <th>183</th>\n",
       "      <td>2018731</td>\n",
       "      <td>Cessna 180A/B</td>\n",
       "      <td>180</td>\n",
       "    </tr>\n",
       "    <tr>\n",
       "      <th>184</th>\n",
       "      <td>2018733</td>\n",
       "      <td>Gulfstream Aerospace G500C</td>\n",
       "      <td>G500</td>\n",
       "    </tr>\n",
       "    <tr>\n",
       "      <th>185</th>\n",
       "      <td>2018734</td>\n",
       "      <td>Gulfstream Aerospace Gulfstream G600</td>\n",
       "      <td>G500</td>\n",
       "    </tr>\n",
       "    <tr>\n",
       "      <th>186</th>\n",
       "      <td>2018742</td>\n",
       "      <td>Raytheon Beechcraft Hawker 900XP</td>\n",
       "      <td>900XP</td>\n",
       "    </tr>\n",
       "  </tbody>\n",
       "</table>\n",
       "<p>187 rows × 3 columns</p>\n",
       "</div>"
      ],
      "text/plain": [
       "     Unnamed: 0                             Description      Model\n",
       "0             0                          Boeing 757-200        757\n",
       "1         72814                           Pilatus PC-12       PC12\n",
       "2         98137  Cessna Citation X Model 650/550B/550XL  CitationX\n",
       "3         99813                          Boeing 737-400        737\n",
       "4        120190                          Boeing 737-300        737\n",
       "..          ...                                     ...        ...\n",
       "182     2018715                      Boeing 747-200/300        747\n",
       "183     2018731                           Cessna 180A/B        180\n",
       "184     2018733              Gulfstream Aerospace G500C       G500\n",
       "185     2018734    Gulfstream Aerospace Gulfstream G600       G500\n",
       "186     2018742        Raytheon Beechcraft Hawker 900XP      900XP\n",
       "\n",
       "[187 rows x 3 columns]"
      ]
     },
     "execution_count": 24,
     "metadata": {},
     "output_type": "execute_result"
    }
   ],
   "source": [
    "bts_map_df"
   ]
  },
  {
   "cell_type": "code",
   "execution_count": 26,
   "metadata": {},
   "outputs": [],
   "source": [
    "engines_df['Model'] = [get_short_name(model) for model in engines_df['Aircraft']]"
   ]
  },
  {
   "cell_type": "code",
   "execution_count": 27,
   "metadata": {},
   "outputs": [
    {
     "data": {
      "text/plain": [
       "Index(['Engine', 'Aircraft', 'Model'], dtype='object')"
      ]
     },
     "execution_count": 27,
     "metadata": {},
     "output_type": "execute_result"
    }
   ],
   "source": [
    "engines_df.columns"
   ]
  },
  {
   "cell_type": "code",
   "execution_count": 28,
   "metadata": {},
   "outputs": [
    {
     "data": {
      "text/html": [
       "<div>\n",
       "<style scoped>\n",
       "    .dataframe tbody tr th:only-of-type {\n",
       "        vertical-align: middle;\n",
       "    }\n",
       "\n",
       "    .dataframe tbody tr th {\n",
       "        vertical-align: top;\n",
       "    }\n",
       "\n",
       "    .dataframe thead th {\n",
       "        text-align: right;\n",
       "    }\n",
       "</style>\n",
       "<table border=\"1\" class=\"dataframe\">\n",
       "  <thead>\n",
       "    <tr style=\"text-align: right;\">\n",
       "      <th></th>\n",
       "      <th>Engine</th>\n",
       "      <th>Aircraft</th>\n",
       "      <th>Model</th>\n",
       "    </tr>\n",
       "  </thead>\n",
       "  <tbody>\n",
       "    <tr>\n",
       "      <th>0</th>\n",
       "      <td>Allison 250</td>\n",
       "      <td>BrittenNorman BN2 Islander</td>\n",
       "      <td>BN2</td>\n",
       "    </tr>\n",
       "    <tr>\n",
       "      <th>1</th>\n",
       "      <td>Allison 250</td>\n",
       "      <td>GAF Nomad</td>\n",
       "      <td>Nomad</td>\n",
       "    </tr>\n",
       "    <tr>\n",
       "      <th>2</th>\n",
       "      <td>Allison 501</td>\n",
       "      <td>Aero Spacelines Mini Guppy Turbine</td>\n",
       "      <td>Spacelines</td>\n",
       "    </tr>\n",
       "    <tr>\n",
       "      <th>3</th>\n",
       "      <td>Allison 501</td>\n",
       "      <td>Convair CV580</td>\n",
       "      <td>CV580</td>\n",
       "    </tr>\n",
       "    <tr>\n",
       "      <th>4</th>\n",
       "      <td>Allison 501</td>\n",
       "      <td>Lockheed C130 Hercules</td>\n",
       "      <td>C130</td>\n",
       "    </tr>\n",
       "    <tr>\n",
       "      <th>...</th>\n",
       "      <td>...</td>\n",
       "      <td>...</td>\n",
       "      <td>...</td>\n",
       "    </tr>\n",
       "    <tr>\n",
       "      <th>461</th>\n",
       "      <td>Wright R-3350</td>\n",
       "      <td>Lockheed P2 Neptune</td>\n",
       "      <td>P2</td>\n",
       "    </tr>\n",
       "    <tr>\n",
       "      <th>462</th>\n",
       "      <td>Wright R-3350</td>\n",
       "      <td>Martin Mars</td>\n",
       "      <td>Mars</td>\n",
       "    </tr>\n",
       "    <tr>\n",
       "      <th>463</th>\n",
       "      <td>Wright R-3350</td>\n",
       "      <td>Martin P5M Marlin</td>\n",
       "      <td>P5M</td>\n",
       "    </tr>\n",
       "    <tr>\n",
       "      <th>464</th>\n",
       "      <td>Wright R-975</td>\n",
       "      <td>Ford TriMotor</td>\n",
       "      <td>TriMotor</td>\n",
       "    </tr>\n",
       "    <tr>\n",
       "      <th>465</th>\n",
       "      <td>Zhuzhou WJ6</td>\n",
       "      <td>Antonov An12</td>\n",
       "      <td>An12</td>\n",
       "    </tr>\n",
       "  </tbody>\n",
       "</table>\n",
       "<p>465 rows × 3 columns</p>\n",
       "</div>"
      ],
      "text/plain": [
       "            Engine                            Aircraft       Model\n",
       "0      Allison 250          BrittenNorman BN2 Islander         BN2\n",
       "1      Allison 250                           GAF Nomad       Nomad\n",
       "2      Allison 501  Aero Spacelines Mini Guppy Turbine  Spacelines\n",
       "3      Allison 501                       Convair CV580       CV580\n",
       "4      Allison 501              Lockheed C130 Hercules        C130\n",
       "..             ...                                 ...         ...\n",
       "461  Wright R-3350                 Lockheed P2 Neptune          P2\n",
       "462  Wright R-3350                         Martin Mars        Mars\n",
       "463  Wright R-3350                   Martin P5M Marlin         P5M\n",
       "464   Wright R-975                       Ford TriMotor    TriMotor\n",
       "465    Zhuzhou WJ6                        Antonov An12        An12\n",
       "\n",
       "[465 rows x 3 columns]"
      ]
     },
     "execution_count": 28,
     "metadata": {},
     "output_type": "execute_result"
    }
   ],
   "source": [
    "engines_df"
   ]
  },
  {
   "cell_type": "code",
   "execution_count": null,
   "metadata": {},
   "outputs": [],
   "source": []
  }
 ],
 "metadata": {
  "kernelspec": {
   "display_name": "Python 3",
   "language": "python",
   "name": "python3"
  },
  "language_info": {
   "codemirror_mode": {
    "name": "ipython",
    "version": 3
   },
   "file_extension": ".py",
   "mimetype": "text/x-python",
   "name": "python",
   "nbconvert_exporter": "python",
   "pygments_lexer": "ipython3",
   "version": "3.8.5"
  }
 },
 "nbformat": 4,
 "nbformat_minor": 4
}
